{
  "nbformat": 4,
  "nbformat_minor": 0,
  "metadata": {
    "colab": {
      "name": "0264_Q7.ipynb",
      "provenance": [],
      "collapsed_sections": [],
      "toc_visible": true
    },
    "kernelspec": {
      "name": "python3",
      "display_name": "Python 3"
    },
    "language_info": {
      "name": "python"
    }
  },
  "cells": [
    {
      "cell_type": "markdown",
      "metadata": {
        "id": "UZP_nbqf8zBw"
      },
      "source": [
        "IMPORTING IMPORTANT LIBRARIES"
      ]
    },
    {
      "cell_type": "code",
      "metadata": {
        "id": "Hhk9keQOKFV1"
      },
      "source": [
        "import numpy as np\n",
        "import pandas as pd\n",
        "import matplotlib as mpl\n",
        "import matplotlib.pyplot as plt"
      ],
      "execution_count": null,
      "outputs": []
    },
    {
      "cell_type": "markdown",
      "metadata": {
        "id": "sQyxZ7HY85cs"
      },
      "source": [
        "MOUNTING DRIVE"
      ]
    },
    {
      "cell_type": "code",
      "metadata": {
        "colab": {
          "base_uri": "https://localhost:8080/"
        },
        "id": "XFZ8WSk-Kz5r",
        "outputId": "88cc63cb-fe9e-472b-e805-002c54c83c6e"
      },
      "source": [
        "from google.colab import drive\n",
        "drive.mount(\"/content/gdrive\")"
      ],
      "execution_count": null,
      "outputs": [
        {
          "output_type": "stream",
          "name": "stdout",
          "text": [
            "Drive already mounted at /content/gdrive; to attempt to forcibly remount, call drive.mount(\"/content/gdrive\", force_remount=True).\n"
          ]
        }
      ]
    },
    {
      "cell_type": "markdown",
      "metadata": {
        "id": "bp-3U-Bzi-m1"
      },
      "source": [
        "FUNCTION DEFINITIONS"
      ]
    },
    {
      "cell_type": "code",
      "metadata": {
        "id": "vJynIp6xAcfS"
      },
      "source": [
        "def sigmoid(z):\n",
        "  return (1/(1 + np.exp(-z)))"
      ],
      "execution_count": null,
      "outputs": []
    },
    {
      "cell_type": "code",
      "metadata": {
        "id": "cndVlNafLNRl"
      },
      "source": [
        "def cost_function_L2(X,y,w,lam):\n",
        "  hypothesis = sigmoid(np.dot(X,w.T))\n",
        "  J = -1 / len(y) * np.sum(y*np.log(hypothesis)+(1-y)*np.log(1-hypothesis)) + lam*np.sum(w**2)/2\n",
        "  return J"
      ],
      "execution_count": null,
      "outputs": []
    },
    {
      "cell_type": "code",
      "metadata": {
        "id": "PHtTFcZuA6d3"
      },
      "source": [
        "def cost_function_L1(X,y,w,lam):\n",
        "  hypothesis = sigmoid(np.dot(X,w.T))\n",
        "  J = -1 / len(y) * np.sum(y*np.log(hypothesis)+(1-y)*np.log(1-hypothesis)) + lam*np.abs(np.sum(w))/2\n",
        "  return J"
      ],
      "execution_count": null,
      "outputs": []
    },
    {
      "cell_type": "code",
      "metadata": {
        "id": "5XqanV7GLOcV"
      },
      "source": [
        "def batch_gradient_descent_L2(X,y,w,alpha,iters,lam):\n",
        "  cost_history = np.zeros(iters)\n",
        "  for i in range(iters):\n",
        "    hypothesis = np.dot(X,w.T)\n",
        "    w = (1-alpha*lam)*w - (alpha/len(y)) * np.dot(hypothesis - y,X)\n",
        "    cost_history[i] = cost_function_L2(X,y,w,lam)\n",
        "  return w,cost_history"
      ],
      "execution_count": null,
      "outputs": []
    },
    {
      "cell_type": "code",
      "metadata": {
        "id": "NpQ_TGiRBTDZ"
      },
      "source": [
        "def batch_gradient_descent_L1(X,y,w,alpha,iters,lam):\n",
        "  cost_history = np.zeros(iters)\n",
        "  for i in range(iters):\n",
        "    hypothesis = np.dot(X,w.T)\n",
        "    w = (1-(np.sign(np.sum(w)))*alpha*lam/2)*w - (alpha/len(y)) * np.dot(hypothesis - y,X)\n",
        "    cost_history[i] = cost_function_L1(X,y,w,lam)\n",
        "  return w,cost_history"
      ],
      "execution_count": null,
      "outputs": []
    },
    {
      "cell_type": "code",
      "metadata": {
        "id": "3tj54vlQLOdz"
      },
      "source": [
        "def mini_batch_gradient_descent_L2(X,y,w,alpha,iters,batch_size,lam):\n",
        "  cost_history = np.zeros(iters)\n",
        "  for i in range(iters):\n",
        "    rand_index = np.random.randint(len(y))\n",
        "    ind_x = X[rand_index:rand_index + batch_size]\n",
        "    ind_y = y[rand_index:rand_index + batch_size]\n",
        "    w = (1-alpha*lam)*w - (alpha/batch_size) * (ind_x.T.dot(ind_x.dot(w) - ind_y))\n",
        "    cost_history[i] = cost_function_L2(ind_x,ind_y,w,lam)\n",
        "  return w,cost_history"
      ],
      "execution_count": null,
      "outputs": []
    },
    {
      "cell_type": "code",
      "metadata": {
        "id": "6PCDfcMUBWFu"
      },
      "source": [
        "def mini_batch_gradient_descent_L1(X,y,w,alpha,iters,batch_size,lam):\n",
        "  cost_history = np.zeros(iters)\n",
        "  for i in range(iters):\n",
        "    rand_index = np.random.randint(len(y))\n",
        "    ind_x = X[rand_index:rand_index + batch_size]\n",
        "    ind_y = y[rand_index:rand_index + batch_size]\n",
        "    w =  (1-np.sign(np.sum(w))*alpha*lam/2)*w - (alpha/batch_size) * (ind_x.T.dot(ind_x.dot(w) - ind_y))\n",
        "    cost_history[i] = cost_function_L1(ind_x,ind_y,w,lam)\n",
        "  return w,cost_history"
      ],
      "execution_count": null,
      "outputs": []
    },
    {
      "cell_type": "code",
      "metadata": {
        "id": "g3LrlL4mSCGw"
      },
      "source": [
        "def stochastic_gradient_descent_L2(X,y,w,alpha,iters,lam):\n",
        "  cost_history = np.zeros(iters)\n",
        "  for i in range(iters):\n",
        "    rand_index = np.random.randint(len(y))\n",
        "    ind_x = X[rand_index:rand_index + 1]\n",
        "    ind_y = y[rand_index:rand_index + 1]\n",
        "    w = (1-alpha*lam)*w - alpha * (ind_x.T.dot(ind_x.dot(w) - ind_y))\n",
        "    cost_history[i] = cost_function_L2(ind_x,ind_y,w,lam)\n",
        "  return w,cost_history"
      ],
      "execution_count": null,
      "outputs": []
    },
    {
      "cell_type": "code",
      "metadata": {
        "id": "9nP-WYB3BZAT"
      },
      "source": [
        "def stochastic_gradient_descent_L1(X,y,w,alpha,iters,lam):\n",
        "  cost_history = np.zeros(iters)\n",
        "  for i in range(iters):\n",
        "    rand_index = np.random.randint(len(y))\n",
        "    ind_x = X[rand_index:rand_index + 1]\n",
        "    ind_y = y[rand_index:rand_index + 1]\n",
        "    w =  (1-np.sign(np.sum(w))*alpha*lam/2)*w - alpha * (ind_x.T.dot(ind_x.dot(w) - ind_y))\n",
        "    cost_history[i] = cost_function_L1(ind_x,ind_y,w,lam)\n",
        "  return w,cost_history"
      ],
      "execution_count": null,
      "outputs": []
    },
    {
      "cell_type": "markdown",
      "metadata": {
        "id": "bnfw35_NjCVC"
      },
      "source": [
        "EVALUATION METRICS"
      ]
    },
    {
      "cell_type": "code",
      "metadata": {
        "id": "semDsM1ll4qO"
      },
      "source": [
        "def mean_squared_error(y_hat,y):\n",
        "  error = (1/len(y)) * np.sum((y_hat - y)**2)\n",
        "  return error"
      ],
      "execution_count": null,
      "outputs": []
    },
    {
      "cell_type": "code",
      "metadata": {
        "id": "7IVNEM8Il4x-"
      },
      "source": [
        "def mean_absolute_error(y_hat,y):\n",
        "  error = (1/len(y)) * np.sum(abs(y_hat - y))\n",
        "  return error"
      ],
      "execution_count": null,
      "outputs": []
    },
    {
      "cell_type": "code",
      "metadata": {
        "id": "XxUfJ4jnl45e"
      },
      "source": [
        "def correlation_coefficient(y_hat,y):\n",
        "  coef = np.sum((y_hat - y_hat.mean())*(y - y.mean()))/(np.sqrt(np.sum((y_hat-y_hat.mean())**2))*np.sqrt(np.sum((y-y.mean())**2)))\n",
        "  return coef"
      ],
      "execution_count": null,
      "outputs": []
    },
    {
      "cell_type": "code",
      "metadata": {
        "id": "R5ilSOdyA3dY"
      },
      "source": [
        "def specs(X_test,y_test,w):  \n",
        "  TN, FN, TP, FP = 0, 0, 0, 0\n",
        "\n",
        "  y_pred = np.dot(X_test, w)\n",
        "  y_pred = sigmoid(y_pred)\n",
        "  y_pred[y_pred > 0.5] = 1\n",
        "  y_pred[y_pred <= 0.5] = 0\n",
        "\n",
        "  TP = np.sum(y_pred * y_test)\n",
        "  FP = np.sum(y_pred * (1-y_test))\n",
        "  FN = np.sum((1-y_pred) * y_test)\n",
        "  TN = np.sum((1-y_pred) * (1-y_test))\n",
        "\n",
        "  sensitivity = TP/(TP + FN + 10**(-12))\n",
        "  specificity = TN/(TN + FP + 10**(-12))\n",
        "  accuracy = (TP + TN)/(TP + TN + FP + FN)*100\n",
        "\n",
        "  return sensitivity, specificity, accuracy"
      ],
      "execution_count": null,
      "outputs": []
    },
    {
      "cell_type": "markdown",
      "metadata": {
        "id": "WIq0QNAi9Cn1"
      },
      "source": [
        "DATA PRE-PROCESSING"
      ]
    },
    {
      "cell_type": "code",
      "metadata": {
        "id": "o6GtNF7SLOe3"
      },
      "source": [
        "from random import Random\n",
        "dataset=pd.read_csv(\"/content/gdrive/MyDrive/NNFL_ASSIGNMENT_1/data_q6_q7.txt\",names=[\"a\", \"b\", \"c\", \"d\", \"e\", \"f\", \"g\", \"output\"],delimiter=\"\\t\",error_bad_lines=False)\n",
        "Random(10).shuffle(dataset.values)\n",
        "dataset.reindex(np.random.permutation(dataset.index))\n",
        "data1 = dataset.dropna()\n",
        "data = data1.reset_index()\n",
        "X = data.drop('output',axis=1)\n",
        "y = data['output']"
      ],
      "execution_count": null,
      "outputs": []
    },
    {
      "cell_type": "code",
      "metadata": {
        "id": "ovf_w75SLOf-"
      },
      "source": [
        "def Normalise(X):\n",
        "  mean = X.mean()\n",
        "  std = np.std(X,axis=0)\n",
        "  m = len(X)\n",
        "  X_norm = (X-mean)/std\n",
        "  X_norm = np.c_[np.ones((m, 1)), X_norm]\n",
        "  return X_norm"
      ],
      "execution_count": null,
      "outputs": []
    },
    {
      "cell_type": "code",
      "metadata": {
        "id": "wY-S1aEsLOhF"
      },
      "source": [
        "w = np.zeros(X.shape[1]+1)"
      ],
      "execution_count": null,
      "outputs": []
    },
    {
      "cell_type": "markdown",
      "metadata": {
        "id": "EB0qUo6Z9IFT"
      },
      "source": [
        "BATCH GRADIENT DESCENT"
      ]
    },
    {
      "cell_type": "markdown",
      "metadata": {
        "id": "DQZVAHg2BWlv"
      },
      "source": [
        "ONE VS ALL CODING"
      ]
    },
    {
      "cell_type": "code",
      "metadata": {
        "id": "qhXIhTNICykR"
      },
      "source": [
        "def create_y1(y):\n",
        "  y1 = np.zeros((len(y),3))\n",
        "  for i in range(1,4):\n",
        "      for j in range(0, len(y)):\n",
        "          if y[j] == i:\n",
        "              y1[j, i-1] = 1\n",
        "          else: \n",
        "              y1[j, i-1] = 0\n",
        "  return y1\n",
        "y1 = create_y1(y)"
      ],
      "execution_count": null,
      "outputs": []
    },
    {
      "cell_type": "code",
      "metadata": {
        "id": "-48WM4kDBVUV"
      },
      "source": [
        "def one_vs_all_batch_L2(X,y):\n",
        "  y1 = create_y1(y)\n",
        "  sensitivity = []\n",
        "  specificity = []\n",
        "  accuracy = []\n",
        "  Cost_values = []\n",
        "  w = np.zeros(X.shape[1]+1)\n",
        "  m = len(y1)\n",
        "  for i in range(2,4):\n",
        "    for j in range(1,3):\n",
        "      if i!=j:\n",
        "        y = y1[:,i-1]\n",
        "        y_train = y[:int(m*0.7)]\n",
        "        y_val = y[int(m*0.7):int(m*0.8)]\n",
        "        y_test = y[int(m*0.8):]\n",
        "        X_train = X[:int(m*0.7)]\n",
        "        X_val = X[int(m*0.7):int(m*0.8)]\n",
        "        X_test = X[int(m*0.8):]\n",
        "        batch_w, J_his_batch = batch_gradient_descent_L2(Normalise(X_train),y_train ,w,0.001,4000,0.001)\n",
        "        y_pred = np.dot(Normalise(X_test), w)\n",
        "        y_pred = sigmoid(y_pred)\n",
        "  \n",
        "        y_pred[y_pred > 0.5] = 1\n",
        "        y_pred[y_pred <= 0.5] = 0\n",
        "        Cost = cost_function_L2(Normalise(X_test),y_test,batch_w,0.01) \n",
        "        Cost_values.append(Cost)\n",
        "        a,b,c = specs(Normalise(X_test),y_test,batch_w) \n",
        "        sensitivity.append(a)\n",
        "        specificity.append(b)\n",
        "        accuracy.append(c)\n",
        "  return Cost_values, sensitivity, specificity, accuracy"
      ],
      "execution_count": null,
      "outputs": []
    },
    {
      "cell_type": "code",
      "metadata": {
        "id": "GRTJqUGfYOKj"
      },
      "source": [
        "def five_fold_batch_L2_all(X,y):\n",
        "  sensitivity = []\n",
        "  specificity = []\n",
        "  accuracy = []\n",
        "  Cost_values = []\n",
        "  w = np.zeros(X.shape[1]+1)\n",
        "  m = len(y)\n",
        "  for i in range(5):\n",
        "    X_test = X[int(i*m*0.2):int((i+1)*m*0.2)]\n",
        "    X_train = pd.concat([X, X_test, X_test]).drop_duplicates(keep=False)\n",
        "    y_test = y[int(i*m*0.2):int((i+1)*m*0.2)]\n",
        "    y_train = y.drop(y_test.index)\n",
        "    y_train = np.asarray(y_train)\n",
        "    a,b,c,d = one_vs_all_batch_L2(X_train ,y_train)\n",
        "    \n",
        "  return a,b,c,d"
      ],
      "execution_count": null,
      "outputs": []
    },
    {
      "cell_type": "code",
      "metadata": {
        "colab": {
          "base_uri": "https://localhost:8080/"
        },
        "id": "C9OrMnl2hBgk",
        "outputId": "3a43c269-bdae-4dce-8178-fa1183240216"
      },
      "source": [
        "Cost_values, sensitivity, specificity, accuracy = five_fold_batch_L2_all(X,y)\n",
        "print('All Cost Values :', Cost_values)\n",
        "print('All accuracies :', accuracy,'%')"
      ],
      "execution_count": null,
      "outputs": [
        {
          "output_type": "stream",
          "name": "stdout",
          "text": [
            "All Cost Values : [0.6179135465370489, 0.6931471805599453, 0.6931471805599453]\n",
            "All accuracies : [84.84848484848484, 93.93939393939394, 93.93939393939394] %\n"
          ]
        }
      ]
    },
    {
      "cell_type": "code",
      "metadata": {
        "colab": {
          "base_uri": "https://localhost:8080/"
        },
        "id": "ia2NgeXwhBgk",
        "outputId": "08d162f8-ea51-4958-b510-fb301856f273"
      },
      "source": [
        "print('Least Cost Value :', min(Cost_values))\n",
        "print('best accuracy :', max(accuracy),'%')"
      ],
      "execution_count": null,
      "outputs": [
        {
          "output_type": "stream",
          "name": "stdout",
          "text": [
            "Least Cost Value : 0.6179135465370489\n",
            "best accuracy : 93.93939393939394 %\n"
          ]
        }
      ]
    },
    {
      "cell_type": "code",
      "metadata": {
        "id": "BPX9zBn_Xw7H"
      },
      "source": [
        "def one_vs_all_batch_L1(X,y):\n",
        "  y1 = create_y1(y)\n",
        "  sensitivity = []\n",
        "  specificity = []\n",
        "  accuracy = []\n",
        "  Cost_values = []\n",
        "  w = np.zeros(X.shape[1]+1)\n",
        "  m = len(y1)\n",
        "  for i in range(2,4):\n",
        "    for j in range(1,3):\n",
        "      if i!=j:\n",
        "        y = y1[:,i-1]\n",
        "        y_train = y[:int(m*0.7)]\n",
        "        y_val = y[int(m*0.7):int(m*0.8)]\n",
        "        y_test = y[int(m*0.8):]\n",
        "        X_train = X[:int(m*0.7)]\n",
        "        X_val = X[int(m*0.7):int(m*0.8)]\n",
        "        X_test = X[int(m*0.8):]\n",
        "        batch_w, J_his_batch = batch_gradient_descent_L1(Normalise(X_train),y_train ,w,0.001,4000,0.001)\n",
        "        y_pred = np.dot(Normalise(X_test), w)\n",
        "        y_pred = sigmoid(y_pred)\n",
        "  \n",
        "        y_pred[y_pred > 0.5] = 1\n",
        "        y_pred[y_pred <= 0.5] = 0\n",
        "        Cost = cost_function_L1(Normalise(X_test),y_test,batch_w,0.01) \n",
        "        Cost_values.append(Cost)\n",
        "        a,b,c = specs(Normalise(X_test),y_test,batch_w) \n",
        "        sensitivity.append(a)\n",
        "        specificity.append(b)\n",
        "        accuracy.append(c)\n",
        "  return Cost_values, sensitivity, specificity, accuracy"
      ],
      "execution_count": null,
      "outputs": []
    },
    {
      "cell_type": "code",
      "metadata": {
        "id": "7J5riOmaaztN"
      },
      "source": [
        "def five_fold_batch_L1_all(X,y):\n",
        "  sensitivity = []\n",
        "  specificity = []\n",
        "  accuracy = []\n",
        "  Cost_values = []\n",
        "  w = np.zeros(X.shape[1]+1)\n",
        "  m = len(y)\n",
        "  for i in range(5):\n",
        "    X_test = X[int(i*m*0.2):int((i+1)*m*0.2)]\n",
        "    X_train = pd.concat([X, X_test, X_test]).drop_duplicates(keep=False)\n",
        "    y_test = y[int(i*m*0.2):int((i+1)*m*0.2)]\n",
        "    y_train = y.drop(y_test.index)\n",
        "    y_train = np.asarray(y_train)\n",
        "    a,b,c,d = one_vs_all_batch_L1(X_train ,y_train)\n",
        "    \n",
        "  return a,b,c,d"
      ],
      "execution_count": null,
      "outputs": []
    },
    {
      "cell_type": "code",
      "metadata": {
        "colab": {
          "base_uri": "https://localhost:8080/"
        },
        "id": "8xG5ssVRkPA2",
        "outputId": "c33cca86-1f60-4c80-b030-337c42e23b8a"
      },
      "source": [
        "Cost_values, sensitivity, specificity, accuracy = five_fold_batch_L1_all(X,y)\n",
        "print('All Cost Values :', Cost_values)\n",
        "print('All accuracies :', accuracy,'%')"
      ],
      "execution_count": null,
      "outputs": [
        {
          "output_type": "stream",
          "name": "stdout",
          "text": [
            "All Cost Values : [0.6195026220661494, 0.6931471805599453, 0.6931471805599453]\n",
            "All accuracies : [84.84848484848484, 93.93939393939394, 93.93939393939394] %\n"
          ]
        }
      ]
    },
    {
      "cell_type": "code",
      "metadata": {
        "colab": {
          "base_uri": "https://localhost:8080/"
        },
        "id": "LM51mqmEkPA4",
        "outputId": "b42d375e-a11e-48bc-8785-15376e958d10"
      },
      "source": [
        "print('Least Cost Value :', min(Cost_values))\n",
        "print('best accuracy :', max(accuracy),'%')"
      ],
      "execution_count": null,
      "outputs": [
        {
          "output_type": "stream",
          "name": "stdout",
          "text": [
            "Least Cost Value : 0.6195026220661494\n",
            "best accuracy : 93.93939393939394 %\n"
          ]
        }
      ]
    },
    {
      "cell_type": "markdown",
      "metadata": {
        "id": "czuJN7aoMlBW"
      },
      "source": [
        "ONE VS ONE CODING"
      ]
    },
    {
      "cell_type": "code",
      "metadata": {
        "id": "1BWezvTvQUHG"
      },
      "source": [
        "#Preparing data for 1 vs 1 multiclass classification\n",
        "train1 = []\n",
        "train2 = []\n",
        "train3 = []\n",
        "label1 = []\n",
        "label2 = []\n",
        "label3 = []\n",
        "train_output = y\n",
        "train = Normalise(X)\n",
        "for i in range(train_output.shape[0]):\n",
        "    if train_output[i] == 1 or train_output[i] == 2:\n",
        "        train1.append(train[i])\n",
        "        if train_output[i] == 1:\n",
        "            label1.append(1)\n",
        "        else:\n",
        "            label1.append(0)\n",
        "for i in range(train_output.shape[0]):\n",
        "    if train_output[i] == 1 or train_output[i] == 3:\n",
        "        train2.append(train[i])\n",
        "        if train_output[i] == 1:\n",
        "            label2.append(1)\n",
        "        else:\n",
        "            label2.append(0)\n",
        "for i in range(train_output.shape[0]):\n",
        "    if train_output[i] == 2 or train_output[i] == 3:\n",
        "        train3.append(train[i])\n",
        "        if train_output[i] == 2:\n",
        "            label3.append(1)\n",
        "        else:\n",
        "            label3.append(0)"
      ],
      "execution_count": null,
      "outputs": []
    },
    {
      "cell_type": "code",
      "metadata": {
        "id": "EnPc6Y9IMAo1"
      },
      "source": [
        "def one_vs_one_batch_L2(X,y):\n",
        "  sensitivity = []\n",
        "  specificity = []\n",
        "  accuracy = []\n",
        "  Cost_values = []\n",
        "  w = np.zeros(X.shape[1])\n",
        "  m = len(y)\n",
        "  \n",
        "\n",
        "  y_train = y[:int(m*0.7)]\n",
        "  y_val = y[int(m*0.7):int(m*0.8)]\n",
        "  y_test = y[int(m*0.8):]\n",
        "  X_train = X[:int(m*0.7)]\n",
        "  X_val = X[int(m*0.7):int(m*0.8)]\n",
        "  X_test = X[int(m*0.8):]\n",
        "  batch_w, J_his_batch = batch_gradient_descent_L2(X_train,y_train ,w,0.001,4000,0.001)\n",
        "  y_pred = np.dot(X_test, w)\n",
        "  y_pred = sigmoid(y_pred)\n",
        "  y_pred[y_pred > 0.5] = 1\n",
        "  y_pred[y_pred <= 0.5] = 0\n",
        "  Cost = cost_function_L2(X_test,y_test,batch_w,0.01) \n",
        "  Cost_values.append(Cost)\n",
        "  a,b,c = specs(X_test,y_test,batch_w) \n",
        "  sensitivity.append(a)\n",
        "  specificity.append(b)\n",
        "  accuracy.append(c)\n",
        "  return Cost_values, sensitivity, specificity, accuracy"
      ],
      "execution_count": null,
      "outputs": []
    },
    {
      "cell_type": "code",
      "metadata": {
        "id": "GxTSOmBWXpe2"
      },
      "source": [
        "def one_vs_one_batch_L1(X,y):\n",
        "  sensitivity = []\n",
        "  specificity = []\n",
        "  accuracy = []\n",
        "  Cost_values = []\n",
        "  w = np.zeros(X.shape[1])\n",
        "  m = len(y)\n",
        "  \n",
        "\n",
        "  y_train = y[:int(m*0.7)]\n",
        "  y_val = y[int(m*0.7):int(m*0.8)]\n",
        "  y_test = y[int(m*0.8):]\n",
        "  X_train = X[:int(m*0.7)]\n",
        "  X_val = X[int(m*0.7):int(m*0.8)]\n",
        "  X_test = X[int(m*0.8):]\n",
        "  batch_w, J_his_batch = batch_gradient_descent_L1(X_train,y_train ,w,0.001,4000,0.001)\n",
        "  y_pred = np.dot(X_test, w)\n",
        "  y_pred = sigmoid(y_pred)\n",
        "  y_pred[y_pred > 0.5] = 1\n",
        "  y_pred[y_pred <= 0.5] = 0\n",
        "  Cost = cost_function_L1(X_test,y_test,batch_w,0.01) \n",
        "  Cost_values.append(Cost)\n",
        "  a,b,c = specs(X_test,y_test,batch_w) \n",
        "  sensitivity.append(a)\n",
        "  specificity.append(b)\n",
        "  accuracy.append(c)\n",
        "  return Cost_values, sensitivity, specificity, accuracy"
      ],
      "execution_count": null,
      "outputs": []
    },
    {
      "cell_type": "code",
      "metadata": {
        "id": "hunaAqqKbIXo"
      },
      "source": [
        "def five_fold_batch_L2_one(X,y):\n",
        "  sensitivity = []\n",
        "  specificity = []\n",
        "  accuracy = []\n",
        "  Cost_values = []\n",
        "  w = np.zeros(X.shape[1]+1)\n",
        "  m = len(y)\n",
        "  for i in range(5):\n",
        "    X_test = X[int(i*m*0.2):int((i+1)*m*0.2)]\n",
        "    X_train = pd.concat([X, X_test, X_test]).drop_duplicates(keep=False)\n",
        "    y_test = y[int(i*m*0.2):int((i+1)*m*0.2)]\n",
        "    y_train = y.drop(y_test.index)\n",
        "    y_train = np.asarray(y_train)\n",
        "    a,b,c,d = one_vs_one_batch_L2(X_train ,y_train)\n",
        "    \n",
        "  return a,b,c,d"
      ],
      "execution_count": null,
      "outputs": []
    },
    {
      "cell_type": "code",
      "metadata": {
        "id": "tcdqngZYbIc3"
      },
      "source": [
        "def five_fold_batch_L1_one(X,y):\n",
        "  sensitivity = []\n",
        "  specificity = []\n",
        "  accuracy = []\n",
        "  Cost_values = []\n",
        "  w = np.zeros(X.shape[1]+1)\n",
        "  m = len(y)\n",
        "  for i in range(5):\n",
        "    X_test = X[int(i*m*0.2):int((i+1)*m*0.2)]\n",
        "    X_train = pd.concat([X, X_test, X_test]).drop_duplicates(keep=False)\n",
        "    y_test = y[int(i*m*0.2):int((i+1)*m*0.2)]\n",
        "    y_train = y.drop(y_test.index)\n",
        "    y_train = np.asarray(y_train)\n",
        "    a,b,c,d = one_vs_one_batch_L1(X_train ,y_train)\n",
        "    \n",
        "  return a,b,c,d"
      ],
      "execution_count": null,
      "outputs": []
    },
    {
      "cell_type": "code",
      "metadata": {
        "id": "0UJdlN2t500v"
      },
      "source": [
        "batch_w1_L2, J_his_batch1_L2 = batch_gradient_descent_L2(np.array(train1),np.array(label1) ,w,0.001,4000,0.001)\n",
        "batch_w2_L2, J_his_batch2_L2 = batch_gradient_descent_L2(np.array(train2),np.array(label2) ,w,0.001,4000,0.001)\n",
        "batch_w3_L2, J_his_batch3_L2 = batch_gradient_descent_L2(np.array(train3),np.array(label3) ,w,0.001,4000,0.001)\n",
        "\n",
        "batch_w1_L1, J_his_batch1_L1 = batch_gradient_descent_L1(np.array(train1),np.array(label1) ,w,0.001,4000,0.001)\n",
        "batch_w2_L1, J_his_batch2_L1 = batch_gradient_descent_L1(np.array(train2),np.array(label2) ,w,0.001,4000,0.001)\n",
        "batch_w3_L1, J_his_batch3_L1 = batch_gradient_descent_L1(np.array(train3),np.array(label3) ,w,0.001,4000,0.001)"
      ],
      "execution_count": null,
      "outputs": []
    },
    {
      "cell_type": "code",
      "metadata": {
        "colab": {
          "base_uri": "https://localhost:8080/",
          "height": 266
        },
        "id": "AkqYgmzH6mo_",
        "outputId": "488c4ea5-15f5-4d91-bf90-db57cb5deaa0"
      },
      "source": [
        "plt.plot(range(4000),J_his_batch1_L2)\n",
        "plt.show()"
      ],
      "execution_count": null,
      "outputs": [
        {
          "output_type": "display_data",
          "data": {
            "image/png": "[encoded data removed]",
            "text/plain": [
              "<Figure size 432x288 with 1 Axes>"
            ]
          },
          "metadata": {
            "needs_background": "light"
          }
        }
      ]
    },
    {
      "cell_type": "code",
      "metadata": {
        "colab": {
          "base_uri": "https://localhost:8080/",
          "height": 265
        },
        "id": "QxI3QyjL6w-W",
        "outputId": "3bcc9f59-837a-43ab-9523-dddffb691c91"
      },
      "source": [
        "plt.plot(range(4000),J_his_batch2_L2)\n",
        "plt.show()"
      ],
      "execution_count": null,
      "outputs": [
        {
          "output_type": "display_data",
          "data": {
            "image/png": "[encoded data removed]",
            "text/plain": [
              "<Figure size 432x288 with 1 Axes>"
            ]
          },
          "metadata": {
            "needs_background": "light"
          }
        }
      ]
    },
    {
      "cell_type": "code",
      "metadata": {
        "colab": {
          "base_uri": "https://localhost:8080/",
          "height": 267
        },
        "id": "V1blMUvq6xBu",
        "outputId": "8c2f2222-e802-4b80-c58f-cab1f977b419"
      },
      "source": [
        "plt.plot(range(4000),J_his_batch3_L2)\n",
        "plt.show()"
      ],
      "execution_count": null,
      "outputs": [
        {
          "output_type": "display_data",
          "data": {
            "image/png": "[encoded data removed]",
            "text/plain": [
              "<Figure size 432x288 with 1 Axes>"
            ]
          },
          "metadata": {
            "needs_background": "light"
          }
        }
      ]
    },
    {
      "cell_type": "code",
      "metadata": {
        "colab": {
          "base_uri": "https://localhost:8080/",
          "height": 266
        },
        "id": "E5Y2g40BMlIb",
        "outputId": "74e7566b-9fc7-4f6c-ae42-3d3df90d5402"
      },
      "source": [
        "plt.plot(range(4000),J_his_batch1_L1)\n",
        "plt.show()"
      ],
      "execution_count": null,
      "outputs": [
        {
          "output_type": "display_data",
          "data": {
            "image/png": "[encoded data removed]",
            "text/plain": [
              "<Figure size 432x288 with 1 Axes>"
            ]
          },
          "metadata": {
            "needs_background": "light"
          }
        }
      ]
    },
    {
      "cell_type": "code",
      "metadata": {
        "colab": {
          "base_uri": "https://localhost:8080/",
          "height": 265
        },
        "id": "an-2K_1TMlL4",
        "outputId": "5d7d892e-b8a9-413e-d91e-d7a42c51fe28"
      },
      "source": [
        "plt.plot(range(4000),J_his_batch2_L1)\n",
        "plt.show()"
      ],
      "execution_count": null,
      "outputs": [
        {
          "output_type": "display_data",
          "data": {
            "image/png": "[encoded data removed]",
            "text/plain": [
              "<Figure size 432x288 with 1 Axes>"
            ]
          },
          "metadata": {
            "needs_background": "light"
          }
        }
      ]
    },
    {
      "cell_type": "code",
      "metadata": {
        "colab": {
          "base_uri": "https://localhost:8080/",
          "height": 267
        },
        "id": "evZXs4G9MlQT",
        "outputId": "10bcbdeb-bc09-404f-c047-0a6856eae283"
      },
      "source": [
        "plt.plot(range(4000),J_his_batch3_L1)\n",
        "plt.show()"
      ],
      "execution_count": null,
      "outputs": [
        {
          "output_type": "display_data",
          "data": {
            "image/png": "[encoded data removed]",
            "text/plain": [
              "<Figure size 432x288 with 1 Axes>"
            ]
          },
          "metadata": {
            "needs_background": "light"
          }
        }
      ]
    },
    {
      "cell_type": "code",
      "metadata": {
        "colab": {
          "base_uri": "https://localhost:8080/"
        },
        "id": "GnBJqVyb8WvL",
        "outputId": "223087f0-d9b0-4afa-e593-18e86df4869f"
      },
      "source": [
        "print('[Cost_values]', '[sensitivity]', '[specificity]', '[accuracy] :',five_fold_batch_L2_one(pd.DataFrame(train1),pd.Series(label1)))\n",
        "print('[Cost_values]', '[sensitivity]', '[specificity]', '[accuracy] :',five_fold_batch_L2_one(pd.DataFrame(train2),pd.Series(label2)))\n",
        "print('[Cost_values]', '[sensitivity]', '[specificity]', '[accuracy] :',five_fold_batch_L2_one(pd.DataFrame(train3),pd.Series(label3)))\n",
        "print('[Cost_values]', '[sensitivity]', '[specificity]', '[accuracy] :',five_fold_batch_L1_one(pd.DataFrame(train1),pd.Series(label1)))\n",
        "print('[Cost_values]', '[sensitivity]', '[specificity]', '[accuracy] :',five_fold_batch_L1_one(pd.DataFrame(train2),pd.Series(label2)))\n",
        "print('[Cost_values]', '[sensitivity]', '[specificity]', '[accuracy] :',five_fold_batch_L1_one(pd.DataFrame(train3),pd.Series(label3)))"
      ],
      "execution_count": null,
      "outputs": [
        {
          "output_type": "stream",
          "name": "stdout",
          "text": [
            "[Cost_values] [sensitivity] [specificity] [accuracy] : ([0.5966276859125237], [0.9999999999999333], [0.4374999999999727], [70.96774193548387])\n",
            "[Cost_values] [sensitivity] [specificity] [accuracy] : ([0.4884686833231035], [0.99999999999996], [0.0], [100.0])\n",
            "[Cost_values] [sensitivity] [specificity] [accuracy] : ([0.3877104859358473], [0.999999999999875], [0.0], [80.0])\n",
            "[Cost_values] [sensitivity] [specificity] [accuracy] : ([0.5946788171730927], [0.9999999999999333], [0.4374999999999727], [70.96774193548387])\n",
            "[Cost_values] [sensitivity] [specificity] [accuracy] : ([0.48629129637118684], [0.99999999999996], [0.0], [100.0])\n",
            "[Cost_values] [sensitivity] [specificity] [accuracy] : ([0.39110410866355194], [0.999999999999875], [0.0], [80.0])\n"
          ]
        }
      ]
    },
    {
      "cell_type": "markdown",
      "metadata": {
        "id": "O7mOohWVM7lo"
      },
      "source": [
        "MINI-BATCH GRADIENT DESCENT"
      ]
    },
    {
      "cell_type": "markdown",
      "metadata": {
        "id": "HI-O0CkSOWu2"
      },
      "source": [
        "ONE VS ALL CODING"
      ]
    },
    {
      "cell_type": "code",
      "metadata": {
        "id": "y4zmjf0uOWvR"
      },
      "source": [
        "def one_vs_all_mini_L2(X,y):\n",
        "  y1 = create_y1(y)\n",
        "  sensitivity = []\n",
        "  specificity = []\n",
        "  accuracy = []\n",
        "  Cost_values = []\n",
        "  w = np.zeros(X.shape[1]+1)\n",
        "  m = len(y1)\n",
        "  for i in range(2,4):\n",
        "    for j in range(1,3):\n",
        "      if i!=j:\n",
        "        y = y1[:,i-1]\n",
        "        y_train = y[:int(m*0.7)]\n",
        "        y_val = y[int(m*0.7):int(m*0.8)]\n",
        "        y_test = y[int(m*0.8):]\n",
        "        X_train = X[:int(m*0.7)]\n",
        "        X_val = X[int(m*0.7):int(m*0.8)]\n",
        "        X_test = X[int(m*0.8):]\n",
        "        batch_w, J_his_batch = mini_batch_gradient_descent_L2(Normalise(X_train),y_train ,w,0.001,4000,50,0.001)\n",
        "        y_pred = np.dot(Normalise(X_test), w)\n",
        "        y_pred = sigmoid(y_pred)\n",
        "  \n",
        "        y_pred[y_pred > 0.5] = 1\n",
        "        y_pred[y_pred <= 0.5] = 0\n",
        "        Cost = cost_function_L2(Normalise(X_test),y_test,batch_w,0.01) \n",
        "        Cost_values.append(Cost)\n",
        "        a,b,c = specs(Normalise(X_test),y_test,batch_w) \n",
        "        sensitivity.append(a)\n",
        "        specificity.append(b)\n",
        "        accuracy.append(c)\n",
        "  return Cost_values, sensitivity, specificity, accuracy"
      ],
      "execution_count": null,
      "outputs": []
    },
    {
      "cell_type": "code",
      "metadata": {
        "id": "J_6wflfPOWvS"
      },
      "source": [
        "def five_fold_mini_L2_all(X,y):\n",
        "  sensitivity = []\n",
        "  specificity = []\n",
        "  accuracy = []\n",
        "  Cost_values = []\n",
        "  w = np.zeros(X.shape[1]+1)\n",
        "  m = len(y)\n",
        "  for i in range(5):\n",
        "    X_test = X[int(i*m*0.2):int((i+1)*m*0.2)]\n",
        "    X_train = pd.concat([X, X_test, X_test]).drop_duplicates(keep=False)\n",
        "    y_test = y[int(i*m*0.2):int((i+1)*m*0.2)]\n",
        "    y_train = y.drop(y_test.index)\n",
        "    y_train = np.asarray(y_train)\n",
        "    a,b,c,d = one_vs_all_mini_L2(X_train ,y_train)\n",
        "    \n",
        "  return a,b,c,d"
      ],
      "execution_count": null,
      "outputs": []
    },
    {
      "cell_type": "code",
      "metadata": {
        "colab": {
          "base_uri": "https://localhost:8080/"
        },
        "id": "KKO_tm_Ikar9",
        "outputId": "3594b34e-8a95-4f6c-8b3c-93f84b300599"
      },
      "source": [
        "Cost_values, sensitivity, specificity, accuracy = five_fold_mini_L2_all(X,y)\n",
        "print('All Cost Values :', Cost_values)\n",
        "print('All accuracies :', accuracy,'%')"
      ],
      "execution_count": null,
      "outputs": [
        {
          "output_type": "stream",
          "name": "stdout",
          "text": [
            "All Cost Values : [0.6122108519239832, 0.6931471805599453, 0.6931471805599453]\n",
            "All accuracies : [84.84848484848484, 93.93939393939394, 93.93939393939394] %\n"
          ]
        }
      ]
    },
    {
      "cell_type": "code",
      "metadata": {
        "colab": {
          "base_uri": "https://localhost:8080/"
        },
        "id": "LjEmDZb_kar_",
        "outputId": "924587a6-e293-4935-9c03-ff97740e894b"
      },
      "source": [
        "print('Least Cost Value :', min(Cost_values))\n",
        "print('best accuracy :', max(accuracy),'%')"
      ],
      "execution_count": null,
      "outputs": [
        {
          "output_type": "stream",
          "name": "stdout",
          "text": [
            "Least Cost Value : 0.6122108519239832\n",
            "best accuracy : 93.93939393939394 %\n"
          ]
        }
      ]
    },
    {
      "cell_type": "code",
      "metadata": {
        "id": "GHl0bxFzQivR"
      },
      "source": [
        "def one_vs_all_mini_L1(X,y):\n",
        "  y1 = create_y1(y)\n",
        "  sensitivity = []\n",
        "  specificity = []\n",
        "  accuracy = []\n",
        "  Cost_values = []\n",
        "  w = np.zeros(X.shape[1]+1)\n",
        "  m = len(y1)\n",
        "  for i in range(2,4):\n",
        "    for j in range(1,3):\n",
        "      if i!=j:\n",
        "        y = y1[:,i-1]\n",
        "        y_train = y[:int(m*0.7)]\n",
        "        y_val = y[int(m*0.7):int(m*0.8)]\n",
        "        y_test = y[int(m*0.8):]\n",
        "        X_train = X[:int(m*0.7)]\n",
        "        X_val = X[int(m*0.7):int(m*0.8)]\n",
        "        X_test = X[int(m*0.8):]\n",
        "        batch_w, J_his_batch = mini_batch_gradient_descent_L1(Normalise(X_train),y_train ,w,0.001,4000,50,0.001)\n",
        "        y_pred = np.dot(Normalise(X_test), w)\n",
        "        y_pred = sigmoid(y_pred)\n",
        "  \n",
        "        y_pred[y_pred > 0.5] = 1\n",
        "        y_pred[y_pred <= 0.5] = 0\n",
        "        Cost = cost_function_L1(Normalise(X_test),y_test,batch_w,0.01) \n",
        "        Cost_values.append(Cost)\n",
        "        a,b,c = specs(Normalise(X_test),y_test,batch_w) \n",
        "        sensitivity.append(a)\n",
        "        specificity.append(b)\n",
        "        accuracy.append(c)\n",
        "  return Cost_values, sensitivity, specificity, accuracy"
      ],
      "execution_count": null,
      "outputs": []
    },
    {
      "cell_type": "code",
      "metadata": {
        "id": "k5YxAFs2Qivr"
      },
      "source": [
        "def five_fold_mini_L1_all(X,y):\n",
        "  sensitivity = []\n",
        "  specificity = []\n",
        "  accuracy = []\n",
        "  Cost_values = []\n",
        "  w = np.zeros(X.shape[1]+1)\n",
        "  m = len(y)\n",
        "  for i in range(5):\n",
        "    X_test = X[int(i*m*0.2):int((i+1)*m*0.2)]\n",
        "    X_train = pd.concat([X, X_test, X_test]).drop_duplicates(keep=False)\n",
        "    y_test = y[int(i*m*0.2):int((i+1)*m*0.2)]\n",
        "    y_train = y.drop(y_test.index)\n",
        "    y_train = np.asarray(y_train)\n",
        "    a,b,c,d = one_vs_all_mini_L1(X_train ,y_train)\n",
        "    \n",
        "  return a,b,c,d"
      ],
      "execution_count": null,
      "outputs": []
    },
    {
      "cell_type": "code",
      "metadata": {
        "colab": {
          "base_uri": "https://localhost:8080/"
        },
        "id": "GuVhCF9ekc-V",
        "outputId": "2d390bd5-5379-42dd-cf61-732f7479665b"
      },
      "source": [
        "Cost_values, sensitivity, specificity, accuracy = five_fold_mini_L1_all(X,y)\n",
        "print('All Cost Values :', Cost_values)\n",
        "print('All accuracies :', accuracy,'%')"
      ],
      "execution_count": null,
      "outputs": [
        {
          "output_type": "stream",
          "name": "stdout",
          "text": [
            "All Cost Values : [0.6127484404440589, 0.6931471805599453, 0.6931471805599453]\n",
            "All accuracies : [84.84848484848484, 93.93939393939394, 93.93939393939394] %\n"
          ]
        }
      ]
    },
    {
      "cell_type": "code",
      "metadata": {
        "colab": {
          "base_uri": "https://localhost:8080/"
        },
        "id": "TdkScyMzkc-X",
        "outputId": "83d30d02-14db-465b-cf87-73fead942bd1"
      },
      "source": [
        "print('Least Cost Value :', min(Cost_values))\n",
        "print('best accuracy :', max(accuracy),'%')"
      ],
      "execution_count": null,
      "outputs": [
        {
          "output_type": "stream",
          "name": "stdout",
          "text": [
            "Least Cost Value : 0.6127484404440589\n",
            "best accuracy : 93.93939393939394 %\n"
          ]
        }
      ]
    },
    {
      "cell_type": "markdown",
      "metadata": {
        "id": "BUWOe9ezOWvU"
      },
      "source": [
        "ONE VS ONE CODING"
      ]
    },
    {
      "cell_type": "code",
      "metadata": {
        "id": "o7_e1_W0OWvU"
      },
      "source": [
        "#Preparing data for 1 vs 1 multiclass classification\n",
        "train1 = []\n",
        "train2 = []\n",
        "train3 = []\n",
        "label1 = []\n",
        "label2 = []\n",
        "label3 = []\n",
        "train_output = y\n",
        "train = Normalise(X)\n",
        "for i in range(train_output.shape[0]):\n",
        "    if train_output[i] == 1 or train_output[i] == 2:\n",
        "        train1.append(train[i])\n",
        "        if train_output[i] == 1:\n",
        "            label1.append(1)\n",
        "        else:\n",
        "            label1.append(0)\n",
        "for i in range(train_output.shape[0]):\n",
        "    if train_output[i] == 1 or train_output[i] == 3:\n",
        "        train2.append(train[i])\n",
        "        if train_output[i] == 1:\n",
        "            label2.append(1)\n",
        "        else:\n",
        "            label2.append(0)\n",
        "for i in range(train_output.shape[0]):\n",
        "    if train_output[i] == 2 or train_output[i] == 3:\n",
        "        train3.append(train[i])\n",
        "        if train_output[i] == 2:\n",
        "            label3.append(1)\n",
        "        else:\n",
        "            label3.append(0)"
      ],
      "execution_count": null,
      "outputs": []
    },
    {
      "cell_type": "code",
      "metadata": {
        "id": "ATxfYLeKOWvW"
      },
      "source": [
        "def one_vs_one_mini_L2(X,y):\n",
        "  sensitivity = []\n",
        "  specificity = []\n",
        "  accuracy = []\n",
        "  Cost_values = []\n",
        "  w = np.zeros(X.shape[1])\n",
        "  m = len(y)\n",
        "  \n",
        "\n",
        "  y_train = y[:int(m*0.7)]\n",
        "  y_val = y[int(m*0.7):int(m*0.8)]\n",
        "  y_test = y[int(m*0.8):]\n",
        "  X_train = X[:int(m*0.7)]\n",
        "  X_val = X[int(m*0.7):int(m*0.8)]\n",
        "  X_test = X[int(m*0.8):]\n",
        "  batch_w, J_his_batch = mini_batch_gradient_descent_L2(X_train,y_train ,w,0.001,4000,50,0.001)\n",
        "  y_pred = np.dot(X_test, w)\n",
        "  y_pred = sigmoid(y_pred)\n",
        "  y_pred[y_pred > 0.5] = 1\n",
        "  y_pred[y_pred <= 0.5] = 0\n",
        "  Cost = cost_function_L2(X_test,y_test,batch_w,0.01) \n",
        "  Cost_values.append(Cost)\n",
        "  a,b,c = specs(X_test,y_test,batch_w) \n",
        "  sensitivity.append(a)\n",
        "  specificity.append(b)\n",
        "  accuracy.append(c)\n",
        "  return Cost_values, sensitivity, specificity, accuracy"
      ],
      "execution_count": null,
      "outputs": []
    },
    {
      "cell_type": "code",
      "metadata": {
        "id": "XgoWe3W5eOig"
      },
      "source": [
        "def five_fold_mini_L2_one(X,y):\n",
        "  sensitivity = []\n",
        "  specificity = []\n",
        "  accuracy = []\n",
        "  Cost_values = []\n",
        "  w = np.zeros(X.shape[1]+1)\n",
        "  m = len(y)\n",
        "  for i in range(5):\n",
        "    X_test = X[int(i*m*0.2):int((i+1)*m*0.2)]\n",
        "    X_train = pd.concat([X, X_test, X_test]).drop_duplicates(keep=False)\n",
        "    y_test = y[int(i*m*0.2):int((i+1)*m*0.2)]\n",
        "    y_train = y.drop(y_test.index)\n",
        "    y_train = np.asarray(y_train)\n",
        "    a,b,c,d = one_vs_one_mini_L2(X_train ,y_train)\n",
        "    \n",
        "  return a,b,c,d"
      ],
      "execution_count": null,
      "outputs": []
    },
    {
      "cell_type": "code",
      "metadata": {
        "id": "7D9XNqE5QvS_"
      },
      "source": [
        "def one_vs_one_mini_L1(X,y):\n",
        "  sensitivity = []\n",
        "  specificity = []\n",
        "  accuracy = []\n",
        "  Cost_values = []\n",
        "  w = np.zeros(X.shape[1])\n",
        "  m = len(y)\n",
        "  \n",
        "\n",
        "  y_train = y[:int(m*0.7)]\n",
        "  y_val = y[int(m*0.7):int(m*0.8)]\n",
        "  y_test = y[int(m*0.8):]\n",
        "  X_train = X[:int(m*0.7)]\n",
        "  X_val = X[int(m*0.7):int(m*0.8)]\n",
        "  X_test = X[int(m*0.8):]\n",
        "  batch_w, J_his_batch = mini_batch_gradient_descent_L1(X_train,y_train ,w,0.001,4000,50,0.001)\n",
        "  y_pred = np.dot(X_test, w)\n",
        "  y_pred = sigmoid(y_pred)\n",
        "  y_pred[y_pred > 0.5] = 1\n",
        "  y_pred[y_pred <= 0.5] = 0\n",
        "  Cost = cost_function_L1(X_test,y_test,batch_w,0.01) \n",
        "  Cost_values.append(Cost)\n",
        "  a,b,c = specs(X_test,y_test,batch_w) \n",
        "  sensitivity.append(a)\n",
        "  specificity.append(b)\n",
        "  accuracy.append(c)\n",
        "  return Cost_values, sensitivity, specificity, accuracy"
      ],
      "execution_count": null,
      "outputs": []
    },
    {
      "cell_type": "code",
      "metadata": {
        "id": "OWATXI0IeTj0"
      },
      "source": [
        "def five_fold_mini_L1_one(X,y):\n",
        "  sensitivity = []\n",
        "  specificity = []\n",
        "  accuracy = []\n",
        "  Cost_values = []\n",
        "  w = np.zeros(X.shape[1]+1)\n",
        "  m = len(y)\n",
        "  for i in range(5):\n",
        "    X_test = X[int(i*m*0.2):int((i+1)*m*0.2)]\n",
        "    X_train = pd.concat([X, X_test, X_test]).drop_duplicates(keep=False)\n",
        "    y_test = y[int(i*m*0.2):int((i+1)*m*0.2)]\n",
        "    y_train = y.drop(y_test.index)\n",
        "    y_train = np.asarray(y_train)\n",
        "    a,b,c,d = one_vs_one_mini_L1(X_train ,y_train)\n",
        "    \n",
        "  return a,b,c,d"
      ],
      "execution_count": null,
      "outputs": []
    },
    {
      "cell_type": "code",
      "metadata": {
        "id": "xyjf5PNsOWvX"
      },
      "source": [
        "mini_batch_w1_L2, mini_J_his_batch1_L2 = mini_batch_gradient_descent_L2(np.array(train1),np.array(label1) ,w,0.001,4000,50,0)\n",
        "mini_batch_w2_L2, mini_J_his_batch2_L2 = mini_batch_gradient_descent_L2(np.array(train2),np.array(label2) ,w,0.001,4000,50,0)\n",
        "mini_batch_w3_L2, mini_J_his_batch3_L2 = mini_batch_gradient_descent_L2(np.array(train3),np.array(label3) ,w,0.001,4000,50,0)\n",
        "\n",
        "mini_batch_w1_L1, mini_J_his_batch1_L1 = mini_batch_gradient_descent_L1(np.array(train1),np.array(label1) ,w,0.001,4000,50,0.001)\n",
        "mini_batch_w2_L1, mini_J_his_batch2_L1 = mini_batch_gradient_descent_L1(np.array(train2),np.array(label2) ,w,0.001,4000,50,0.001)\n",
        "mini_batch_w3_L1, mini_J_his_batch3_L1 = mini_batch_gradient_descent_L1(np.array(train3),np.array(label3) ,w,0.001,4000,50,0.001)"
      ],
      "execution_count": null,
      "outputs": []
    },
    {
      "cell_type": "code",
      "metadata": {
        "colab": {
          "base_uri": "https://localhost:8080/",
          "height": 265
        },
        "id": "cANojRiYOWvY",
        "outputId": "60f2da30-c13c-446f-817a-603ed1687737"
      },
      "source": [
        "plt.plot(range(4000),mini_J_his_batch1_L2)\n",
        "plt.show()"
      ],
      "execution_count": null,
      "outputs": [
        {
          "output_type": "display_data",
          "data": {
            "image/png": "[encoded data removed]",
            "text/plain": [
              "<Figure size 432x288 with 1 Axes>"
            ]
          },
          "metadata": {
            "needs_background": "light"
          }
        }
      ]
    },
    {
      "cell_type": "code",
      "metadata": {
        "colab": {
          "base_uri": "https://localhost:8080/",
          "height": 265
        },
        "id": "0Bm4gARtOWva",
        "outputId": "89d41773-c7aa-4103-e43b-83184f4a8a30"
      },
      "source": [
        "plt.plot(range(4000),mini_J_his_batch2_L2)\n",
        "plt.show()"
      ],
      "execution_count": null,
      "outputs": [
        {
          "output_type": "display_data",
          "data": {
            "image/png": "[encoded data removed]",
            "text/plain": [
              "<Figure size 432x288 with 1 Axes>"
            ]
          },
          "metadata": {
            "needs_background": "light"
          }
        }
      ]
    },
    {
      "cell_type": "code",
      "metadata": {
        "colab": {
          "base_uri": "https://localhost:8080/",
          "height": 265
        },
        "id": "01f2AvKSOWvb",
        "outputId": "27158e80-de7b-44ed-e02e-3fdffff01022"
      },
      "source": [
        "plt.plot(range(4000),mini_J_his_batch3_L2)\n",
        "plt.show()"
      ],
      "execution_count": null,
      "outputs": [
        {
          "output_type": "display_data",
          "data": {
            "image/png": "[encoded data removed]",
            "text/plain": [
              "<Figure size 432x288 with 1 Axes>"
            ]
          },
          "metadata": {
            "needs_background": "light"
          }
        }
      ]
    },
    {
      "cell_type": "code",
      "metadata": {
        "colab": {
          "base_uri": "https://localhost:8080/",
          "height": 265
        },
        "id": "3F6wkvwjOWvc",
        "outputId": "8ab04ad3-27b4-4109-cdd2-7f46b5ba36cc"
      },
      "source": [
        "plt.plot(range(4000),mini_J_his_batch1_L1)\n",
        "plt.show()"
      ],
      "execution_count": null,
      "outputs": [
        {
          "output_type": "display_data",
          "data": {
            "image/png": "[encoded data removed]",
            "text/plain": [
              "<Figure size 432x288 with 1 Axes>"
            ]
          },
          "metadata": {
            "needs_background": "light"
          }
        }
      ]
    },
    {
      "cell_type": "code",
      "metadata": {
        "colab": {
          "base_uri": "https://localhost:8080/",
          "height": 265
        },
        "id": "jEHG0gkeOWvd",
        "outputId": "cc4126ab-7032-464e-f73d-f0cd367f941d"
      },
      "source": [
        "plt.plot(range(4000),mini_J_his_batch2_L1)\n",
        "plt.show()"
      ],
      "execution_count": null,
      "outputs": [
        {
          "output_type": "display_data",
          "data": {
            "image/png": "[encoded data removed]",
            "text/plain": [
              "<Figure size 432x288 with 1 Axes>"
            ]
          },
          "metadata": {
            "needs_background": "light"
          }
        }
      ]
    },
    {
      "cell_type": "code",
      "metadata": {
        "colab": {
          "base_uri": "https://localhost:8080/",
          "height": 267
        },
        "id": "Kjp1jUg7OWve",
        "outputId": "1054ddac-bebb-493e-dd61-770607e85bf3"
      },
      "source": [
        "plt.plot(range(4000),mini_J_his_batch3_L1)\n",
        "plt.show()"
      ],
      "execution_count": null,
      "outputs": [
        {
          "output_type": "display_data",
          "data": {
            "image/png": "[encoded data removed]",
            "text/plain": [
              "<Figure size 432x288 with 1 Axes>"
            ]
          },
          "metadata": {
            "needs_background": "light"
          }
        }
      ]
    },
    {
      "cell_type": "code",
      "metadata": {
        "colab": {
          "base_uri": "https://localhost:8080/"
        },
        "id": "t3Jqmgv_OWvj",
        "outputId": "39633633-8e5b-4bc6-8e18-8a09e4f12cf7"
      },
      "source": [
        "print('[Cost_values]', '[sensitivity]', '[specificity]', '[accuracy] :',five_fold_mini_L2_one(pd.DataFrame(train1),pd.Series(label1)))\n",
        "print('[Cost_values]', '[sensitivity]', '[specificity]', '[accuracy] :',five_fold_mini_L2_one(pd.DataFrame(train2),pd.Series(label2)))\n",
        "print('[Cost_values]', '[sensitivity]', '[specificity]', '[accuracy] :',five_fold_mini_L2_one(pd.DataFrame(train3),pd.Series(label3)))\n",
        "print('[Cost_values]', '[sensitivity]', '[specificity]', '[accuracy] :',five_fold_mini_L1_one(pd.DataFrame(train1),pd.Series(label1)))\n",
        "print('[Cost_values]', '[sensitivity]', '[specificity]', '[accuracy] :',five_fold_mini_L1_one(pd.DataFrame(train2),pd.Series(label2)))\n",
        "print('[Cost_values]', '[sensitivity]', '[specificity]', '[accuracy] :',five_fold_mini_L1_one(pd.DataFrame(train3),pd.Series(label3)))"
      ],
      "execution_count": null,
      "outputs": [
        {
          "output_type": "stream",
          "name": "stdout",
          "text": [
            "[Cost_values] [sensitivity] [specificity] [accuracy] : ([0.5858982239826755], [0.9999999999999333], [0.4999999999999688], [74.19354838709677])\n",
            "[Cost_values] [sensitivity] [specificity] [accuracy] : ([0.4775484571970298], [0.99999999999996], [0.0], [100.0])\n",
            "[Cost_values] [sensitivity] [specificity] [accuracy] : ([0.37997352774180687], [0.999999999999875], [0.9999999999995], [100.0])\n",
            "[Cost_values] [sensitivity] [specificity] [accuracy] : ([0.5841845357442547], [0.9999999999999333], [0.4999999999999688], [74.19354838709677])\n",
            "[Cost_values] [sensitivity] [specificity] [accuracy] : ([0.47435437921723494], [0.99999999999996], [0.0], [100.0])\n",
            "[Cost_values] [sensitivity] [specificity] [accuracy] : ([0.3837509338497441], [0.999999999999875], [0.9999999999995], [100.0])\n"
          ]
        }
      ]
    },
    {
      "cell_type": "markdown",
      "metadata": {
        "id": "SwEgVfG0OXnc"
      },
      "source": [
        "STOCHASTIC GRADIENT DESCENT\n"
      ]
    },
    {
      "cell_type": "markdown",
      "metadata": {
        "id": "R2ZijOdBOblU"
      },
      "source": [
        "ONE VS ALL CODING"
      ]
    },
    {
      "cell_type": "code",
      "metadata": {
        "id": "gyHtKf9MOblW"
      },
      "source": [
        "def one_vs_all_stochastic_L2(X,y):\n",
        "  y1 = create_y1(y)\n",
        "  sensitivity = []\n",
        "  specificity = []\n",
        "  accuracy = []\n",
        "  Cost_values = []\n",
        "  w = np.zeros(X.shape[1]+1)\n",
        "  m = len(y1)\n",
        "  for i in range(2,4):\n",
        "    for j in range(1,3):\n",
        "      if i!=j:\n",
        "        y = y1[:,i-1]\n",
        "        y_train = y[:int(m*0.7)]\n",
        "        y_val = y[int(m*0.7):int(m*0.8)]\n",
        "        y_test = y[int(m*0.8):]\n",
        "        X_train = X[:int(m*0.7)]\n",
        "        X_val = X[int(m*0.7):int(m*0.8)]\n",
        "        X_test = X[int(m*0.8):]\n",
        "        batch_w, J_his_batch = stochastic_gradient_descent_L2(Normalise(X_train),y_train ,w,0.001,4000,0.001)\n",
        "        y_pred = np.dot(Normalise(X_test), w)\n",
        "        y_pred = sigmoid(y_pred)\n",
        "  \n",
        "        y_pred[y_pred > 0.5] = 1\n",
        "        y_pred[y_pred <= 0.5] = 0\n",
        "        Cost = cost_function_L2(Normalise(X_test),y_test,batch_w,0.01) \n",
        "        Cost_values.append(Cost)\n",
        "        a,b,c = specs(Normalise(X_test),y_test,batch_w) \n",
        "        sensitivity.append(a)\n",
        "        specificity.append(b)\n",
        "        accuracy.append(c)\n",
        "  return Cost_values, sensitivity, specificity, accuracy"
      ],
      "execution_count": null,
      "outputs": []
    },
    {
      "cell_type": "code",
      "metadata": {
        "id": "CZvAGdBQOblX"
      },
      "source": [
        "def five_fold_stochastic_L2_all(X,y):\n",
        "  sensitivity = []\n",
        "  specificity = []\n",
        "  accuracy = []\n",
        "  Cost_values = []\n",
        "  w = np.zeros(X.shape[1]+1)\n",
        "  m = len(y)\n",
        "  for i in range(5):\n",
        "    X_test = X[int(i*m*0.2):int((i+1)*m*0.2)]\n",
        "    X_train = pd.concat([X, X_test, X_test]).drop_duplicates(keep=False)\n",
        "    y_test = y[int(i*m*0.2):int((i+1)*m*0.2)]\n",
        "    y_train = y.drop(y_test.index)\n",
        "    y_train = np.asarray(y_train)\n",
        "    a,b,c,d = one_vs_all_stochastic_L2(X_train ,y_train)\n",
        "    \n",
        "  return a,b,c,d"
      ],
      "execution_count": null,
      "outputs": []
    },
    {
      "cell_type": "code",
      "metadata": {
        "colab": {
          "base_uri": "https://localhost:8080/"
        },
        "id": "AL8Wlhoxkfaz",
        "outputId": "e43b085b-7552-4aa4-a213-e92cf0671cae"
      },
      "source": [
        "Cost_values, sensitivity, specificity, accuracy = five_fold_stochastic_L2_all(X,y)\n",
        "print('All Cost Values :', Cost_values)\n",
        "print('All accuracies :', accuracy,'%')"
      ],
      "execution_count": null,
      "outputs": [
        {
          "output_type": "stream",
          "name": "stdout",
          "text": [
            "All Cost Values : [0.6211511471570179, 0.6931471805599453, 0.6931471805599453]\n",
            "All accuracies : [87.87878787878788, 93.93939393939394, 93.93939393939394] %\n"
          ]
        }
      ]
    },
    {
      "cell_type": "code",
      "metadata": {
        "colab": {
          "base_uri": "https://localhost:8080/"
        },
        "id": "D9SdihC6kfa1",
        "outputId": "e368ac40-0434-4470-fa9c-94d4617a6989"
      },
      "source": [
        "print('Least Cost Value :', min(Cost_values))\n",
        "print('best accuracy :', max(accuracy),'%')"
      ],
      "execution_count": null,
      "outputs": [
        {
          "output_type": "stream",
          "name": "stdout",
          "text": [
            "Least Cost Value : 0.6211511471570179\n",
            "best accuracy : 93.93939393939394 %\n"
          ]
        }
      ]
    },
    {
      "cell_type": "code",
      "metadata": {
        "id": "HIVVrqM3RBgE"
      },
      "source": [
        "def one_vs_all_stochastic_L1(X,y):\n",
        "  y1 = create_y1(y)\n",
        "  sensitivity = []\n",
        "  specificity = []\n",
        "  accuracy = []\n",
        "  Cost_values = []\n",
        "  w = np.zeros(X.shape[1]+1)\n",
        "  m = len(y1)\n",
        "  for i in range(2,4):\n",
        "    for j in range(1,3):\n",
        "      if i!=j:\n",
        "        y = y1[:,i-1]\n",
        "        y_train = y[:int(m*0.7)]\n",
        "        y_val = y[int(m*0.7):int(m*0.8)]\n",
        "        y_test = y[int(m*0.8):]\n",
        "        X_train = X[:int(m*0.7)]\n",
        "        X_val = X[int(m*0.7):int(m*0.8)]\n",
        "        X_test = X[int(m*0.8):]\n",
        "        batch_w, J_his_batch = stochastic_gradient_descent_L1(Normalise(X_train),y_train ,w,0.001,4000,0.001)\n",
        "        y_pred = np.dot(Normalise(X_test), w)\n",
        "        y_pred = sigmoid(y_pred)\n",
        "  \n",
        "        y_pred[y_pred > 0.5] = 1\n",
        "        y_pred[y_pred <= 0.5] = 0\n",
        "        Cost = cost_function_L1(Normalise(X_test),y_test,batch_w,0.01) \n",
        "        Cost_values.append(Cost)\n",
        "        a,b,c = specs(Normalise(X_test),y_test,batch_w) \n",
        "        sensitivity.append(a)\n",
        "        specificity.append(b)\n",
        "        accuracy.append(c)\n",
        "  return Cost_values, sensitivity, specificity, accuracy"
      ],
      "execution_count": null,
      "outputs": []
    },
    {
      "cell_type": "code",
      "metadata": {
        "id": "5s6V1cQERBgF"
      },
      "source": [
        "def five_fold_stochastic_L1_all(X,y):\n",
        "\n",
        "  w = np.zeros(X.shape[1]+1)\n",
        "  m = len(y)\n",
        "  for i in range(5):\n",
        "    X_test = X[int(i*m*0.2):int((i+1)*m*0.2)]\n",
        "    X_train = pd.concat([X, X_test, X_test]).drop_duplicates(keep=False)\n",
        "    y_test = y[int(i*m*0.2):int((i+1)*m*0.2)]\n",
        "    y_train = y.drop(y_test.index)\n",
        "    y_train = np.asarray(y_train)\n",
        "    a,b,c,d = one_vs_all_stochastic_L1(X_train ,y_train)\n",
        "\n",
        "    \n",
        "  return a,b,c,d"
      ],
      "execution_count": null,
      "outputs": []
    },
    {
      "cell_type": "code",
      "metadata": {
        "colab": {
          "base_uri": "https://localhost:8080/"
        },
        "id": "B3ia1YU3kgkF",
        "outputId": "6dc0953c-8d04-4533-a971-134ddb59932e"
      },
      "source": [
        "Cost_values, sensitivity, specificity, accuracy = five_fold_batch_L2_all(X,y)\n",
        "print('All Cost Values :', Cost_values)\n",
        "print('All accuracies :', accuracy,'%')"
      ],
      "execution_count": null,
      "outputs": [
        {
          "output_type": "stream",
          "name": "stdout",
          "text": [
            "All Cost Values : [0.6179135465370489, 0.6931471805599453, 0.6931471805599453]\n",
            "All accuracies : [84.84848484848484, 93.93939393939394, 93.93939393939394] %\n"
          ]
        }
      ]
    },
    {
      "cell_type": "code",
      "metadata": {
        "colab": {
          "base_uri": "https://localhost:8080/"
        },
        "id": "nW0A-eO-kgkG",
        "outputId": "a7e777fc-0d9e-44c1-80b9-8c6080726c2e"
      },
      "source": [
        "print('Least Cost Value :', min(Cost_values))\n",
        "print('best accuracy :', max(accuracy),'%')"
      ],
      "execution_count": null,
      "outputs": [
        {
          "output_type": "stream",
          "name": "stdout",
          "text": [
            "Least Cost Value : 0.6179135465370489\n",
            "best accuracy : 93.93939393939394 %\n"
          ]
        }
      ]
    },
    {
      "cell_type": "markdown",
      "metadata": {
        "id": "9HmDQEOwOblY"
      },
      "source": [
        "ONE VS ONE CODING"
      ]
    },
    {
      "cell_type": "code",
      "metadata": {
        "id": "8YS5XtGVOblZ"
      },
      "source": [
        "def one_vs_one_stochastic_L2(X,y):\n",
        "  sensitivity = []\n",
        "  specificity = []\n",
        "  accuracy = []\n",
        "  Cost_values = []\n",
        "  w = np.zeros(X.shape[1])\n",
        "  m = len(y)\n",
        "  \n",
        "\n",
        "  y_train = y[:int(m*0.7)]\n",
        "  y_val = y[int(m*0.7):int(m*0.8)]\n",
        "  y_test = y[int(m*0.8):]\n",
        "  X_train = X[:int(m*0.7)]\n",
        "  X_val = X[int(m*0.7):int(m*0.8)]\n",
        "  X_test = X[int(m*0.8):]\n",
        "  batch_w, J_his_batch = stochastic_gradient_descent_L2(X_train,y_train ,w,0.0001,6000,0.001)\n",
        "  y_pred = np.dot(X_test, w)\n",
        "  y_pred = sigmoid(y_pred)\n",
        "  y_pred[y_pred > 0.5] = 1\n",
        "  y_pred[y_pred <= 0.5] = 0\n",
        "  Cost = cost_function_L2(X_test,y_test,batch_w,0.01) \n",
        "  Cost_values.append(Cost)\n",
        "  a,b,c = specs(X_test,y_test,batch_w) \n",
        "  sensitivity.append(a)\n",
        "  specificity.append(b)\n",
        "  accuracy.append(c)\n",
        "  return Cost_values, sensitivity, specificity, accuracy"
      ],
      "execution_count": null,
      "outputs": []
    },
    {
      "cell_type": "code",
      "metadata": {
        "id": "TJX3mn1df9n9"
      },
      "source": [
        "def five_fold_stochastic_L2_one(X,y):\n",
        "  sensitivity = []\n",
        "  specificity = []\n",
        "  accuracy = []\n",
        "  Cost_values = []\n",
        "  w = np.zeros(X.shape[1]+1)\n",
        "  m = len(y)\n",
        "  for i in range(5):\n",
        "    X_test = X[int(i*m*0.2):int((i+1)*m*0.2)]\n",
        "    X_train = pd.concat([X, X_test, X_test]).drop_duplicates(keep=False)\n",
        "    y_test = y[int(i*m*0.2):int((i+1)*m*0.2)]\n",
        "    y_train = y.drop(y_test.index)\n",
        "    y_train = np.asarray(y_train)\n",
        "    a,b,c,d = one_vs_one_stochastic_L2(X_train ,y_train)\n",
        "    \n",
        "  return a,b,c,d"
      ],
      "execution_count": null,
      "outputs": []
    },
    {
      "cell_type": "code",
      "metadata": {
        "id": "5i1_lhrvRmLH"
      },
      "source": [
        "def one_vs_one_stochastic_L1(X,y):\n",
        "  sensitivity = []\n",
        "  specificity = []\n",
        "  accuracy = []\n",
        "  Cost_values = []\n",
        "  w = np.zeros(X.shape[1])\n",
        "  m = len(y)\n",
        "  \n",
        "\n",
        "  y_train = y[:int(m*0.7)]\n",
        "  y_val = y[int(m*0.7):int(m*0.8)]\n",
        "  y_test = y[int(m*0.8):]\n",
        "  X_train = X[:int(m*0.7)]\n",
        "  X_val = X[int(m*0.7):int(m*0.8)]\n",
        "  X_test = X[int(m*0.8):]\n",
        "  batch_w, J_his_batch = stochastic_gradient_descent_L1(X_train,y_train ,w,0.0001,6000,0.001)\n",
        "  y_pred = np.dot(X_test, w)\n",
        "  y_pred = sigmoid(y_pred)\n",
        "  y_pred[y_pred > 0.5] = 1\n",
        "  y_pred[y_pred <= 0.5] = 0\n",
        "  Cost = cost_function_L1(X_test,y_test,batch_w,0.01) \n",
        "  Cost_values.append(Cost)\n",
        "  a,b,c = specs(X_test,y_test,batch_w) \n",
        "  sensitivity.append(a)\n",
        "  specificity.append(b)\n",
        "  accuracy.append(c)\n",
        "  return Cost_values, sensitivity, specificity, accuracy"
      ],
      "execution_count": null,
      "outputs": []
    },
    {
      "cell_type": "code",
      "metadata": {
        "id": "7JdzTVqseE79"
      },
      "source": [
        "def five_fold_stochastic_L1_one(X,y):\n",
        "  sensitivity = []\n",
        "  specificity = []\n",
        "  accuracy = []\n",
        "  Cost_values = []\n",
        "  w = np.zeros(X.shape[1]+1)\n",
        "  m = len(y)\n",
        "  for i in range(5):\n",
        "    X_test = X[int(i*m*0.2):int((i+1)*m*0.2)]\n",
        "    X_train = pd.concat([X, X_test, X_test]).drop_duplicates(keep=False)\n",
        "    y_test = y[int(i*m*0.2):int((i+1)*m*0.2)]\n",
        "    y_train = y.drop(y_test.index)\n",
        "    y_train = np.asarray(y_train)\n",
        "    a,b,c,d = one_vs_one_stochastic_L1(X_train ,y_train)\n",
        "    \n",
        "  return a,b,c,d"
      ],
      "execution_count": null,
      "outputs": []
    },
    {
      "cell_type": "code",
      "metadata": {
        "id": "KtstE0UbObla"
      },
      "source": [
        "stochastic_batch_w1_L2, stochastic_J_his_batch1_L2 = stochastic_gradient_descent_L2(np.array(train1),np.array(label1) ,w,0.0001,6000,0.001)\n",
        "stochastic_batch_w2_L2, stochastic_J_his_batch2_L2 = stochastic_gradient_descent_L2(np.array(train2),np.array(label2) ,w,0.0001,6000,0.001)\n",
        "stochastic_batch_w3_L2, stochastic_J_his_batch3_L2 = stochastic_gradient_descent_L2(np.array(train3),np.array(label3) ,w,0.0001,6000,0.001)\n",
        "\n",
        "stochastic_batch_w1_L1, stochastic_J_his_batch1_L1 = stochastic_gradient_descent_L1(np.array(train1),np.array(label1) ,w,0.0001,6000,0.001)\n",
        "stochastic_batch_w2_L1, stochastic_J_his_batch2_L1 = stochastic_gradient_descent_L1(np.array(train2),np.array(label2) ,w,0.0001,6000,0.001)\n",
        "stochastic_batch_w3_L1, stochastic_J_his_batch3_L1 = stochastic_gradient_descent_L1(np.array(train3),np.array(label3) ,w,0.0001,6000,0.001)"
      ],
      "execution_count": null,
      "outputs": []
    },
    {
      "cell_type": "code",
      "metadata": {
        "colab": {
          "base_uri": "https://localhost:8080/",
          "height": 265
        },
        "id": "X_hwWoxIOblb",
        "outputId": "192a0fb0-01d4-45b7-e7cd-98ebf7680aa7"
      },
      "source": [
        "plt.plot(range(6000),stochastic_J_his_batch1_L2)\n",
        "plt.show()"
      ],
      "execution_count": null,
      "outputs": [
        {
          "output_type": "display_data",
          "data": {
            "image/png": "[encoded data removed]",
            "text/plain": [
              "<Figure size 432x288 with 1 Axes>"
            ]
          },
          "metadata": {
            "needs_background": "light"
          }
        }
      ]
    },
    {
      "cell_type": "code",
      "metadata": {
        "colab": {
          "base_uri": "https://localhost:8080/",
          "height": 265
        },
        "id": "j44TtzTiOblc",
        "outputId": "2f804e1f-5d3c-40d4-d1e7-a92f59f8de9a"
      },
      "source": [
        "plt.plot(range(6000),stochastic_J_his_batch2_L2)\n",
        "plt.show()"
      ],
      "execution_count": null,
      "outputs": [
        {
          "output_type": "display_data",
          "data": {
            "image/png": "[encoded data removed]",
            "text/plain": [
              "<Figure size 432x288 with 1 Axes>"
            ]
          },
          "metadata": {
            "needs_background": "light"
          }
        }
      ]
    },
    {
      "cell_type": "code",
      "metadata": {
        "colab": {
          "base_uri": "https://localhost:8080/",
          "height": 265
        },
        "id": "9iQvjc3GObld",
        "outputId": "7a4a6177-885d-4c1c-98f3-9065b03ce4b7"
      },
      "source": [
        "plt.plot(range(6000),stochastic_J_his_batch3_L2)\n",
        "plt.show()"
      ],
      "execution_count": null,
      "outputs": [
        {
          "output_type": "display_data",
          "data": {
            "image/png": "[encoded data removed]",
            "text/plain": [
              "<Figure size 432x288 with 1 Axes>"
            ]
          },
          "metadata": {
            "needs_background": "light"
          }
        }
      ]
    },
    {
      "cell_type": "code",
      "metadata": {
        "colab": {
          "base_uri": "https://localhost:8080/",
          "height": 265
        },
        "id": "_Ea88LqOOble",
        "outputId": "14d8eb59-98bb-4fbf-f129-9905fd0a7efe"
      },
      "source": [
        "plt.plot(range(6000),stochastic_J_his_batch1_L1)\n",
        "plt.show()"
      ],
      "execution_count": null,
      "outputs": [
        {
          "output_type": "display_data",
          "data": {
            "image/png": "[encoded data removed]",
            "text/plain": [
              "<Figure size 432x288 with 1 Axes>"
            ]
          },
          "metadata": {
            "needs_background": "light"
          }
        }
      ]
    },
    {
      "cell_type": "code",
      "metadata": {
        "colab": {
          "base_uri": "https://localhost:8080/",
          "height": 265
        },
        "id": "SQxEQkFoOble",
        "outputId": "621c6de0-8ec8-4847-cee4-ecd3b8d86534"
      },
      "source": [
        "plt.plot(range(6000),stochastic_J_his_batch2_L1)\n",
        "plt.show()"
      ],
      "execution_count": null,
      "outputs": [
        {
          "output_type": "display_data",
          "data": {
            "image/png": "[encoded data removed]",
            "text/plain": [
              "<Figure size 432x288 with 1 Axes>"
            ]
          },
          "metadata": {
            "needs_background": "light"
          }
        }
      ]
    },
    {
      "cell_type": "code",
      "metadata": {
        "colab": {
          "base_uri": "https://localhost:8080/",
          "height": 265
        },
        "id": "RFlDQFvoOblf",
        "outputId": "52072869-148f-451f-b8ef-42a071ca2682"
      },
      "source": [
        "plt.plot(range(6000),stochastic_J_his_batch3_L1)\n",
        "plt.show()"
      ],
      "execution_count": null,
      "outputs": [
        {
          "output_type": "display_data",
          "data": {
            "image/png": "[encoded data removed]",
            "text/plain": [
              "<Figure size 432x288 with 1 Axes>"
            ]
          },
          "metadata": {
            "needs_background": "light"
          }
        }
      ]
    },
    {
      "cell_type": "code",
      "metadata": {
        "colab": {
          "base_uri": "https://localhost:8080/"
        },
        "id": "J1B9juPcOblg",
        "outputId": "e55942b4-1e2a-4f67-9597-2624b865f77c"
      },
      "source": [
        "print('[Cost_values]', '[sensitivity]', '[specificity]', '[accuracy] :',five_fold_stochastic_L2_one(pd.DataFrame(train1),pd.Series(label1)))\n",
        "print('[Cost_values]', '[sensitivity]', '[specificity]', '[accuracy] :',five_fold_stochastic_L2_one(pd.DataFrame(train2),pd.Series(label2)))\n",
        "print('[Cost_values]', '[sensitivity]', '[specificity]', '[accuracy] :',five_fold_stochastic_L2_one(pd.DataFrame(train3),pd.Series(label3)))\n",
        "print('[Cost_values]', '[sensitivity]', '[specificity]', '[accuracy] :',five_fold_stochastic_L1_one(pd.DataFrame(train1),pd.Series(label1)))\n",
        "print('[Cost_values]', '[sensitivity]', '[specificity]', '[accuracy] :',five_fold_stochastic_L1_one(pd.DataFrame(train2),pd.Series(label2)))\n",
        "print('[Cost_values]', '[sensitivity]', '[specificity]', '[accuracy] :',five_fold_stochastic_L1_one(pd.DataFrame(train3),pd.Series(label3)))"
      ],
      "execution_count": null,
      "outputs": [
        {
          "output_type": "stream",
          "name": "stdout",
          "text": [
            "[Cost_values] [sensitivity] [specificity] [accuracy] : ([0.5210622756054091], [0.9333333333332711], [0.9374999999999415], [93.54838709677419])\n",
            "[Cost_values] [sensitivity] [specificity] [accuracy] : ([0.5371030881527689], [0.9199999999999633], [0.0], [92.0])\n",
            "[Cost_values] [sensitivity] [specificity] [accuracy] : ([0.36707843978497373], [0.999999999999875], [0.9999999999995], [100.0])\n",
            "[Cost_values] [sensitivity] [specificity] [accuracy] : ([0.518240965703682], [0.9333333333332711], [0.9374999999999415], [93.54838709677419])\n",
            "[Cost_values] [sensitivity] [specificity] [accuracy] : ([0.539027687458894], [0.9199999999999633], [0.0], [92.0])\n",
            "[Cost_values] [sensitivity] [specificity] [accuracy] : ([0.3717047649782945], [0.999999999999875], [0.9999999999995], [100.0])\n"
          ]
        }
      ]
    }
  ]
}