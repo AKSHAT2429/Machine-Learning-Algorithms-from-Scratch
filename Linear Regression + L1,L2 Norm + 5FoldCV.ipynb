{
  "nbformat": 4,
  "nbformat_minor": 0,
  "metadata": {
    "colab": {
      "name": "0264_Q5.ipynb",
      "provenance": [],
      "collapsed_sections": []
    },
    "kernelspec": {
      "name": "python3",
      "display_name": "Python 3"
    },
    "language_info": {
      "name": "python"
    }
  },
  "cells": [
    {
      "cell_type": "markdown",
      "metadata": {
        "id": "UZP_nbqf8zBw"
      },
      "source": [
        "IMPORTING IMPORTANT LIBRARIES"
      ]
    },
    {
      "cell_type": "code",
      "metadata": {
        "id": "Hhk9keQOKFV1"
      },
      "source": [
        "import numpy as np\n",
        "import pandas as pd\n",
        "import matplotlib as mpl\n",
        "import matplotlib.pyplot as plt"
      ],
      "execution_count": null,
      "outputs": []
    },
    {
      "cell_type": "markdown",
      "metadata": {
        "id": "sQyxZ7HY85cs"
      },
      "source": [
        "MOUNTING DRIVE"
      ]
    },
    {
      "cell_type": "code",
      "metadata": {
        "colab": {
          "base_uri": "https://localhost:8080/"
        },
        "id": "XFZ8WSk-Kz5r",
        "outputId": "38aef2b3-b4e2-43ea-9c22-3e670a2fc792"
      },
      "source": [
        "from google.colab import drive\n",
        "drive.mount(\"/content/gdrive\")"
      ],
      "execution_count": null,
      "outputs": [
        {
          "output_type": "stream",
          "name": "stdout",
          "text": [
            "Drive already mounted at /content/gdrive; to attempt to forcibly remount, call drive.mount(\"/content/gdrive\", force_remount=True).\n"
          ]
        }
      ]
    },
    {
      "cell_type": "markdown",
      "metadata": {
        "id": "vkXO_VBsYIGd"
      },
      "source": [
        "FUNCTION DEFINITIONS"
      ]
    },
    {
      "cell_type": "code",
      "metadata": {
        "id": "vJynIp6xAcfS"
      },
      "source": [
        "def sigmoid(z):\n",
        "  return 1/(1 + np.exp(-z))"
      ],
      "execution_count": null,
      "outputs": []
    },
    {
      "cell_type": "code",
      "metadata": {
        "id": "cndVlNafLNRl"
      },
      "source": [
        "def cost_function_L2(X,y,w,lam):\n",
        "  hypothesis = sigmoid(np.dot(X,w.T))\n",
        "  J = -1 / len(y) * np.sum(y*np.log(hypothesis)+(1-y)*np.log(1-hypothesis)) + lam*np.sum(w**2)/2\n",
        "  return J"
      ],
      "execution_count": null,
      "outputs": []
    },
    {
      "cell_type": "code",
      "metadata": {
        "id": "PHtTFcZuA6d3"
      },
      "source": [
        "def cost_function_L1(X,y,w,lam):\n",
        "  hypothesis = sigmoid(np.dot(X,w.T))\n",
        "  J = -1 / len(y) * np.sum(y*np.log(hypothesis)+(1-y)*np.log(1-hypothesis)) + lam*np.abs(np.sum(w))/2\n",
        "  return J"
      ],
      "execution_count": null,
      "outputs": []
    },
    {
      "cell_type": "code",
      "metadata": {
        "id": "5XqanV7GLOcV"
      },
      "source": [
        "def batch_gradient_descent_L2(X,y,w,alpha,iters,lam):\n",
        "  cost_history = np.zeros(iters)\n",
        "  for i in range(iters):\n",
        "    hypothesis = np.dot(X,w.T)\n",
        "    w = (1-alpha*lam)*w - (alpha/len(y)) * np.dot(hypothesis - y,X)\n",
        "    cost_history[i] = cost_function_L2(X,y,w,lam)\n",
        "  return w,cost_history"
      ],
      "execution_count": null,
      "outputs": []
    },
    {
      "cell_type": "code",
      "metadata": {
        "id": "NpQ_TGiRBTDZ"
      },
      "source": [
        "def batch_gradient_descent_L1(X,y,w,alpha,iters,lam):\n",
        "  cost_history = np.zeros(iters)\n",
        "  for i in range(iters):\n",
        "    hypothesis = np.dot(X,w.T)\n",
        "    w = (1-(np.sign(np.sum(w)))*alpha*lam/2)*w - (alpha/len(y)) * np.dot(hypothesis - y,X)\n",
        "    cost_history[i] = cost_function_L1(X,y,w,lam)\n",
        "  return w,cost_history"
      ],
      "execution_count": null,
      "outputs": []
    },
    {
      "cell_type": "code",
      "metadata": {
        "id": "3tj54vlQLOdz"
      },
      "source": [
        "def mini_batch_gradient_descent_L2(X,y,w,alpha,iters,batch_size,lam):\n",
        "  cost_history = np.zeros(iters)\n",
        "  for i in range(iters):\n",
        "    rand_index = np.random.randint(len(y))\n",
        "    ind_x = X[rand_index:rand_index + batch_size]\n",
        "    ind_y = y[rand_index:rand_index + batch_size]\n",
        "    w = (1-alpha*lam)*w - (alpha/batch_size) * (ind_x.T.dot(ind_x.dot(w) - ind_y))\n",
        "    cost_history[i] = cost_function_L2(ind_x,ind_y,w,lam)\n",
        "  return w,cost_history"
      ],
      "execution_count": null,
      "outputs": []
    },
    {
      "cell_type": "code",
      "metadata": {
        "id": "6PCDfcMUBWFu"
      },
      "source": [
        "def mini_batch_gradient_descent_L1(X,y,w,alpha,iters,batch_size,lam):\n",
        "  cost_history = np.zeros(iters)\n",
        "  for i in range(iters):\n",
        "    rand_index = np.random.randint(len(y))\n",
        "    ind_x = X[rand_index:rand_index + batch_size]\n",
        "    ind_y = y[rand_index:rand_index + batch_size]\n",
        "    w =  (1-np.sign(np.sum(w))*alpha*lam/2)*w - (alpha/batch_size) * (ind_x.T.dot(ind_x.dot(w) - ind_y))\n",
        "    cost_history[i] = cost_function_L1(ind_x,ind_y,w,lam)\n",
        "  return w,cost_history"
      ],
      "execution_count": null,
      "outputs": []
    },
    {
      "cell_type": "code",
      "metadata": {
        "id": "g3LrlL4mSCGw"
      },
      "source": [
        "def stochastic_gradient_descent_L2(X,y,w,alpha,iters,lam):\n",
        "  cost_history = np.zeros(iters)\n",
        "  for i in range(iters):\n",
        "    rand_index = np.random.randint(len(y))\n",
        "    ind_x = X[rand_index:rand_index + 1]\n",
        "    ind_y = y[rand_index:rand_index + 1]\n",
        "    w = (1-alpha*lam)*w - alpha * (ind_x.T.dot(ind_x.dot(w) - ind_y))\n",
        "    cost_history[i] = cost_function_L2(ind_x,ind_y,w,lam)\n",
        "  return w,cost_history"
      ],
      "execution_count": null,
      "outputs": []
    },
    {
      "cell_type": "code",
      "metadata": {
        "id": "9nP-WYB3BZAT"
      },
      "source": [
        "def stochastic_gradient_descent_L1(X,y,w,alpha,iters,lam):\n",
        "  cost_history = np.zeros(iters)\n",
        "  for i in range(iters):\n",
        "    rand_index = np.random.randint(len(y))\n",
        "    ind_x = X[rand_index:rand_index + 1]\n",
        "    ind_y = y[rand_index:rand_index + 1]\n",
        "    w =  (1-np.sign(np.sum(w))*alpha*lam/2)*w - alpha * (ind_x.T.dot(ind_x.dot(w) - ind_y))\n",
        "    cost_history[i] = cost_function_L1(ind_x,ind_y,w,lam)\n",
        "  return w,cost_history"
      ],
      "execution_count": null,
      "outputs": []
    },
    {
      "cell_type": "markdown",
      "metadata": {
        "id": "WeLD0oOkYhvm"
      },
      "source": [
        "EVALUATION METRICS"
      ]
    },
    {
      "cell_type": "code",
      "metadata": {
        "id": "R5ilSOdyA3dY"
      },
      "source": [
        "def specs(X_test,y_test,w):  \n",
        "  TN, FN, TP, FP = 0, 0, 0, 0\n",
        "\n",
        "  y_pred = np.dot(Normalise(X_test), w)\n",
        "  y_pred = sigmoid(y_pred)\n",
        "  y_pred[y_pred > 0.5] = 1\n",
        "  y_pred[y_pred <= 0.5] = 0\n",
        "\n",
        "  TP = np.sum(y_pred * y_test)\n",
        "  FP = np.sum(y_pred * (1-y_test))\n",
        "  FN = np.sum((1-y_pred) * y_test)\n",
        "  TN = np.sum((1-y_pred) * (1-y_test))\n",
        "\n",
        "  sensitivity = TP/(TP + FN)\n",
        "  specificity = TN/(TN + FP)\n",
        "  accuracy = (TP + TN)/(TP + TN + FP + FN)*100\n",
        "\n",
        "  return sensitivity, specificity, accuracy"
      ],
      "execution_count": null,
      "outputs": []
    },
    {
      "cell_type": "markdown",
      "metadata": {
        "id": "jhPnUvCY8_ac"
      },
      "source": [
        "DATA PRE-PROCESSING"
      ]
    },
    {
      "cell_type": "code",
      "metadata": {
        "id": "o6GtNF7SLOe3"
      },
      "source": [
        "from random import Random\n",
        "data = pd.read_excel(\"/content/gdrive/MyDrive/NNFL_ASSIGNMENT_1/data_q4_q5.xlsx\")\n",
        "Random(14).shuffle(data.values)\n",
        "X = data.drop(\"diagnosis\",axis=1)\n",
        "y = data[\"diagnosis\"]\n",
        "y = (y == 'M')\n",
        "m = len(X)\n",
        "X_train = X[:int(m*0.7)]\n",
        "X_val = X[int(m*0.7):int(m*0.8)]\n",
        "X_test = X[int(m*0.8):]\n",
        "y_train = y[:int(m*0.7)]\n",
        "y_val = y[int(m*0.7):int(m*0.8)]\n",
        "y_test = y[int(m*0.8):]"
      ],
      "execution_count": null,
      "outputs": []
    },
    {
      "cell_type": "code",
      "metadata": {
        "id": "ovf_w75SLOf-"
      },
      "source": [
        "def Normalise(X):\n",
        "  mean = X.mean()\n",
        "  std = np.std(X,axis=0)\n",
        "  m = len(X)\n",
        "  X_norm = (X-mean)/std\n",
        "  X_norm = np.c_[np.ones((m, 1)), X_norm]\n",
        "  return X_norm"
      ],
      "execution_count": null,
      "outputs": []
    },
    {
      "cell_type": "code",
      "metadata": {
        "id": "wY-S1aEsLOhF"
      },
      "source": [
        "w = np.zeros(X.shape[1]+1)"
      ],
      "execution_count": null,
      "outputs": []
    },
    {
      "cell_type": "markdown",
      "metadata": {
        "id": "EB0qUo6Z9IFT"
      },
      "source": [
        "BATCH GRADIENT DESCENT"
      ]
    },
    {
      "cell_type": "code",
      "metadata": {
        "id": "GmxCp6jfQCSg"
      },
      "source": [
        "alpha = 0.0001\n",
        "iters = 4000\n",
        "lam = 0.1\n",
        "batch_w_L2, J_his_batch_L2 = batch_gradient_descent_L2(Normalise(X_train),y_train,w,alpha,iters,lam)"
      ],
      "execution_count": null,
      "outputs": []
    },
    {
      "cell_type": "code",
      "metadata": {
        "id": "cXX3fhq7l7Ik",
        "colab": {
          "base_uri": "https://localhost:8080/",
          "height": 265
        },
        "outputId": "eabb16d7-10d1-4fb2-900a-9b3f91de7e8d"
      },
      "source": [
        "plt.plot(range(iters),J_his_batch_L2)\n",
        "plt.show()"
      ],
      "execution_count": null,
      "outputs": [
        {
          "output_type": "display_data",
          "data": {
            "image/png": "[encoded data removed]",
            "text/plain": [
              "<Figure size 432x288 with 1 Axes>"
            ]
          },
          "metadata": {
            "needs_background": "light"
          }
        }
      ]
    },
    {
      "cell_type": "code",
      "metadata": {
        "id": "h4UZMI-2DAj6"
      },
      "source": [
        "alpha = 0.0001\n",
        "iters = 4000\n",
        "lam = 0.1\n",
        "batch_w_L1, J_his_batch_L1 = batch_gradient_descent_L1(Normalise(X_train),y_train,w,alpha,iters,lam)"
      ],
      "execution_count": null,
      "outputs": []
    },
    {
      "cell_type": "code",
      "metadata": {
        "id": "t-k0_2UVl8CH",
        "colab": {
          "base_uri": "https://localhost:8080/",
          "height": 265
        },
        "outputId": "b9e5556f-3e38-4e11-f63b-53111653a308"
      },
      "source": [
        "plt.plot(range(iters),J_his_batch_L1)\n",
        "plt.show()"
      ],
      "execution_count": null,
      "outputs": [
        {
          "output_type": "display_data",
          "data": {
            "image/png": "[encoded data removed]",
            "text/plain": [
              "<Figure size 432x288 with 1 Axes>"
            ]
          },
          "metadata": {
            "needs_background": "light"
          }
        }
      ]
    },
    {
      "cell_type": "markdown",
      "metadata": {
        "id": "JzqjlvmtchjE"
      },
      "source": [
        "EVALUATION METRICS"
      ]
    },
    {
      "cell_type": "code",
      "metadata": {
        "id": "SDENrTjUg97X"
      },
      "source": [
        "def five_fold_batch_L2(X,y):\n",
        "  sensitivity = []\n",
        "  specificity = []\n",
        "  accuracy = []\n",
        "  Cost_values = []\n",
        "  w = np.zeros(X.shape[1]+1)\n",
        "  m = len(y)\n",
        "  for i in range(5):\n",
        "    X_test = X[int(i*m*0.2):int((i+1)*m*0.2)]\n",
        "    X_train = pd.concat([X, X_test, X_test]).drop_duplicates(keep=False)\n",
        "    y_test = y[int(i*m*0.2):int((i+1)*m*0.2)]\n",
        "    y_train = y_train = y.drop(y_test.index)\n",
        "    batch_w, J_his_batch = batch_gradient_descent_L2(Normalise(X_train) ,y_train ,w,0.0001,4000,0.001)\n",
        "    Cost = cost_function_L2(Normalise(X_test),y_test,batch_w,0.01) \n",
        "    Cost_values.append(Cost)\n",
        "    a,b,c = specs(X_test,y_test,batch_w) \n",
        "    sensitivity.append(a)\n",
        "    specificity.append(b)\n",
        "    accuracy.append(c)\n",
        "\n",
        "  return Cost_values, sensitivity, specificity, accuracy"
      ],
      "execution_count": null,
      "outputs": []
    },
    {
      "cell_type": "code",
      "metadata": {
        "id": "NKaP-J83h8yw",
        "colab": {
          "base_uri": "https://localhost:8080/"
        },
        "outputId": "0f838d90-841f-4475-9125-96a03a0163f8"
      },
      "source": [
        "Cost_values, sensitivity, specificity, accuracy = five_fold_batch_L2(X,y)\n",
        "print('All Cost Values :', Cost_values)\n",
        "print('All sensitivities :', sensitivity)\n",
        "print('All specificities :', specificity)\n",
        "print('All accuracies :', accuracy,'%')"
      ],
      "execution_count": null,
      "outputs": [
        {
          "output_type": "stream",
          "name": "stdout",
          "text": [
            "All Cost Values : [0.5546820719211124, 0.5655758683433965, 0.5632362803381215, 0.5949982546415733, 0.6176357081825764]\n",
            "All sensitivities : [0.9411764705882353, 0.9795918367346939, 0.975, 1.0, 1.0]\n",
            "All specificities : [0.9333333333333333, 0.8307692307692308, 0.8648648648648649, 0.7411764705882353, 0.5681818181818182]\n",
            "All accuracies : [93.80530973451327, 89.47368421052632, 90.35087719298247, 80.7017543859649, 66.66666666666666] %\n"
          ]
        }
      ]
    },
    {
      "cell_type": "code",
      "metadata": {
        "colab": {
          "base_uri": "https://localhost:8080/"
        },
        "id": "EpV-mzbJb9e-",
        "outputId": "12c7701b-aed9-4b93-9e6d-94f40741c452"
      },
      "source": [
        "print('Least Cost Value :', min(Cost_values))\n",
        "print('best sensitivity :', max(sensitivity))\n",
        "print('best specificity :', max(specificity))\n",
        "print('best accuracy :', max(accuracy),'%')"
      ],
      "execution_count": null,
      "outputs": [
        {
          "output_type": "stream",
          "name": "stdout",
          "text": [
            "Least Cost Value : 0.5546820719211124\n",
            "best sensitivity : 1.0\n",
            "best specificity : 0.9333333333333333\n",
            "best accuracy : 93.80530973451327 %\n"
          ]
        }
      ]
    },
    {
      "cell_type": "code",
      "metadata": {
        "id": "34WtuxmXCh4c"
      },
      "source": [
        "def five_fold_batch_L1(X,y):\n",
        "  sensitivity = []\n",
        "  specificity = []\n",
        "  accuracy = []\n",
        "  Cost_values = []\n",
        "  w = np.zeros(X.shape[1]+1)\n",
        "  m = len(y)\n",
        "  for i in range(5):\n",
        "    X_test = X[int(i*m*0.2):int((i+1)*m*0.2)]\n",
        "    X_train = pd.concat([X, X_test, X_test]).drop_duplicates(keep=False)\n",
        "    y_test = y[int(i*m*0.2):int((i+1)*m*0.2)]\n",
        "    y_train = y_train = y.drop(y_test.index)\n",
        "    batch_w, J_his_batch = batch_gradient_descent_L1(Normalise(X_train) ,y_train ,w,0.0001,4000,0.001)\n",
        "    Cost = cost_function_L1(Normalise(X_test),y_test,batch_w,0.01) \n",
        "    Cost_values.append(Cost)\n",
        "    a,b,c = specs(X_test,y_test,batch_w) \n",
        "    sensitivity.append(a)\n",
        "    specificity.append(b)\n",
        "    accuracy.append(c)\n",
        "\n",
        "    \n",
        "\n",
        "  return Cost_values, sensitivity, specificity, accuracy"
      ],
      "execution_count": null,
      "outputs": []
    },
    {
      "cell_type": "code",
      "metadata": {
        "id": "Yn_Tk2bVj2Kb",
        "colab": {
          "base_uri": "https://localhost:8080/"
        },
        "outputId": "ca24867c-5b9a-4a31-e465-47f732c43493"
      },
      "source": [
        "Cost_values, sensitivity, specificity, accuracy = five_fold_batch_L1(X,y)\n",
        "print('All Cost Values :', Cost_values)\n",
        "print('All sensitivities :', sensitivity)\n",
        "print('All specificities :', specificity)\n",
        "print('All accuracies :', accuracy,'%')"
      ],
      "execution_count": null,
      "outputs": [
        {
          "output_type": "stream",
          "name": "stdout",
          "text": [
            "All Cost Values : [0.5574636678959198, 0.5684773322673898, 0.5662164642857276, 0.5979213059385335, 0.620632311295795]\n",
            "All sensitivities : [0.9411764705882353, 0.9795918367346939, 0.975, 1.0, 1.0]\n",
            "All specificities : [0.9333333333333333, 0.8307692307692308, 0.8648648648648649, 0.7411764705882353, 0.5681818181818182]\n",
            "All accuracies : [93.80530973451327, 89.47368421052632, 90.35087719298247, 80.7017543859649, 66.66666666666666] %\n"
          ]
        }
      ]
    },
    {
      "cell_type": "code",
      "metadata": {
        "colab": {
          "base_uri": "https://localhost:8080/"
        },
        "id": "23z4UN2ccR4v",
        "outputId": "168dfc49-35a9-4271-c3a5-f811c9e8d690"
      },
      "source": [
        "print('Least Cost Value :', min(Cost_values))\n",
        "print('best sensitivity :', max(sensitivity))\n",
        "print('best specificity :', max(specificity))\n",
        "print('best accuracy :', max(accuracy),'%')"
      ],
      "execution_count": null,
      "outputs": [
        {
          "output_type": "stream",
          "name": "stdout",
          "text": [
            "Least Cost Value : 0.5574636678959198\n",
            "best sensitivity : 1.0\n",
            "best specificity : 0.9333333333333333\n",
            "best accuracy : 93.80530973451327 %\n"
          ]
        }
      ]
    },
    {
      "cell_type": "markdown",
      "metadata": {
        "id": "h2VdcCa_8e-y"
      },
      "source": [
        "MINI BATCH GRADIENT DESCENT"
      ]
    },
    {
      "cell_type": "code",
      "metadata": {
        "id": "OV-dWwfpRRXr"
      },
      "source": [
        "alpha = 0.0001\n",
        "iters = 4000\n",
        "batch_size = 50\n",
        "lam = 0.1\n",
        "mini_batch_w_L2, J_his_mini_batch_L2 = mini_batch_gradient_descent_L2(Normalise(X_train),y_train,w,alpha,iters,batch_size,lam)"
      ],
      "execution_count": null,
      "outputs": []
    },
    {
      "cell_type": "code",
      "metadata": {
        "colab": {
          "base_uri": "https://localhost:8080/",
          "height": 268
        },
        "id": "4K3HVVPzSms8",
        "outputId": "75f0a107-5eca-4927-f505-23f9e0c8d6d2"
      },
      "source": [
        "plt.plot(range(iters),J_his_mini_batch_L2)\n",
        "plt.show()"
      ],
      "execution_count": null,
      "outputs": [
        {
          "output_type": "display_data",
          "data": {
            "image/png": "[encoded data removed]",
            "text/plain": [
              "<Figure size 432x288 with 1 Axes>"
            ]
          },
          "metadata": {
            "needs_background": "light"
          }
        }
      ]
    },
    {
      "cell_type": "code",
      "metadata": {
        "id": "vc-PIVWqiEFB"
      },
      "source": [
        "alpha = 0.0001\n",
        "iters = 4000\n",
        "batch_size = 50\n",
        "lam = 0.1\n",
        "mini_batch_w_L1, J_his_mini_batch_L1 = mini_batch_gradient_descent_L1(Normalise(X_train),y_train,w,alpha,iters,batch_size,lam)\n"
      ],
      "execution_count": null,
      "outputs": []
    },
    {
      "cell_type": "code",
      "metadata": {
        "colab": {
          "base_uri": "https://localhost:8080/",
          "height": 265
        },
        "id": "lJHBQeIV9p9T",
        "outputId": "43668ed6-7e36-4338-e769-4790e185bef6"
      },
      "source": [
        "plt.plot(range(iters),J_his_mini_batch_L1)\n",
        "plt.show()"
      ],
      "execution_count": null,
      "outputs": [
        {
          "output_type": "display_data",
          "data": {
            "image/png": "[encoded data removed]",
            "text/plain": [
              "<Figure size 432x288 with 1 Axes>"
            ]
          },
          "metadata": {
            "needs_background": "light"
          }
        }
      ]
    },
    {
      "cell_type": "markdown",
      "metadata": {
        "id": "n07Nrgg-cq1O"
      },
      "source": [
        "EVALUATION METRICS"
      ]
    },
    {
      "cell_type": "code",
      "metadata": {
        "id": "KG9ktrA7j2Dw"
      },
      "source": [
        "def five_fold_mini_batch_L2(X,y):\n",
        "  sensitivity = []\n",
        "  specificity = []\n",
        "  accuracy = []\n",
        "  Cost_values = []\n",
        "  w = np.zeros(X.shape[1]+1)\n",
        "  m = len(y)\n",
        "  for i in range(5):\n",
        "    X_test = X[int(i*m*0.2):int((i+1)*m*0.2)]\n",
        "    X_train = pd.concat([X, X_test, X_test]).drop_duplicates(keep=False)\n",
        "    y_test = y[int(i*m*0.2):int((i+1)*m*0.2)]\n",
        "    y_train = y_train = y.drop(y_test.index)\n",
        "    batch_w, J_his_batch = mini_batch_gradient_descent_L2(Normalise(X_train) ,y_train ,w,0.0001,4000,50,0.001)\n",
        "    Cost = cost_function_L2(Normalise(X_test),y_test,batch_w,0.01) \n",
        "    Cost_values.append(Cost)\n",
        "    a,b,c = specs(X_test,y_test,batch_w) \n",
        "    sensitivity.append(a)\n",
        "    specificity.append(b)\n",
        "    accuracy.append(c)\n",
        "\n",
        "    \n",
        "\n",
        "  return Cost_values, sensitivity, specificity, accuracy"
      ],
      "execution_count": null,
      "outputs": []
    },
    {
      "cell_type": "code",
      "metadata": {
        "colab": {
          "base_uri": "https://localhost:8080/"
        },
        "id": "ELIq0oas0F8M",
        "outputId": "af6f39db-9302-40cf-8e4b-72b910ff4a7f"
      },
      "source": [
        "Cost_values, sensitivity, specificity, accuracy = five_fold_mini_batch_L2(X,y)\n",
        "print('All Cost Values :', Cost_values)\n",
        "print('All sensitivities :', sensitivity)\n",
        "print('All specificities :', specificity)\n",
        "print('All accuracies :', accuracy,'%')"
      ],
      "execution_count": null,
      "outputs": [
        {
          "output_type": "stream",
          "name": "stdout",
          "text": [
            "All Cost Values : [0.5561873462384606, 0.5698902773498267, 0.5679288998989077, 0.5973467973297504, 0.6186134321276424]\n",
            "All sensitivities : [0.9411764705882353, 0.9795918367346939, 0.975, 1.0, 1.0]\n",
            "All specificities : [0.9333333333333333, 0.8461538461538461, 0.8783783783783784, 0.7294117647058823, 0.5681818181818182]\n",
            "All accuracies : [93.80530973451327, 90.35087719298247, 91.22807017543859, 79.82456140350878, 66.66666666666666] %\n"
          ]
        }
      ]
    },
    {
      "cell_type": "code",
      "metadata": {
        "colab": {
          "base_uri": "https://localhost:8080/"
        },
        "id": "Ltv-uBdZcT6v",
        "outputId": "36b760f7-b136-409e-dd22-3037fee7c93e"
      },
      "source": [
        "print('Least Cost Value :', min(Cost_values))\n",
        "print('best sensitivity :', max(sensitivity))\n",
        "print('best specificity :', max(specificity))\n",
        "print('best accuracy :', max(accuracy),'%')"
      ],
      "execution_count": null,
      "outputs": [
        {
          "output_type": "stream",
          "name": "stdout",
          "text": [
            "Least Cost Value : 0.5561873462384606\n",
            "best sensitivity : 1.0\n",
            "best specificity : 0.9333333333333333\n",
            "best accuracy : 93.80530973451327 %\n"
          ]
        }
      ]
    },
    {
      "cell_type": "code",
      "metadata": {
        "id": "iZfewthZhtd3"
      },
      "source": [
        "def five_fold_mini_batch_L1(X,y):\n",
        "  sensitivity = []\n",
        "  specificity = []\n",
        "  accuracy = []\n",
        "  Cost_values = []\n",
        "  w = np.zeros(X.shape[1]+1)\n",
        "  m = len(y)\n",
        "  for i in range(5):\n",
        "    X_test = X[int(i*m*0.2):int((i+1)*m*0.2)]\n",
        "    X_train = pd.concat([X, X_test, X_test]).drop_duplicates(keep=False)\n",
        "    y_test = y[int(i*m*0.2):int((i+1)*m*0.2)]\n",
        "    y_train = y_train = y.drop(y_test.index)\n",
        "    batch_w, J_his_batch = mini_batch_gradient_descent_L1(Normalise(X_train) ,y_train ,w,0.0001,4000,50,0.001)\n",
        "    Cost = cost_function_L1(Normalise(X_test),y_test,batch_w,0.01) \n",
        "    Cost_values.append(Cost)\n",
        "    a,b,c = specs(X_test,y_test,batch_w) \n",
        "    sensitivity.append(a)\n",
        "    specificity.append(b)\n",
        "    accuracy.append(c)\n",
        "\n",
        "    \n",
        "\n",
        "  return Cost_values, sensitivity, specificity, accuracy"
      ],
      "execution_count": null,
      "outputs": []
    },
    {
      "cell_type": "code",
      "metadata": {
        "colab": {
          "base_uri": "https://localhost:8080/"
        },
        "id": "v6iqg7zC0GyH",
        "outputId": "c2e3342c-2424-424e-d99a-157eaf58027e"
      },
      "source": [
        "Cost_values, sensitivity, specificity, accuracy = five_fold_mini_batch_L2(X,y)\n",
        "print('All Cost Values :', Cost_values)\n",
        "print('All sensitivities :', sensitivity)\n",
        "print('All specificities :', specificity)\n",
        "print('All accuracies :', accuracy,'%')"
      ],
      "execution_count": null,
      "outputs": [
        {
          "output_type": "stream",
          "name": "stdout",
          "text": [
            "All Cost Values : [0.5568189645059156, 0.5716799922447726, 0.5680837733243909, 0.5980523793836653, 0.6185718174840664]\n",
            "All sensitivities : [0.9411764705882353, 0.9795918367346939, 0.975, 1.0, 1.0]\n",
            "All specificities : [0.9333333333333333, 0.8461538461538461, 0.8783783783783784, 0.7411764705882353, 0.5681818181818182]\n",
            "All accuracies : [93.80530973451327, 90.35087719298247, 91.22807017543859, 80.7017543859649, 66.66666666666666] %\n"
          ]
        }
      ]
    },
    {
      "cell_type": "code",
      "metadata": {
        "colab": {
          "base_uri": "https://localhost:8080/"
        },
        "id": "IVJfm_U-cVC8",
        "outputId": "ec9c8f40-ace4-4418-a8a0-40af19684475"
      },
      "source": [
        "print('Least Cost Value :', min(Cost_values))\n",
        "print('best sensitivity :', max(sensitivity))\n",
        "print('best specificity :', max(specificity))\n",
        "print('best accuracy :', max(accuracy),'%')"
      ],
      "execution_count": null,
      "outputs": [
        {
          "output_type": "stream",
          "name": "stdout",
          "text": [
            "Least Cost Value : 0.5568189645059156\n",
            "best sensitivity : 1.0\n",
            "best specificity : 0.9333333333333333\n",
            "best accuracy : 93.80530973451327 %\n"
          ]
        }
      ]
    },
    {
      "cell_type": "markdown",
      "metadata": {
        "id": "5mA0otqk8phL"
      },
      "source": [
        "STOCHASTIC GRADIENT DESCENT"
      ]
    },
    {
      "cell_type": "code",
      "metadata": {
        "id": "kgkL9RQnSu3Z"
      },
      "source": [
        "alpha = 0.0001\n",
        "lam = 0.1\n",
        "iters = 4000\n",
        "stochastic_w_L2, J_his_stochastic_L2 = stochastic_gradient_descent_L2(Normalise(X_train),y_train,w,alpha,iters, lam)"
      ],
      "execution_count": null,
      "outputs": []
    },
    {
      "cell_type": "code",
      "metadata": {
        "colab": {
          "base_uri": "https://localhost:8080/",
          "height": 265
        },
        "id": "l4RIPkHRTtl7",
        "outputId": "b631e346-878b-4c58-e932-bf99ff151dfa"
      },
      "source": [
        "plt.plot(range(iters),J_his_stochastic_L2)\n",
        "plt.show()"
      ],
      "execution_count": null,
      "outputs": [
        {
          "output_type": "display_data",
          "data": {
            "image/png": "[encoded data removed]",
            "text/plain": [
              "<Figure size 432x288 with 1 Axes>"
            ]
          },
          "metadata": {
            "needs_background": "light"
          }
        }
      ]
    },
    {
      "cell_type": "code",
      "metadata": {
        "id": "ODELBaX--cfv"
      },
      "source": [
        "alpha = 0.0001\n",
        "lam = 0.1\n",
        "iters = 4000\n",
        "stochastic_w_L1, J_his_stochastic_L1 = stochastic_gradient_descent_L1(Normalise(X_train),y_train,w,alpha,iters, lam)"
      ],
      "execution_count": null,
      "outputs": []
    },
    {
      "cell_type": "code",
      "metadata": {
        "colab": {
          "base_uri": "https://localhost:8080/",
          "height": 265
        },
        "id": "XF078fTF-aTW",
        "outputId": "086d9347-94db-4d73-aa9d-7472d9a7ec19"
      },
      "source": [
        "plt.plot(range(iters),J_his_stochastic_L1)\n",
        "plt.show()"
      ],
      "execution_count": null,
      "outputs": [
        {
          "output_type": "display_data",
          "data": {
            "image/png": "[encoded data removed]",
            "text/plain": [
              "<Figure size 432x288 with 1 Axes>"
            ]
          },
          "metadata": {
            "needs_background": "light"
          }
        }
      ]
    },
    {
      "cell_type": "markdown",
      "metadata": {
        "id": "ELWKECOwctp3"
      },
      "source": [
        "EVALUATION METRICS"
      ]
    },
    {
      "cell_type": "code",
      "metadata": {
        "id": "LJRnACAoj4Cq"
      },
      "source": [
        "def five_fold_stochastic_batch_L2(X,y):\n",
        "  sensitivity = []\n",
        "  specificity = []\n",
        "  accuracy = []\n",
        "  Cost_values = []\n",
        "  w = np.zeros(X.shape[1]+1)\n",
        "  m = len(y)\n",
        "  for i in range(5):\n",
        "    X_test = X[int(i*m*0.2):int((i+1)*m*0.2)]\n",
        "    X_train = pd.concat([X, X_test, X_test]).drop_duplicates(keep=False)\n",
        "    y_test = y[int(i*m*0.2):int((i+1)*m*0.2)]\n",
        "    y_train = y_train = y.drop(y_test.index)\n",
        "    batch_w, J_his_batch = stochastic_gradient_descent_L2(Normalise(X_train) ,y_train ,w,0.0001,4000,0.001)\n",
        "    Cost = cost_function_L2(Normalise(X_test),y_test,batch_w,0.01) \n",
        "    Cost_values.append(Cost)\n",
        "    a,b,c = specs(X_test,y_test,batch_w) \n",
        "    sensitivity.append(a)\n",
        "    specificity.append(b)\n",
        "    accuracy.append(c)\n",
        "\n",
        "    \n",
        "\n",
        "  return Cost_values, sensitivity, specificity, accuracy"
      ],
      "execution_count": null,
      "outputs": []
    },
    {
      "cell_type": "code",
      "metadata": {
        "colab": {
          "base_uri": "https://localhost:8080/"
        },
        "id": "_gIBhtAT06S_",
        "outputId": "2c460b55-d464-47c9-ec53-2d53a86f2abe"
      },
      "source": [
        "Cost_values, sensitivity, specificity, accuracy = five_fold_stochastic_batch_L2(X,y)\n",
        "print('All Cost Values :', Cost_values)\n",
        "print('All sensitivities :', sensitivity)\n",
        "print('All specificities :', specificity)\n",
        "print('All accuracies :', accuracy,'%')"
      ],
      "execution_count": null,
      "outputs": [
        {
          "output_type": "stream",
          "name": "stdout",
          "text": [
            "All Cost Values : [0.5573617524692251, 0.5645004740811812, 0.5626706676298462, 0.5941418064355439, 0.6171830881954828]\n",
            "All sensitivities : [0.9411764705882353, 0.9795918367346939, 0.975, 1.0, 1.0]\n",
            "All specificities : [0.9333333333333333, 0.8, 0.8513513513513513, 0.7411764705882353, 0.5568181818181818]\n",
            "All accuracies : [93.80530973451327, 87.71929824561403, 89.47368421052632, 80.7017543859649, 65.78947368421053] %\n"
          ]
        }
      ]
    },
    {
      "cell_type": "code",
      "metadata": {
        "colab": {
          "base_uri": "https://localhost:8080/"
        },
        "id": "aA642b4fcWiu",
        "outputId": "5d6d6f63-6d78-4fc3-dc88-c6e153975496"
      },
      "source": [
        "print('Least Cost Value :', min(Cost_values))\n",
        "print('best sensitivity :', max(sensitivity))\n",
        "print('best specificity :', max(specificity))\n",
        "print('best accuracy :', max(accuracy),'%')"
      ],
      "execution_count": null,
      "outputs": [
        {
          "output_type": "stream",
          "name": "stdout",
          "text": [
            "Least Cost Value : 0.5573617524692251\n",
            "best sensitivity : 1.0\n",
            "best specificity : 0.9333333333333333\n",
            "best accuracy : 93.80530973451327 %\n"
          ]
        }
      ]
    },
    {
      "cell_type": "code",
      "metadata": {
        "id": "MEZAS8qb926e"
      },
      "source": [
        "def five_fold_stochastic_batch_L1(X,y):\n",
        "  sensitivity = []\n",
        "  specificity = []\n",
        "  accuracy = []\n",
        "  Cost_values = []\n",
        "  w = np.zeros(X.shape[1]+1)\n",
        "  m = len(y)\n",
        "  for i in range(5):\n",
        "    X_test = X[int(i*m*0.2):int((i+1)*m*0.2)]\n",
        "    X_train = pd.concat([X, X_test, X_test]).drop_duplicates(keep=False)\n",
        "    y_test = y[int(i*m*0.2):int((i+1)*m*0.2)]\n",
        "    y_train = y_train = y.drop(y_test.index)\n",
        "    batch_w, J_his_batch = stochastic_gradient_descent_L1(Normalise(X_train) ,y_train ,w,0.0001,4000,0.001)\n",
        "    Cost = cost_function_L1(Normalise(X_test),y_test,batch_w,0.01) \n",
        "    Cost_values.append(Cost)\n",
        "    a,b,c = specs(X_test,y_test,batch_w) \n",
        "    sensitivity.append(a)\n",
        "    specificity.append(b)\n",
        "    accuracy.append(c)\n",
        "\n",
        "    \n",
        "\n",
        "  return Cost_values, sensitivity, specificity, accuracy"
      ],
      "execution_count": null,
      "outputs": []
    },
    {
      "cell_type": "code",
      "metadata": {
        "colab": {
          "base_uri": "https://localhost:8080/"
        },
        "id": "OLca5q9-09KT",
        "outputId": "409ce1cb-949b-43bd-9c30-0f33d7f12e7b"
      },
      "source": [
        "Cost_values, sensitivity, specificity, accuracy = five_fold_stochastic_batch_L2(X,y)\n",
        "print('All Cost Values :', Cost_values)\n",
        "print('All sensitivities :', sensitivity)\n",
        "print('All specificities :', specificity)\n",
        "print('All accuracies :', accuracy,'%')"
      ],
      "execution_count": null,
      "outputs": [
        {
          "output_type": "stream",
          "name": "stdout",
          "text": [
            "All Cost Values : [0.5536508466043838, 0.5604205374710689, 0.5598098039239768, 0.5958421587191094, 0.614704263827509]\n",
            "All sensitivities : [0.9411764705882353, 0.9795918367346939, 0.975, 1.0, 1.0]\n",
            "All specificities : [0.9333333333333333, 0.8461538461538461, 0.8648648648648649, 0.7294117647058823, 0.5795454545454546]\n",
            "All accuracies : [93.80530973451327, 90.35087719298247, 90.35087719298247, 79.82456140350878, 67.54385964912281] %\n"
          ]
        }
      ]
    },
    {
      "cell_type": "code",
      "metadata": {
        "colab": {
          "base_uri": "https://localhost:8080/"
        },
        "id": "GJUKiwUdcXaR",
        "outputId": "a0c9bd2a-93c9-42bd-c353-1389029824d6"
      },
      "source": [
        "print('Least Cost Value :', min(Cost_values))\n",
        "print('best sensitivity :', max(sensitivity))\n",
        "print('best specificity :', max(specificity))\n",
        "print('best accuracy :', max(accuracy),'%')"
      ],
      "execution_count": null,
      "outputs": [
        {
          "output_type": "stream",
          "name": "stdout",
          "text": [
            "Least Cost Value : 0.5536508466043838\n",
            "best sensitivity : 1.0\n",
            "best specificity : 0.9333333333333333\n",
            "best accuracy : 93.80530973451327 %\n"
          ]
        }
      ]
    }
  ]
}