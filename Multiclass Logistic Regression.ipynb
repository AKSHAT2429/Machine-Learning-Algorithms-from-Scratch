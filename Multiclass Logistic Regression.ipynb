{
  "nbformat": 4,
  "nbformat_minor": 0,
  "metadata": {
    "colab": {
      "name": "0264_Q6.ipynb",
      "provenance": [],
      "collapsed_sections": [],
      "toc_visible": true
    },
    "kernelspec": {
      "display_name": "Python 3",
      "name": "python3"
    },
    "language_info": {
      "name": "python"
    }
  },
  "cells": [
    {
      "cell_type": "markdown",
      "metadata": {
        "id": "UZP_nbqf8zBw"
      },
      "source": [
        "IMPORTING IMPORTANT LIBRARIES"
      ]
    },
    {
      "cell_type": "code",
      "metadata": {
        "id": "Hhk9keQOKFV1"
      },
      "source": [
        "import numpy as np\n",
        "import pandas as pd\n",
        "import matplotlib as mpl\n",
        "import matplotlib.pyplot as plt"
      ],
      "execution_count": null,
      "outputs": []
    },
    {
      "cell_type": "markdown",
      "metadata": {
        "id": "sQyxZ7HY85cs"
      },
      "source": [
        "MOUNTING DRIVE"
      ]
    },
    {
      "cell_type": "code",
      "metadata": {
        "colab": {
          "base_uri": "https://localhost:8080/"
        },
        "id": "XFZ8WSk-Kz5r",
        "outputId": "218d5299-7751-41bf-a3b7-6cd5bdb8f1d7"
      },
      "source": [
        "from google.colab import drive\n",
        "drive.mount(\"/content/gdrive\")"
      ],
      "execution_count": null,
      "outputs": [
        {
          "output_type": "stream",
          "name": "stdout",
          "text": [
            "Drive already mounted at /content/gdrive; to attempt to forcibly remount, call drive.mount(\"/content/gdrive\", force_remount=True).\n"
          ]
        }
      ]
    },
    {
      "cell_type": "markdown",
      "metadata": {
        "id": "rHP51jRKdLUW"
      },
      "source": [
        "FUNCTION DEFINITIONS"
      ]
    },
    {
      "cell_type": "code",
      "metadata": {
        "id": "vJynIp6xAcfS"
      },
      "source": [
        "def sigmoid(z):\n",
        "  return (1/(1 + np.exp(-z)))"
      ],
      "execution_count": null,
      "outputs": []
    },
    {
      "cell_type": "code",
      "metadata": {
        "id": "cndVlNafLNRl"
      },
      "source": [
        "def cost_function_L2(X,y,w,lam):\n",
        "  hypothesis = sigmoid(np.dot(X,w.T))\n",
        "  J = -1 / len(y) * np.sum(y*np.log(hypothesis)+(1-y)*np.log(1-hypothesis)) + lam*np.sum(w**2)/2\n",
        "  return J"
      ],
      "execution_count": null,
      "outputs": []
    },
    {
      "cell_type": "code",
      "metadata": {
        "id": "PHtTFcZuA6d3"
      },
      "source": [
        "def cost_function_L1(X,y,w,lam):\n",
        "  hypothesis = sigmoid(np.dot(X,w.T))\n",
        "  J = -1 / len(y) * np.sum(y*np.log(hypothesis)+(1-y)*np.log(1-hypothesis)) + lam*np.abs(np.sum(w))/2\n",
        "  return J"
      ],
      "execution_count": null,
      "outputs": []
    },
    {
      "cell_type": "code",
      "metadata": {
        "id": "5XqanV7GLOcV"
      },
      "source": [
        "def batch_gradient_descent_L2(X,y,w,alpha,iters,lam):\n",
        "  cost_history = np.zeros(iters)\n",
        "  for i in range(iters):\n",
        "    hypothesis = np.dot(X,w.T)\n",
        "    w = (1-alpha*lam)*w - (alpha/len(y)) * np.dot(hypothesis - y,X)\n",
        "    cost_history[i] = cost_function_L2(X,y,w,lam)\n",
        "  return w,cost_history"
      ],
      "execution_count": null,
      "outputs": []
    },
    {
      "cell_type": "code",
      "metadata": {
        "id": "NpQ_TGiRBTDZ"
      },
      "source": [
        "def batch_gradient_descent_L1(X,y,w,alpha,iters,lam):\n",
        "  cost_history = np.zeros(iters)\n",
        "  for i in range(iters):\n",
        "    hypothesis = np.dot(X,w.T)\n",
        "    w = (1-(np.sign(np.sum(w)))*alpha*lam/2)*w - (alpha/len(y)) * np.dot(hypothesis - y,X)\n",
        "    cost_history[i] = cost_function_L1(X,y,w,lam)\n",
        "  return w,cost_history"
      ],
      "execution_count": null,
      "outputs": []
    },
    {
      "cell_type": "code",
      "metadata": {
        "id": "3tj54vlQLOdz"
      },
      "source": [
        "def mini_batch_gradient_descent_L2(X,y,w,alpha,iters,batch_size,lam):\n",
        "  cost_history = np.zeros(iters)\n",
        "  for i in range(iters):\n",
        "    rand_index = np.random.randint(len(y))\n",
        "    ind_x = X[rand_index:rand_index + batch_size]\n",
        "    ind_y = y[rand_index:rand_index + batch_size]\n",
        "    w = (1-alpha*lam)*w - (alpha/batch_size) * (ind_x.T.dot(ind_x.dot(w) - ind_y))\n",
        "    cost_history[i] = cost_function_L2(ind_x,ind_y,w,lam)\n",
        "  return w,cost_history"
      ],
      "execution_count": null,
      "outputs": []
    },
    {
      "cell_type": "code",
      "metadata": {
        "id": "6PCDfcMUBWFu"
      },
      "source": [
        "def mini_batch_gradient_descent_L1(X,y,w,alpha,iters,batch_size,lam):\n",
        "  cost_history = np.zeros(iters)\n",
        "  for i in range(iters):\n",
        "    rand_index = np.random.randint(len(y))\n",
        "    ind_x = X[rand_index:rand_index + batch_size]\n",
        "    ind_y = y[rand_index:rand_index + batch_size]\n",
        "    w =  (1-np.sign(np.sum(w))*alpha*lam/2)*w - (alpha/batch_size) * (ind_x.T.dot(ind_x.dot(w) - ind_y))\n",
        "    cost_history[i] = cost_function_L1(ind_x,ind_y,w,lam)\n",
        "  return w,cost_history"
      ],
      "execution_count": null,
      "outputs": []
    },
    {
      "cell_type": "code",
      "metadata": {
        "id": "g3LrlL4mSCGw"
      },
      "source": [
        "def stochastic_gradient_descent_L2(X,y,w,alpha,iters,lam):\n",
        "  cost_history = np.zeros(iters)\n",
        "  for i in range(iters):\n",
        "    rand_index = np.random.randint(len(y))\n",
        "    ind_x = X[rand_index:rand_index + 1]\n",
        "    ind_y = y[rand_index:rand_index + 1]\n",
        "    w = (1-alpha*lam)*w - alpha * (ind_x.T.dot(ind_x.dot(w) - ind_y))\n",
        "    cost_history[i] = cost_function_L2(ind_x,ind_y,w,lam)\n",
        "  return w,cost_history"
      ],
      "execution_count": null,
      "outputs": []
    },
    {
      "cell_type": "code",
      "metadata": {
        "id": "9nP-WYB3BZAT"
      },
      "source": [
        "def stochastic_gradient_descent_L1(X,y,w,alpha,iters,lam):\n",
        "  cost_history = np.zeros(iters)\n",
        "  for i in range(iters):\n",
        "    rand_index = np.random.randint(len(y))\n",
        "    ind_x = X[rand_index:rand_index + 1]\n",
        "    ind_y = y[rand_index:rand_index + 1]\n",
        "    w =  (1-np.sign(np.sum(w))*alpha*lam/2)*w - alpha * (ind_x.T.dot(ind_x.dot(w) - ind_y))\n",
        "    cost_history[i] = cost_function_L1(ind_x,ind_y,w,lam)\n",
        "  return w,cost_history"
      ],
      "execution_count": null,
      "outputs": []
    },
    {
      "cell_type": "markdown",
      "metadata": {
        "id": "TOgU3ROndN3y"
      },
      "source": [
        "EVALUATION METRICS"
      ]
    },
    {
      "cell_type": "code",
      "metadata": {
        "id": "semDsM1ll4qO"
      },
      "source": [
        "def mean_squared_error(y_hat,y):\n",
        "  error = (1/len(y)) * np.sum((y_hat - y)**2)\n",
        "  return error"
      ],
      "execution_count": null,
      "outputs": []
    },
    {
      "cell_type": "code",
      "metadata": {
        "id": "7IVNEM8Il4x-"
      },
      "source": [
        "def mean_absolute_error(y_hat,y):\n",
        "  error = (1/len(y)) * np.sum(abs(y_hat - y))\n",
        "  return error"
      ],
      "execution_count": null,
      "outputs": []
    },
    {
      "cell_type": "code",
      "metadata": {
        "id": "XxUfJ4jnl45e"
      },
      "source": [
        "def correlation_coefficient(y_hat,y):\n",
        "  coef = np.sum((y_hat - y_hat.mean())*(y - y.mean()))/(np.sqrt(np.sum((y_hat-y_hat.mean())**2))*np.sqrt(np.sum((y-y.mean())**2)))\n",
        "  return coef"
      ],
      "execution_count": null,
      "outputs": []
    },
    {
      "cell_type": "code",
      "metadata": {
        "id": "R5ilSOdyA3dY"
      },
      "source": [
        "def specs(X_test,y_test,w):  \n",
        "  TN, FN, TP, FP = 0, 0, 0, 0\n",
        "\n",
        "  y_pred = np.dot(X_test, w)\n",
        "  y_pred = sigmoid(y_pred)\n",
        "  y_pred[y_pred > 0.5] = 1\n",
        "  y_pred[y_pred <= 0.5] = 0\n",
        "\n",
        "  TP = np.sum(y_pred * y_test)\n",
        "  FP = np.sum(y_pred * (1-y_test))\n",
        "  FN = np.sum((1-y_pred) * y_test)\n",
        "  TN = np.sum((1-y_pred) * (1-y_test))\n",
        "\n",
        "  sensitivity = TP/(TP + FN + 10**(-12))\n",
        "  specificity = TN/(TN + FP + 10**(-12))\n",
        "  accuracy = (TP + TN)/(TP + TN + FP + FN)*100\n",
        "\n",
        "  return sensitivity, specificity, accuracy"
      ],
      "execution_count": null,
      "outputs": []
    },
    {
      "cell_type": "markdown",
      "metadata": {
        "id": "WIq0QNAi9Cn1"
      },
      "source": [
        "DATA PRE-PROCESSING"
      ]
    },
    {
      "cell_type": "code",
      "metadata": {
        "id": "o6GtNF7SLOe3"
      },
      "source": [
        "from random import Random\n",
        "dataset=pd.read_csv(\"/content/gdrive/MyDrive/NNFL_ASSIGNMENT_1/data_q6_q7.txt\",names=[\"a\", \"b\", \"c\", \"d\", \"e\", \"f\", \"g\", \"output\"],delimiter=\"\\t\",error_bad_lines=False)\n",
        "Random(10).shuffle(dataset.values)\n",
        "dataset.reindex(np.random.permutation(dataset.index))\n",
        "data1 = dataset.dropna()\n",
        "data = data1.reset_index()\n",
        "X = data.drop('output',axis=1)\n",
        "y = data['output']"
      ],
      "execution_count": null,
      "outputs": []
    },
    {
      "cell_type": "code",
      "metadata": {
        "id": "ovf_w75SLOf-"
      },
      "source": [
        "def Normalise(X):\n",
        "  mean = X.mean()\n",
        "  std = np.std(X,axis=0)\n",
        "  m = len(X)\n",
        "  X_norm = (X-mean)/std\n",
        "  X_norm = np.c_[np.ones((m, 1)), X_norm]\n",
        "  return X_norm"
      ],
      "execution_count": null,
      "outputs": []
    },
    {
      "cell_type": "code",
      "metadata": {
        "id": "wY-S1aEsLOhF"
      },
      "source": [
        "w = np.zeros(X.shape[1]+1)"
      ],
      "execution_count": null,
      "outputs": []
    },
    {
      "cell_type": "markdown",
      "metadata": {
        "id": "EB0qUo6Z9IFT"
      },
      "source": [
        "BATCH GRADIENT DESCENT"
      ]
    },
    {
      "cell_type": "markdown",
      "metadata": {
        "id": "DQZVAHg2BWlv"
      },
      "source": [
        "ONE VS ALL CODING"
      ]
    },
    {
      "cell_type": "code",
      "metadata": {
        "id": "qhXIhTNICykR"
      },
      "source": [
        "def create_y1(y):\n",
        "  y1 = np.zeros((len(y),3))\n",
        "  for i in range(1,4):\n",
        "      for j in range(0, len(y)):\n",
        "          if y[j] == i:\n",
        "              y1[j, i-1] = 1\n",
        "          else: \n",
        "              y1[j, i-1] = 0\n",
        "  return y1\n",
        "y1 = create_y1(y)"
      ],
      "execution_count": null,
      "outputs": []
    },
    {
      "cell_type": "code",
      "metadata": {
        "id": "-48WM4kDBVUV"
      },
      "source": [
        "def one_vs_all_batch_L2(X,y):\n",
        "  y1 = create_y1(y)\n",
        "  sensitivity = []\n",
        "  specificity = []\n",
        "  accuracy = []\n",
        "  Cost_values = []\n",
        "  w = np.zeros(X.shape[1]+1)\n",
        "  m = len(y1)\n",
        "  for i in range(2,4):\n",
        "    for j in range(1,3):\n",
        "      if i!=j:\n",
        "        y = y1[:,i-1]\n",
        "        y_train = y[:int(m*0.7)]\n",
        "        y_val = y[int(m*0.7):int(m*0.8)]\n",
        "        y_test = y[int(m*0.8):]\n",
        "        X_train = X[:int(m*0.7)]\n",
        "        X_val = X[int(m*0.7):int(m*0.8)]\n",
        "        X_test = X[int(m*0.8):]\n",
        "        batch_w, J_his_batch = batch_gradient_descent_L2(Normalise(X_train),y_train ,w,0.001,4000,0.001)\n",
        "        y_pred = np.dot(Normalise(X_test), w)\n",
        "        y_pred = sigmoid(y_pred)\n",
        "  \n",
        "        y_pred[y_pred > 0.5] = 1\n",
        "        y_pred[y_pred <= 0.5] = 0\n",
        "        Cost = cost_function_L2(Normalise(X_test),y_test,batch_w,0.01) \n",
        "        Cost_values.append(Cost)\n",
        "        a,b,c = specs(Normalise(X_test),y_test,batch_w) \n",
        "        sensitivity.append(a)\n",
        "        specificity.append(b)\n",
        "        accuracy.append(c)\n",
        "  return Cost_values, sensitivity, specificity, accuracy"
      ],
      "execution_count": null,
      "outputs": []
    },
    {
      "cell_type": "code",
      "metadata": {
        "colab": {
          "base_uri": "https://localhost:8080/"
        },
        "id": "MIhLdoxYBVga",
        "outputId": "151f0945-ec8d-42c3-cbcd-3bd77c491ce4"
      },
      "source": [
        "Cost_values, sensitivity, specificity, accuracy = one_vs_all_batch_L2(X,y)\n",
        "print('All Cost Values :', Cost_values)\n",
        "print('All accuracies :', accuracy,'%')"
      ],
      "execution_count": null,
      "outputs": [
        {
          "output_type": "stream",
          "name": "stdout",
          "text": [
            "All Cost Values : [0.5946191854779819, 0.6931471805599453, 0.6931471805599453]\n",
            "All accuracies : [92.6829268292683, 80.48780487804879, 80.48780487804879] %\n"
          ]
        }
      ]
    },
    {
      "cell_type": "code",
      "metadata": {
        "colab": {
          "base_uri": "https://localhost:8080/"
        },
        "id": "dlFYbTZFfbiy",
        "outputId": "07a56b32-a3e4-476e-9807-9674f9d24342"
      },
      "source": [
        "print('Least Cost Value :', min(Cost_values))\n",
        "print('best accuracy :', max(accuracy),'%')"
      ],
      "execution_count": null,
      "outputs": [
        {
          "output_type": "stream",
          "name": "stdout",
          "text": [
            "Least Cost Value : 0.5946191854779819\n",
            "best accuracy : 92.6829268292683 %\n"
          ]
        }
      ]
    },
    {
      "cell_type": "code",
      "metadata": {
        "id": "BPX9zBn_Xw7H"
      },
      "source": [
        "def one_vs_all_batch_L1(X,y):\n",
        "  y1 = create_y1(y)\n",
        "  sensitivity = []\n",
        "  specificity = []\n",
        "  accuracy = []\n",
        "  Cost_values = []\n",
        "  w = np.zeros(X.shape[1]+1)\n",
        "  m = len(y1)\n",
        "  for i in range(2,4):\n",
        "    for j in range(1,3):\n",
        "      if i!=j:\n",
        "        y = y1[:,i-1]\n",
        "        y_train = y[:int(m*0.7)]\n",
        "        y_val = y[int(m*0.7):int(m*0.8)]\n",
        "        y_test = y[int(m*0.8):]\n",
        "        X_train = X[:int(m*0.7)]\n",
        "        X_val = X[int(m*0.7):int(m*0.8)]\n",
        "        X_test = X[int(m*0.8):]\n",
        "        batch_w, J_his_batch = batch_gradient_descent_L1(Normalise(X_train),y_train ,w,0.001,4000,0.001)\n",
        "        y_pred = np.dot(Normalise(X_test), w)\n",
        "        y_pred = sigmoid(y_pred)\n",
        "  \n",
        "        y_pred[y_pred > 0.5] = 1\n",
        "        y_pred[y_pred <= 0.5] = 0\n",
        "        Cost = cost_function_L1(Normalise(X_test),y_test,batch_w,0.01) \n",
        "        Cost_values.append(Cost)\n",
        "        a,b,c = specs(Normalise(X_test),y_test,batch_w) \n",
        "        sensitivity.append(a)\n",
        "        specificity.append(b)\n",
        "        accuracy.append(c)\n",
        "  return Cost_values, sensitivity, specificity, accuracy"
      ],
      "execution_count": null,
      "outputs": []
    },
    {
      "cell_type": "code",
      "metadata": {
        "colab": {
          "base_uri": "https://localhost:8080/"
        },
        "id": "zo8Avfaag4T_",
        "outputId": "333ecae8-1079-4be3-e145-9704d7e4cb28"
      },
      "source": [
        "Cost_values, sensitivity, specificity, accuracy = one_vs_all_batch_L1(X,y)\n",
        "print('All Cost Values :', Cost_values)\n",
        "print('All accuracies :', accuracy,'%')"
      ],
      "execution_count": null,
      "outputs": [
        {
          "output_type": "stream",
          "name": "stdout",
          "text": [
            "All Cost Values : [0.5969430077888408, 0.6931471805599453, 0.6931471805599453]\n",
            "All accuracies : [92.6829268292683, 80.48780487804879, 80.48780487804879] %\n"
          ]
        }
      ]
    },
    {
      "cell_type": "code",
      "metadata": {
        "colab": {
          "base_uri": "https://localhost:8080/"
        },
        "id": "VGJ2OQzTg4UB",
        "outputId": "2f3dec3e-b8eb-4315-8f7a-ced3998ebbb6"
      },
      "source": [
        "print('Least Cost Value :', min(Cost_values))\n",
        "print('best accuracy :', max(accuracy),'%')"
      ],
      "execution_count": null,
      "outputs": [
        {
          "output_type": "stream",
          "name": "stdout",
          "text": [
            "Least Cost Value : 0.5969430077888408\n",
            "best accuracy : 92.6829268292683 %\n"
          ]
        }
      ]
    },
    {
      "cell_type": "markdown",
      "metadata": {
        "id": "czuJN7aoMlBW"
      },
      "source": [
        "ONE VS ONE CODING"
      ]
    },
    {
      "cell_type": "code",
      "metadata": {
        "id": "1BWezvTvQUHG"
      },
      "source": [
        "#Preparing data for 1 vs 1 multiclass classification\n",
        "train1 = []\n",
        "train2 = []\n",
        "train3 = []\n",
        "label1 = []\n",
        "label2 = []\n",
        "label3 = []\n",
        "train_output = y\n",
        "train = Normalise(X)\n",
        "for i in range(train_output.shape[0]):\n",
        "    if train_output[i] == 1 or train_output[i] == 2:\n",
        "        train1.append(train[i])\n",
        "        if train_output[i] == 1:\n",
        "            label1.append(1)\n",
        "        else:\n",
        "            label1.append(0)\n",
        "for i in range(train_output.shape[0]):\n",
        "    if train_output[i] == 1 or train_output[i] == 3:\n",
        "        train2.append(train[i])\n",
        "        if train_output[i] == 1:\n",
        "            label2.append(1)\n",
        "        else:\n",
        "            label2.append(0)\n",
        "for i in range(train_output.shape[0]):\n",
        "    if train_output[i] == 2 or train_output[i] == 3:\n",
        "        train3.append(train[i])\n",
        "        if train_output[i] == 2:\n",
        "            label3.append(1)\n",
        "        else:\n",
        "            label3.append(0)"
      ],
      "execution_count": null,
      "outputs": []
    },
    {
      "cell_type": "code",
      "metadata": {
        "id": "EnPc6Y9IMAo1"
      },
      "source": [
        "def one_vs_one_batch_L2(X,y):\n",
        "  sensitivity = []\n",
        "  specificity = []\n",
        "  accuracy = []\n",
        "  Cost_values = []\n",
        "  w = np.zeros(X.shape[1])\n",
        "  m = len(y)\n",
        "  \n",
        "\n",
        "  y_train = y[:int(m*0.7)]\n",
        "  y_val = y[int(m*0.7):int(m*0.8)]\n",
        "  y_test = y[int(m*0.8):]\n",
        "  X_train = X[:int(m*0.7)]\n",
        "  X_val = X[int(m*0.7):int(m*0.8)]\n",
        "  X_test = X[int(m*0.8):]\n",
        "  batch_w, J_his_batch = batch_gradient_descent_L2(X_train,y_train ,w,0.001,4000,0.001)\n",
        "  y_pred = np.dot(X_test, w)\n",
        "  y_pred = sigmoid(y_pred)\n",
        "  y_pred[y_pred > 0.5] = 1\n",
        "  y_pred[y_pred <= 0.5] = 0\n",
        "  Cost = cost_function_L2(X_test,y_test,batch_w,0.01) \n",
        "  Cost_values.append(Cost)\n",
        "  a,b,c = specs(X_test,y_test,batch_w) \n",
        "  sensitivity.append(a)\n",
        "  specificity.append(b)\n",
        "  accuracy.append(c)\n",
        "  return Cost_values, sensitivity, specificity, accuracy"
      ],
      "execution_count": null,
      "outputs": []
    },
    {
      "cell_type": "code",
      "metadata": {
        "id": "GxTSOmBWXpe2"
      },
      "source": [
        "def one_vs_one_batch_L1(X,y):\n",
        "  sensitivity = []\n",
        "  specificity = []\n",
        "  accuracy = []\n",
        "  Cost_values = []\n",
        "  w = np.zeros(X.shape[1])\n",
        "  m = len(y)\n",
        "  \n",
        "\n",
        "  y_train = y[:int(m*0.7)]\n",
        "  y_val = y[int(m*0.7):int(m*0.8)]\n",
        "  y_test = y[int(m*0.8):]\n",
        "  X_train = X[:int(m*0.7)]\n",
        "  X_val = X[int(m*0.7):int(m*0.8)]\n",
        "  X_test = X[int(m*0.8):]\n",
        "  batch_w, J_his_batch = batch_gradient_descent_L1(X_train,y_train ,w,0.001,4000,0.001)\n",
        "  y_pred = np.dot(X_test, w)\n",
        "  y_pred = sigmoid(y_pred)\n",
        "  y_pred[y_pred > 0.5] = 1\n",
        "  y_pred[y_pred <= 0.5] = 0\n",
        "  Cost = cost_function_L1(X_test,y_test,batch_w,0.01) \n",
        "  Cost_values.append(Cost)\n",
        "  a,b,c = specs(X_test,y_test,batch_w) \n",
        "  sensitivity.append(a)\n",
        "  specificity.append(b)\n",
        "  accuracy.append(c)\n",
        "  return Cost_values, sensitivity, specificity, accuracy"
      ],
      "execution_count": null,
      "outputs": []
    },
    {
      "cell_type": "code",
      "metadata": {
        "id": "0UJdlN2t500v"
      },
      "source": [
        "batch_w1_L2, J_his_batch1_L2 = batch_gradient_descent_L2(np.array(train1),np.array(label1) ,w,0.001,4000,0.001)\n",
        "batch_w2_L2, J_his_batch2_L2 = batch_gradient_descent_L2(np.array(train2),np.array(label2) ,w,0.001,4000,0.001)\n",
        "batch_w3_L2, J_his_batch3_L2 = batch_gradient_descent_L2(np.array(train3),np.array(label3) ,w,0.001,4000,0.001)\n",
        "\n",
        "batch_w1_L1, J_his_batch1_L1 = batch_gradient_descent_L1(np.array(train1),np.array(label1) ,w,0.001,4000,0.001)\n",
        "batch_w2_L1, J_his_batch2_L1 = batch_gradient_descent_L1(np.array(train2),np.array(label2) ,w,0.001,4000,0.001)\n",
        "batch_w3_L1, J_his_batch3_L1 = batch_gradient_descent_L1(np.array(train3),np.array(label3) ,w,0.001,4000,0.001)"
      ],
      "execution_count": null,
      "outputs": []
    },
    {
      "cell_type": "code",
      "metadata": {
        "colab": {
          "base_uri": "https://localhost:8080/",
          "height": 266
        },
        "id": "AkqYgmzH6mo_",
        "outputId": "5ca1e2f5-c70c-4436-b82f-b6415b839075"
      },
      "source": [
        "plt.plot(range(4000),J_his_batch1_L2)\n",
        "plt.show()"
      ],
      "execution_count": null,
      "outputs": [
        {
          "output_type": "display_data",
          "data": {
            "image/png": "[encoded data removed]",
            "text/plain": [
              "<Figure size 432x288 with 1 Axes>"
            ]
          },
          "metadata": {
            "needs_background": "light"
          }
        }
      ]
    },
    {
      "cell_type": "code",
      "metadata": {
        "colab": {
          "base_uri": "https://localhost:8080/",
          "height": 265
        },
        "id": "QxI3QyjL6w-W",
        "outputId": "55d5a470-5196-4cb1-8c95-593cf7455cad"
      },
      "source": [
        "plt.plot(range(4000),J_his_batch2_L2)\n",
        "plt.show()"
      ],
      "execution_count": null,
      "outputs": [
        {
          "output_type": "display_data",
          "data": {
            "image/png": "[encoded data removed]",
            "text/plain": [
              "<Figure size 432x288 with 1 Axes>"
            ]
          },
          "metadata": {
            "needs_background": "light"
          }
        }
      ]
    },
    {
      "cell_type": "code",
      "metadata": {
        "colab": {
          "base_uri": "https://localhost:8080/",
          "height": 267
        },
        "id": "V1blMUvq6xBu",
        "outputId": "fe95a9d9-542f-472e-ab2c-b4da68f2bd84"
      },
      "source": [
        "plt.plot(range(4000),J_his_batch3_L2)\n",
        "plt.show()"
      ],
      "execution_count": null,
      "outputs": [
        {
          "output_type": "display_data",
          "data": {
            "image/png": "[encoded data removed]",
            "text/plain": [
              "<Figure size 432x288 with 1 Axes>"
            ]
          },
          "metadata": {
            "needs_background": "light"
          }
        }
      ]
    },
    {
      "cell_type": "code",
      "metadata": {
        "colab": {
          "base_uri": "https://localhost:8080/",
          "height": 266
        },
        "id": "E5Y2g40BMlIb",
        "outputId": "d6102a94-2132-43e5-b954-c92aa3b40690"
      },
      "source": [
        "plt.plot(range(4000),J_his_batch1_L1)\n",
        "plt.show()"
      ],
      "execution_count": null,
      "outputs": [
        {
          "output_type": "display_data",
          "data": {
            "image/png": "[encoded data removed]",
            "text/plain": [
              "<Figure size 432x288 with 1 Axes>"
            ]
          },
          "metadata": {
            "needs_background": "light"
          }
        }
      ]
    },
    {
      "cell_type": "code",
      "metadata": {
        "colab": {
          "base_uri": "https://localhost:8080/",
          "height": 265
        },
        "id": "an-2K_1TMlL4",
        "outputId": "a8fdad3b-0803-452c-d121-409baf1ef6e9"
      },
      "source": [
        "plt.plot(range(4000),J_his_batch2_L1)\n",
        "plt.show()"
      ],
      "execution_count": null,
      "outputs": [
        {
          "output_type": "display_data",
          "data": {
            "image/png": "[encoded data removed]",
            "text/plain": [
              "<Figure size 432x288 with 1 Axes>"
            ]
          },
          "metadata": {
            "needs_background": "light"
          }
        }
      ]
    },
    {
      "cell_type": "code",
      "metadata": {
        "colab": {
          "base_uri": "https://localhost:8080/",
          "height": 267
        },
        "id": "evZXs4G9MlQT",
        "outputId": "4efa5758-fdc3-44fc-d992-d9ec55265651"
      },
      "source": [
        "plt.plot(range(4000),J_his_batch3_L1)\n",
        "plt.show()"
      ],
      "execution_count": null,
      "outputs": [
        {
          "output_type": "display_data",
          "data": {
            "image/png": "[encoded data removed]",
            "text/plain": [
              "<Figure size 432x288 with 1 Axes>"
            ]
          },
          "metadata": {
            "needs_background": "light"
          }
        }
      ]
    },
    {
      "cell_type": "code",
      "metadata": {
        "colab": {
          "base_uri": "https://localhost:8080/"
        },
        "id": "GnBJqVyb8WvL",
        "outputId": "7c937bd7-32fd-4483-ea32-746493ddf8be"
      },
      "source": [
        "print('[Cost_values]', '[sensitivity]', '[specificity]', '[accuracy] :',one_vs_one_batch_L2(np.array(train1),np.array(label1)))\n",
        "print('[Cost_values]', '[sensitivity]', '[specificity]', '[accuracy] :',one_vs_one_batch_L2(np.array(train2),np.array(label2)))\n",
        "print('[Cost_values]', '[sensitivity]', '[specificity]', '[accuracy] :',one_vs_one_batch_L2(np.array(train3),np.array(label3)))"
      ],
      "execution_count": null,
      "outputs": [
        {
          "output_type": "stream",
          "name": "stdout",
          "text": [
            "[Cost_values] [sensitivity] [specificity] [accuracy] : ([0.5966838975007281], [0.9999999999999376], [0.6086956521738867], [76.92307692307693])\n",
            "[Cost_values] [sensitivity] [specificity] [accuracy] : ([0.6447772202230084], [0.9999999999999525], [0.0], [67.74193548387096])\n",
            "[Cost_values] [sensitivity] [specificity] [accuracy] : ([0.4626258156920537], [0.999999999999875], [0.0], [66.66666666666666])\n"
          ]
        }
      ]
    },
    {
      "cell_type": "code",
      "metadata": {
        "colab": {
          "base_uri": "https://localhost:8080/"
        },
        "id": "PYH_UooAXiim",
        "outputId": "32a03987-0307-4909-b0d0-3c2592c9bd4c"
      },
      "source": [
        "#print('[Cost_values]', '[sensitivity]', '[specificity]', '[accuracy]')\n",
        "print('[Cost_values]', '[sensitivity]', '[specificity]', '[accuracy] :',one_vs_one_batch_L1(np.array(train1),np.array(label1)))\n",
        "print('[Cost_values]', '[sensitivity]', '[specificity]', '[accuracy] :',one_vs_one_batch_L1(np.array(train2),np.array(label2)))\n",
        "print('[Cost_values]', '[sensitivity]', '[specificity]', '[accuracy] :',one_vs_one_batch_L1(np.array(train3),np.array(label3)))"
      ],
      "execution_count": null,
      "outputs": [
        {
          "output_type": "stream",
          "name": "stdout",
          "text": [
            "[Cost_values] [sensitivity] [specificity] [accuracy] : ([0.5948461358310559], [0.9999999999999376], [0.6086956521738867], [76.92307692307693])\n",
            "[Cost_values] [sensitivity] [specificity] [accuracy] : ([0.6431507400117318], [0.9999999999999525], [0.0], [67.74193548387096])\n",
            "[Cost_values] [sensitivity] [specificity] [accuracy] : ([0.4660609073276742], [0.999999999999875], [0.0], [66.66666666666666])\n"
          ]
        }
      ]
    },
    {
      "cell_type": "markdown",
      "metadata": {
        "id": "O7mOohWVM7lo"
      },
      "source": [
        "MINI-BATCH GRADIENT DESCENT"
      ]
    },
    {
      "cell_type": "markdown",
      "metadata": {
        "id": "HI-O0CkSOWu2"
      },
      "source": [
        "ONE VS ALL CODING"
      ]
    },
    {
      "cell_type": "code",
      "metadata": {
        "id": "y4zmjf0uOWvR"
      },
      "source": [
        "def one_vs_all_mini_L2(X,y):\n",
        "  y1 = create_y1(y)\n",
        "  sensitivity = []\n",
        "  specificity = []\n",
        "  accuracy = []\n",
        "  Cost_values = []\n",
        "  w = np.zeros(X.shape[1]+1)\n",
        "  m = len(y1)\n",
        "  for i in range(2,4):\n",
        "    for j in range(1,3):\n",
        "      if i!=j:\n",
        "        y = y1[:,i-1]\n",
        "        y_train = y[:int(m*0.7)]\n",
        "        y_val = y[int(m*0.7):int(m*0.8)]\n",
        "        y_test = y[int(m*0.8):]\n",
        "        X_train = X[:int(m*0.7)]\n",
        "        X_val = X[int(m*0.7):int(m*0.8)]\n",
        "        X_test = X[int(m*0.8):]\n",
        "        batch_w, J_his_batch = mini_batch_gradient_descent_L2(Normalise(X_train),y_train ,w,0.001,4000,50,0.001)\n",
        "        y_pred = np.dot(Normalise(X_test), w)\n",
        "        y_pred = sigmoid(y_pred)\n",
        "  \n",
        "        y_pred[y_pred > 0.5] = 1\n",
        "        y_pred[y_pred <= 0.5] = 0\n",
        "        Cost = cost_function_L2(Normalise(X_test),y_test,batch_w,0.01) \n",
        "        Cost_values.append(Cost)\n",
        "        a,b,c = specs(Normalise(X_test),y_test,batch_w) \n",
        "        sensitivity.append(a)\n",
        "        specificity.append(b)\n",
        "        accuracy.append(c)\n",
        "  return Cost_values, sensitivity, specificity, accuracy"
      ],
      "execution_count": null,
      "outputs": []
    },
    {
      "cell_type": "code",
      "metadata": {
        "id": "1zvMLkkdhAlz",
        "colab": {
          "base_uri": "https://localhost:8080/"
        },
        "outputId": "2f60908a-1bfd-452c-9b35-b2f1cd6ef085"
      },
      "source": [
        "Cost_values, sensitivity, specificity, accuracy = one_vs_all_mini_L2(X,y)\n",
        "print('All Cost Values :', Cost_values)\n",
        "print('All accuracies :', accuracy,'%')"
      ],
      "execution_count": null,
      "outputs": [
        {
          "output_type": "stream",
          "name": "stdout",
          "text": [
            "All Cost Values : [0.5900058014492287, 0.6931471805599453, 0.6931471805599453]\n",
            "All accuracies : [92.6829268292683, 80.48780487804879, 80.48780487804879] %\n"
          ]
        }
      ]
    },
    {
      "cell_type": "code",
      "metadata": {
        "id": "arvqSbfNhAl1",
        "colab": {
          "base_uri": "https://localhost:8080/"
        },
        "outputId": "cd2e3512-1ba0-49d5-a198-b268deb95fe2"
      },
      "source": [
        "print('Least Cost Value :', min(Cost_values))\n",
        "print('best accuracy :', max(accuracy),'%')"
      ],
      "execution_count": null,
      "outputs": [
        {
          "output_type": "stream",
          "name": "stdout",
          "text": [
            "Least Cost Value : 0.5900058014492287\n",
            "best accuracy : 92.6829268292683 %\n"
          ]
        }
      ]
    },
    {
      "cell_type": "code",
      "metadata": {
        "id": "GHl0bxFzQivR"
      },
      "source": [
        "def one_vs_all_mini_L1(X,y):\n",
        "  y1 = create_y1(y)\n",
        "  sensitivity = []\n",
        "  specificity = []\n",
        "  accuracy = []\n",
        "  Cost_values = []\n",
        "  w = np.zeros(X.shape[1]+1)\n",
        "  m = len(y1)\n",
        "  for i in range(2,4):\n",
        "    for j in range(1,3):\n",
        "      if i!=j:\n",
        "        y = y1[:,i-1]\n",
        "        y_train = y[:int(m*0.7)]\n",
        "        y_val = y[int(m*0.7):int(m*0.8)]\n",
        "        y_test = y[int(m*0.8):]\n",
        "        X_train = X[:int(m*0.7)]\n",
        "        X_val = X[int(m*0.7):int(m*0.8)]\n",
        "        X_test = X[int(m*0.8):]\n",
        "        batch_w, J_his_batch = mini_batch_gradient_descent_L1(Normalise(X_train),y_train ,w,0.001,4000,50,0.001)\n",
        "        y_pred = np.dot(Normalise(X_test), w)\n",
        "        y_pred = sigmoid(y_pred)\n",
        "  \n",
        "        y_pred[y_pred > 0.5] = 1\n",
        "        y_pred[y_pred <= 0.5] = 0\n",
        "        Cost = cost_function_L1(Normalise(X_test),y_test,batch_w,0.01) \n",
        "        Cost_values.append(Cost)\n",
        "        a,b,c = specs(Normalise(X_test),y_test,batch_w) \n",
        "        sensitivity.append(a)\n",
        "        specificity.append(b)\n",
        "        accuracy.append(c)\n",
        "  return Cost_values, sensitivity, specificity, accuracy"
      ],
      "execution_count": null,
      "outputs": []
    },
    {
      "cell_type": "code",
      "metadata": {
        "id": "C9OrMnl2hBgk",
        "colab": {
          "base_uri": "https://localhost:8080/"
        },
        "outputId": "676b8295-2eb3-4f44-cf8d-d0189bd20044"
      },
      "source": [
        "Cost_values, sensitivity, specificity, accuracy = one_vs_all_mini_L1(X,y)\n",
        "print('All Cost Values :', Cost_values)\n",
        "print('All accuracies :', accuracy,'%')"
      ],
      "execution_count": null,
      "outputs": [
        {
          "output_type": "stream",
          "name": "stdout",
          "text": [
            "All Cost Values : [0.5917650668333816, 0.6931471805599453, 0.6931471805599453]\n",
            "All accuracies : [92.6829268292683, 80.48780487804879, 80.48780487804879] %\n"
          ]
        }
      ]
    },
    {
      "cell_type": "code",
      "metadata": {
        "id": "ia2NgeXwhBgk",
        "colab": {
          "base_uri": "https://localhost:8080/"
        },
        "outputId": "d90a53d5-4a2a-4342-917e-c253ffff5133"
      },
      "source": [
        "print('Least Cost Value :', min(Cost_values))\n",
        "print('best accuracy :', max(accuracy),'%')"
      ],
      "execution_count": null,
      "outputs": [
        {
          "output_type": "stream",
          "name": "stdout",
          "text": [
            "Least Cost Value : 0.5917650668333816\n",
            "best accuracy : 92.6829268292683 %\n"
          ]
        }
      ]
    },
    {
      "cell_type": "markdown",
      "metadata": {
        "id": "BUWOe9ezOWvU"
      },
      "source": [
        "ONE VS ONE CODING"
      ]
    },
    {
      "cell_type": "code",
      "metadata": {
        "id": "o7_e1_W0OWvU"
      },
      "source": [
        "#Preparing data for 1 vs 1 multiclass classification\n",
        "train1 = []\n",
        "train2 = []\n",
        "train3 = []\n",
        "label1 = []\n",
        "label2 = []\n",
        "label3 = []\n",
        "train_output = y\n",
        "train = Normalise(X)\n",
        "for i in range(train_output.shape[0]):\n",
        "    if train_output[i] == 1 or train_output[i] == 2:\n",
        "        train1.append(train[i])\n",
        "        if train_output[i] == 1:\n",
        "            label1.append(1)\n",
        "        else:\n",
        "            label1.append(0)\n",
        "for i in range(train_output.shape[0]):\n",
        "    if train_output[i] == 1 or train_output[i] == 3:\n",
        "        train2.append(train[i])\n",
        "        if train_output[i] == 1:\n",
        "            label2.append(1)\n",
        "        else:\n",
        "            label2.append(0)\n",
        "for i in range(train_output.shape[0]):\n",
        "    if train_output[i] == 2 or train_output[i] == 3:\n",
        "        train3.append(train[i])\n",
        "        if train_output[i] == 2:\n",
        "            label3.append(1)\n",
        "        else:\n",
        "            label3.append(0)"
      ],
      "execution_count": null,
      "outputs": []
    },
    {
      "cell_type": "code",
      "metadata": {
        "id": "ATxfYLeKOWvW"
      },
      "source": [
        "def one_vs_one_mini_L2(X,y):\n",
        "  sensitivity = []\n",
        "  specificity = []\n",
        "  accuracy = []\n",
        "  Cost_values = []\n",
        "  w = np.zeros(X.shape[1])\n",
        "  m = len(y)\n",
        "  \n",
        "\n",
        "  y_train = y[:int(m*0.7)]\n",
        "  y_val = y[int(m*0.7):int(m*0.8)]\n",
        "  y_test = y[int(m*0.8):]\n",
        "  X_train = X[:int(m*0.7)]\n",
        "  X_val = X[int(m*0.7):int(m*0.8)]\n",
        "  X_test = X[int(m*0.8):]\n",
        "  batch_w, J_his_batch = mini_batch_gradient_descent_L2(X_train,y_train ,w,0.001,4000,50,0.001)\n",
        "  y_pred = np.dot(X_test, w)\n",
        "  y_pred = sigmoid(y_pred)\n",
        "  y_pred[y_pred > 0.5] = 1\n",
        "  y_pred[y_pred <= 0.5] = 0\n",
        "  Cost = cost_function_L2(X_test,y_test,batch_w,0.01) \n",
        "  Cost_values.append(Cost)\n",
        "  a,b,c = specs(X_test,y_test,batch_w) \n",
        "  sensitivity.append(a)\n",
        "  specificity.append(b)\n",
        "  accuracy.append(c)\n",
        "  return Cost_values, sensitivity, specificity, accuracy"
      ],
      "execution_count": null,
      "outputs": []
    },
    {
      "cell_type": "code",
      "metadata": {
        "id": "7D9XNqE5QvS_"
      },
      "source": [
        "def one_vs_one_mini_L1(X,y):\n",
        "  sensitivity = []\n",
        "  specificity = []\n",
        "  accuracy = []\n",
        "  Cost_values = []\n",
        "  w = np.zeros(X.shape[1])\n",
        "  m = len(y)\n",
        "  \n",
        "\n",
        "  y_train = y[:int(m*0.7)]\n",
        "  y_val = y[int(m*0.7):int(m*0.8)]\n",
        "  y_test = y[int(m*0.8):]\n",
        "  X_train = X[:int(m*0.7)]\n",
        "  X_val = X[int(m*0.7):int(m*0.8)]\n",
        "  X_test = X[int(m*0.8):]\n",
        "  batch_w, J_his_batch = mini_batch_gradient_descent_L1(X_train,y_train ,w,0.001,4000,50,0.001)\n",
        "  y_pred = np.dot(X_test, w)\n",
        "  y_pred = sigmoid(y_pred)\n",
        "  y_pred[y_pred > 0.5] = 1\n",
        "  y_pred[y_pred <= 0.5] = 0\n",
        "  Cost = cost_function_L1(X_test,y_test,batch_w,0.01) \n",
        "  Cost_values.append(Cost)\n",
        "  a,b,c = specs(X_test,y_test,batch_w) \n",
        "  sensitivity.append(a)\n",
        "  specificity.append(b)\n",
        "  accuracy.append(c)\n",
        "  return Cost_values, sensitivity, specificity, accuracy"
      ],
      "execution_count": null,
      "outputs": []
    },
    {
      "cell_type": "code",
      "metadata": {
        "id": "xyjf5PNsOWvX"
      },
      "source": [
        "mini_batch_w1_L2, mini_J_his_batch1_L2 = mini_batch_gradient_descent_L2(np.array(train1),np.array(label1) ,w,0.001,4000,50,0)\n",
        "mini_batch_w2_L2, mini_J_his_batch2_L2 = mini_batch_gradient_descent_L2(np.array(train2),np.array(label2) ,w,0.001,4000,50,0)\n",
        "mini_batch_w3_L2, mini_J_his_batch3_L2 = mini_batch_gradient_descent_L2(np.array(train3),np.array(label3) ,w,0.001,4000,50,0)\n",
        "\n",
        "mini_batch_w1_L1, mini_J_his_batch1_L1 = mini_batch_gradient_descent_L1(np.array(train1),np.array(label1) ,w,0.001,4000,50,0.001)\n",
        "mini_batch_w2_L1, mini_J_his_batch2_L1 = mini_batch_gradient_descent_L1(np.array(train2),np.array(label2) ,w,0.001,4000,50,0.001)\n",
        "mini_batch_w3_L1, mini_J_his_batch3_L1 = mini_batch_gradient_descent_L1(np.array(train3),np.array(label3) ,w,0.001,4000,50,0.001)"
      ],
      "execution_count": null,
      "outputs": []
    },
    {
      "cell_type": "code",
      "metadata": {
        "id": "cANojRiYOWvY",
        "colab": {
          "base_uri": "https://localhost:8080/",
          "height": 265
        },
        "outputId": "610140a9-1b2a-4125-e751-f40e44d693b4"
      },
      "source": [
        "plt.plot(range(4000),mini_J_his_batch1_L2)\n",
        "plt.show()"
      ],
      "execution_count": null,
      "outputs": [
        {
          "output_type": "display_data",
          "data": {
            "image/png": "[encoded data removed]",
            "text/plain": [
              "<Figure size 432x288 with 1 Axes>"
            ]
          },
          "metadata": {
            "needs_background": "light"
          }
        }
      ]
    },
    {
      "cell_type": "code",
      "metadata": {
        "id": "0Bm4gARtOWva",
        "colab": {
          "base_uri": "https://localhost:8080/",
          "height": 265
        },
        "outputId": "ddfd0b58-63ce-4c78-a2a5-b3fbc6dfe0cc"
      },
      "source": [
        "plt.plot(range(4000),mini_J_his_batch2_L2)\n",
        "plt.show()"
      ],
      "execution_count": null,
      "outputs": [
        {
          "output_type": "display_data",
          "data": {
            "image/png": "[encoded data removed]",
            "text/plain": [
              "<Figure size 432x288 with 1 Axes>"
            ]
          },
          "metadata": {
            "needs_background": "light"
          }
        }
      ]
    },
    {
      "cell_type": "code",
      "metadata": {
        "id": "01f2AvKSOWvb",
        "colab": {
          "base_uri": "https://localhost:8080/",
          "height": 265
        },
        "outputId": "af13fd07-ffb4-46e2-fb78-2d8e31831789"
      },
      "source": [
        "plt.plot(range(4000),mini_J_his_batch3_L2)\n",
        "plt.show()"
      ],
      "execution_count": null,
      "outputs": [
        {
          "output_type": "display_data",
          "data": {
            "image/png": "[encoded data removed]",
            "text/plain": [
              "<Figure size 432x288 with 1 Axes>"
            ]
          },
          "metadata": {
            "needs_background": "light"
          }
        }
      ]
    },
    {
      "cell_type": "code",
      "metadata": {
        "id": "3F6wkvwjOWvc",
        "colab": {
          "base_uri": "https://localhost:8080/",
          "height": 265
        },
        "outputId": "94c33380-e0d8-4b51-e0d0-ab30076da45b"
      },
      "source": [
        "plt.plot(range(4000),mini_J_his_batch1_L1)\n",
        "plt.show()"
      ],
      "execution_count": null,
      "outputs": [
        {
          "output_type": "display_data",
          "data": {
            "image/png": "[encoded data removed]",
            "text/plain": [
              "<Figure size 432x288 with 1 Axes>"
            ]
          },
          "metadata": {
            "needs_background": "light"
          }
        }
      ]
    },
    {
      "cell_type": "code",
      "metadata": {
        "id": "jEHG0gkeOWvd",
        "colab": {
          "base_uri": "https://localhost:8080/",
          "height": 265
        },
        "outputId": "ff76ec7e-d34f-4c2a-b2df-9de0d40f4995"
      },
      "source": [
        "plt.plot(range(4000),mini_J_his_batch2_L1)\n",
        "plt.show()"
      ],
      "execution_count": null,
      "outputs": [
        {
          "output_type": "display_data",
          "data": {
            "image/png": "[encoded data removed]",
            "text/plain": [
              "<Figure size 432x288 with 1 Axes>"
            ]
          },
          "metadata": {
            "needs_background": "light"
          }
        }
      ]
    },
    {
      "cell_type": "code",
      "metadata": {
        "id": "Kjp1jUg7OWve",
        "colab": {
          "base_uri": "https://localhost:8080/",
          "height": 267
        },
        "outputId": "ce58ca19-733a-4fea-e1a1-23d3dcfb6f29"
      },
      "source": [
        "plt.plot(range(4000),mini_J_his_batch3_L1)\n",
        "plt.show()"
      ],
      "execution_count": null,
      "outputs": [
        {
          "output_type": "display_data",
          "data": {
            "image/png": "[encoded data removed]",
            "text/plain": [
              "<Figure size 432x288 with 1 Axes>"
            ]
          },
          "metadata": {
            "needs_background": "light"
          }
        }
      ]
    },
    {
      "cell_type": "code",
      "metadata": {
        "id": "t3Jqmgv_OWvj",
        "colab": {
          "base_uri": "https://localhost:8080/"
        },
        "outputId": "b5656273-fad7-4699-ef3c-fe7b7f7122bc"
      },
      "source": [
        "#print('[Cost_values]', '[sensitivity]', '[specificity]', '[accuracy]')\n",
        "print('[Cost_values]', '[sensitivity]', '[specificity]', '[accuracy] :',one_vs_one_mini_L2(np.array(train1),np.array(label1)))\n",
        "print('[Cost_values]', '[sensitivity]', '[specificity]', '[accuracy] :',one_vs_one_mini_L2(np.array(train2),np.array(label2)))\n",
        "print('[Cost_values]', '[sensitivity]', '[specificity]', '[accuracy] :',one_vs_one_mini_L2(np.array(train3),np.array(label3)))"
      ],
      "execution_count": null,
      "outputs": [
        {
          "output_type": "stream",
          "name": "stdout",
          "text": [
            "[Cost_values] [sensitivity] [specificity] [accuracy] : ([0.5905835694325245], [0.9999999999999376], [0.6086956521738867], [76.92307692307693])\n",
            "[Cost_values] [sensitivity] [specificity] [accuracy] : ([0.6316786954889471], [0.9999999999999525], [0.0], [67.74193548387096])\n",
            "[Cost_values] [sensitivity] [specificity] [accuracy] : ([0.4561984328188251], [0.999999999999875], [0.499999999999875], [83.33333333333334])\n"
          ]
        }
      ]
    },
    {
      "cell_type": "code",
      "metadata": {
        "id": "iCCy1wWvQ1--",
        "colab": {
          "base_uri": "https://localhost:8080/"
        },
        "outputId": "7afa4c1c-41a1-4f10-ff65-408b1899f25c"
      },
      "source": [
        "#print('[Cost_values]', '[sensitivity]', '[specificity]', '[accuracy]')\n",
        "print('[Cost_values]', '[sensitivity]', '[specificity]', '[accuracy] :',one_vs_one_mini_L2(np.array(train1),np.array(label1)))\n",
        "print('[Cost_values]', '[sensitivity]', '[specificity]', '[accuracy] :',one_vs_one_mini_L2(np.array(train2),np.array(label2)))\n",
        "print('[Cost_values]', '[sensitivity]', '[specificity]', '[accuracy] :',one_vs_one_mini_L2(np.array(train3),np.array(label3)))"
      ],
      "execution_count": null,
      "outputs": [
        {
          "output_type": "stream",
          "name": "stdout",
          "text": [
            "[Cost_values] [sensitivity] [specificity] [accuracy] : ([0.5893852781066385], [0.9999999999999376], [0.65217391304345], [79.48717948717949])\n",
            "[Cost_values] [sensitivity] [specificity] [accuracy] : ([0.6326315286110417], [0.9999999999999525], [0.0], [67.74193548387096])\n",
            "[Cost_values] [sensitivity] [specificity] [accuracy] : ([0.4568607566873524], [0.999999999999875], [0.499999999999875], [83.33333333333334])\n"
          ]
        }
      ]
    },
    {
      "cell_type": "markdown",
      "metadata": {
        "id": "SwEgVfG0OXnc"
      },
      "source": [
        "STOCHASTIC GRADIENT DESCENT\n"
      ]
    },
    {
      "cell_type": "markdown",
      "metadata": {
        "id": "R2ZijOdBOblU"
      },
      "source": [
        "ONE VS ALL CODING"
      ]
    },
    {
      "cell_type": "code",
      "metadata": {
        "id": "gyHtKf9MOblW"
      },
      "source": [
        "def one_vs_all_stochastic_L2(X,y):\n",
        "  y1 = create_y1(y)\n",
        "  sensitivity = []\n",
        "  specificity = []\n",
        "  accuracy = []\n",
        "  Cost_values = []\n",
        "  w = np.zeros(X.shape[1]+1)\n",
        "  m = len(y1)\n",
        "  for i in range(2,4):\n",
        "    for j in range(1,3):\n",
        "      if i!=j:\n",
        "        y = y1[:,i-1]\n",
        "        y_train = y[:int(m*0.7)]\n",
        "        y_val = y[int(m*0.7):int(m*0.8)]\n",
        "        y_test = y[int(m*0.8):]\n",
        "        X_train = X[:int(m*0.7)]\n",
        "        X_val = X[int(m*0.7):int(m*0.8)]\n",
        "        X_test = X[int(m*0.8):]\n",
        "        batch_w, J_his_batch = stochastic_gradient_descent_L2(Normalise(X_train),y_train ,w,0.001,4000,0.001)\n",
        "        y_pred = np.dot(Normalise(X_test), w)\n",
        "        y_pred = sigmoid(y_pred)\n",
        "  \n",
        "        y_pred[y_pred > 0.5] = 1\n",
        "        y_pred[y_pred <= 0.5] = 0\n",
        "        Cost = cost_function_L2(Normalise(X_test),y_test,batch_w,0.01) \n",
        "        Cost_values.append(Cost)\n",
        "        a,b,c = specs(Normalise(X_test),y_test,batch_w) \n",
        "        sensitivity.append(a)\n",
        "        specificity.append(b)\n",
        "        accuracy.append(c)\n",
        "  return Cost_values, sensitivity, specificity, accuracy"
      ],
      "execution_count": null,
      "outputs": []
    },
    {
      "cell_type": "code",
      "metadata": {
        "id": "Nukjzib2hUzf",
        "colab": {
          "base_uri": "https://localhost:8080/"
        },
        "outputId": "64d373cd-b6fc-4961-9e20-6f9f22ea1562"
      },
      "source": [
        "Cost_values, sensitivity, specificity, accuracy = one_vs_all_stochastic_L2(X,y)\n",
        "print('All Cost Values :', Cost_values)\n",
        "print('All accuracies :', accuracy,'%')"
      ],
      "execution_count": null,
      "outputs": [
        {
          "output_type": "stream",
          "name": "stdout",
          "text": [
            "All Cost Values : [0.5928168321574115, 0.6931471805599453, 0.6931471805599453]\n",
            "All accuracies : [92.6829268292683, 80.48780487804879, 80.48780487804879] %\n"
          ]
        }
      ]
    },
    {
      "cell_type": "code",
      "metadata": {
        "id": "Pw292-nyhUzh",
        "colab": {
          "base_uri": "https://localhost:8080/"
        },
        "outputId": "75ce84bd-3497-4f01-a79f-a42268865a7e"
      },
      "source": [
        "print('Least Cost Value :', min(Cost_values))\n",
        "print('best accuracy :', max(accuracy),'%')"
      ],
      "execution_count": null,
      "outputs": [
        {
          "output_type": "stream",
          "name": "stdout",
          "text": [
            "Least Cost Value : 0.5928168321574115\n",
            "best accuracy : 92.6829268292683 %\n"
          ]
        }
      ]
    },
    {
      "cell_type": "code",
      "metadata": {
        "id": "HIVVrqM3RBgE"
      },
      "source": [
        "def one_vs_all_stochastic_L1(X,y):\n",
        "  y1 = create_y1(y)\n",
        "  sensitivity = []\n",
        "  specificity = []\n",
        "  accuracy = []\n",
        "  Cost_values = []\n",
        "  w = np.zeros(X.shape[1]+1)\n",
        "  m = len(y1)\n",
        "  for i in range(2,4):\n",
        "    for j in range(1,3):\n",
        "      if i!=j:\n",
        "        y = y1[:,i-1]\n",
        "        y_train = y[:int(m*0.7)]\n",
        "        y_val = y[int(m*0.7):int(m*0.8)]\n",
        "        y_test = y[int(m*0.8):]\n",
        "        X_train = X[:int(m*0.7)]\n",
        "        X_val = X[int(m*0.7):int(m*0.8)]\n",
        "        X_test = X[int(m*0.8):]\n",
        "        batch_w, J_his_batch = stochastic_gradient_descent_L1(Normalise(X_train),y_train ,w,0.001,4000,0.001)\n",
        "        y_pred = np.dot(Normalise(X_test), w)\n",
        "        y_pred = sigmoid(y_pred)\n",
        "  \n",
        "        y_pred[y_pred > 0.5] = 1\n",
        "        y_pred[y_pred <= 0.5] = 0\n",
        "        Cost = cost_function_L1(Normalise(X_test),y_test,batch_w,0.01) \n",
        "        Cost_values.append(Cost)\n",
        "        a,b,c = specs(Normalise(X_test),y_test,batch_w) \n",
        "        sensitivity.append(a)\n",
        "        specificity.append(b)\n",
        "        accuracy.append(c)\n",
        "  return Cost_values, sensitivity, specificity, accuracy"
      ],
      "execution_count": null,
      "outputs": []
    },
    {
      "cell_type": "code",
      "metadata": {
        "colab": {
          "base_uri": "https://localhost:8080/"
        },
        "id": "FvIlUuVOhX1t",
        "outputId": "b0ee6e3c-a6d2-4311-84fe-f3b9151f4517"
      },
      "source": [
        "Cost_values, sensitivity, specificity, accuracy = one_vs_all_stochastic_L1(X,y)\n",
        "print('All Cost Values :', Cost_values)\n",
        "print('All accuracies :', accuracy,'%')"
      ],
      "execution_count": null,
      "outputs": [
        {
          "output_type": "stream",
          "name": "stdout",
          "text": [
            "All Cost Values : [0.6064580089705676, 0.6931471805599453, 0.6931471805599453]\n",
            "All accuracies : [87.8048780487805, 80.48780487804879, 80.48780487804879] %\n"
          ]
        }
      ]
    },
    {
      "cell_type": "code",
      "metadata": {
        "colab": {
          "base_uri": "https://localhost:8080/"
        },
        "id": "6dLzSzFAhX1u",
        "outputId": "16eb766c-68cb-4b80-e654-5498bebc8bcb"
      },
      "source": [
        "print('Least Cost Value :', min(Cost_values))\n",
        "print('best accuracy :', max(accuracy),'%')"
      ],
      "execution_count": null,
      "outputs": [
        {
          "output_type": "stream",
          "name": "stdout",
          "text": [
            "Least Cost Value : 0.6064580089705676\n",
            "best accuracy : 87.8048780487805 %\n"
          ]
        }
      ]
    },
    {
      "cell_type": "markdown",
      "metadata": {
        "id": "9HmDQEOwOblY"
      },
      "source": [
        "ONE VS ONE CODING"
      ]
    },
    {
      "cell_type": "code",
      "metadata": {
        "id": "8YS5XtGVOblZ"
      },
      "source": [
        "def one_vs_one_stochastic_L2(X,y):\n",
        "  sensitivity = []\n",
        "  specificity = []\n",
        "  accuracy = []\n",
        "  Cost_values = []\n",
        "  w = np.zeros(X.shape[1])\n",
        "  m = len(y)\n",
        "  \n",
        "\n",
        "  y_train = y[:int(m*0.7)]\n",
        "  y_val = y[int(m*0.7):int(m*0.8)]\n",
        "  y_test = y[int(m*0.8):]\n",
        "  X_train = X[:int(m*0.7)]\n",
        "  X_val = X[int(m*0.7):int(m*0.8)]\n",
        "  X_test = X[int(m*0.8):]\n",
        "  batch_w, J_his_batch = stochastic_gradient_descent_L2(X_train,y_train ,w,0.0001,6000,0.001)\n",
        "  y_pred = np.dot(X_test, w)\n",
        "  y_pred = sigmoid(y_pred)\n",
        "  y_pred[y_pred > 0.5] = 1\n",
        "  y_pred[y_pred <= 0.5] = 0\n",
        "  Cost = cost_function_L2(X_test,y_test,batch_w,0.01) \n",
        "  Cost_values.append(Cost)\n",
        "  a,b,c = specs(X_test,y_test,batch_w) \n",
        "  sensitivity.append(a)\n",
        "  specificity.append(b)\n",
        "  accuracy.append(c)\n",
        "  return Cost_values, sensitivity, specificity, accuracy"
      ],
      "execution_count": null,
      "outputs": []
    },
    {
      "cell_type": "code",
      "metadata": {
        "id": "5i1_lhrvRmLH"
      },
      "source": [
        "def one_vs_one_stochastic_L1(X,y):\n",
        "  sensitivity = []\n",
        "  specificity = []\n",
        "  accuracy = []\n",
        "  Cost_values = []\n",
        "  w = np.zeros(X.shape[1])\n",
        "  m = len(y)\n",
        "  \n",
        "\n",
        "  y_train = y[:int(m*0.7)]\n",
        "  y_val = y[int(m*0.7):int(m*0.8)]\n",
        "  y_test = y[int(m*0.8):]\n",
        "  X_train = X[:int(m*0.7)]\n",
        "  X_val = X[int(m*0.7):int(m*0.8)]\n",
        "  X_test = X[int(m*0.8):]\n",
        "  batch_w, J_his_batch = stochastic_gradient_descent_L1(X_train,y_train ,w,0.0001,6000,0.001)\n",
        "  y_pred = np.dot(X_test, w)\n",
        "  y_pred = sigmoid(y_pred)\n",
        "  y_pred[y_pred > 0.5] = 1\n",
        "  y_pred[y_pred <= 0.5] = 0\n",
        "  Cost = cost_function_L1(X_test,y_test,batch_w,0.01) \n",
        "  Cost_values.append(Cost)\n",
        "  a,b,c = specs(X_test,y_test,batch_w) \n",
        "  sensitivity.append(a)\n",
        "  specificity.append(b)\n",
        "  accuracy.append(c)\n",
        "  return Cost_values, sensitivity, specificity, accuracy"
      ],
      "execution_count": null,
      "outputs": []
    },
    {
      "cell_type": "code",
      "metadata": {
        "id": "KtstE0UbObla"
      },
      "source": [
        "stochastic_batch_w1_L2, stochastic_J_his_batch1_L2 = stochastic_gradient_descent_L2(np.array(train1),np.array(label1) ,w,0.0001,6000,0.001)\n",
        "stochastic_batch_w2_L2, stochastic_J_his_batch2_L2 = stochastic_gradient_descent_L2(np.array(train2),np.array(label2) ,w,0.0001,6000,0.001)\n",
        "stochastic_batch_w3_L2, stochastic_J_his_batch3_L2 = stochastic_gradient_descent_L2(np.array(train3),np.array(label3) ,w,0.0001,6000,0.001)\n",
        "\n",
        "stochastic_batch_w1_L1, stochastic_J_his_batch1_L1 = stochastic_gradient_descent_L1(np.array(train1),np.array(label1) ,w,0.0001,6000,0.001)\n",
        "stochastic_batch_w2_L1, stochastic_J_his_batch2_L1 = stochastic_gradient_descent_L1(np.array(train2),np.array(label2) ,w,0.0001,6000,0.001)\n",
        "stochastic_batch_w3_L1, stochastic_J_his_batch3_L1 = stochastic_gradient_descent_L1(np.array(train3),np.array(label3) ,w,0.0001,6000,0.001)"
      ],
      "execution_count": null,
      "outputs": []
    },
    {
      "cell_type": "code",
      "metadata": {
        "colab": {
          "base_uri": "https://localhost:8080/",
          "height": 265
        },
        "id": "X_hwWoxIOblb",
        "outputId": "ed2242bb-b692-49b8-acc0-4bbe8961d9d8"
      },
      "source": [
        "plt.plot(range(6000),stochastic_J_his_batch1_L2)\n",
        "plt.show()"
      ],
      "execution_count": null,
      "outputs": [
        {
          "output_type": "display_data",
          "data": {
            "image/png": "[encoded data removed]",
            "text/plain": [
              "<Figure size 432x288 with 1 Axes>"
            ]
          },
          "metadata": {
            "needs_background": "light"
          }
        }
      ]
    },
    {
      "cell_type": "code",
      "metadata": {
        "colab": {
          "base_uri": "https://localhost:8080/",
          "height": 269
        },
        "id": "j44TtzTiOblc",
        "outputId": "15b071a4-f320-4da0-cfda-5446fd62361c"
      },
      "source": [
        "plt.plot(range(6000),stochastic_J_his_batch2_L2)\n",
        "plt.show()"
      ],
      "execution_count": null,
      "outputs": [
        {
          "output_type": "display_data",
          "data": {
            "image/png": "[encoded data removed]",
            "text/plain": [
              "<Figure size 432x288 with 1 Axes>"
            ]
          },
          "metadata": {
            "needs_background": "light"
          }
        }
      ]
    },
    {
      "cell_type": "code",
      "metadata": {
        "colab": {
          "base_uri": "https://localhost:8080/",
          "height": 265
        },
        "id": "9iQvjc3GObld",
        "outputId": "c06cc7c5-f7da-4bb9-e9cc-04a0a921e4c9"
      },
      "source": [
        "plt.plot(range(6000),stochastic_J_his_batch3_L2)\n",
        "plt.show()"
      ],
      "execution_count": null,
      "outputs": [
        {
          "output_type": "display_data",
          "data": {
            "image/png": "[encoded data removed]",
            "text/plain": [
              "<Figure size 432x288 with 1 Axes>"
            ]
          },
          "metadata": {
            "needs_background": "light"
          }
        }
      ]
    },
    {
      "cell_type": "code",
      "metadata": {
        "colab": {
          "base_uri": "https://localhost:8080/",
          "height": 265
        },
        "id": "_Ea88LqOOble",
        "outputId": "21cb2031-9bb7-465e-bb0d-e13a66862d71"
      },
      "source": [
        "plt.plot(range(6000),stochastic_J_his_batch1_L1)\n",
        "plt.show()"
      ],
      "execution_count": null,
      "outputs": [
        {
          "output_type": "display_data",
          "data": {
            "image/png": "[encoded data removed]",
            "text/plain": [
              "<Figure size 432x288 with 1 Axes>"
            ]
          },
          "metadata": {
            "needs_background": "light"
          }
        }
      ]
    },
    {
      "cell_type": "code",
      "metadata": {
        "colab": {
          "base_uri": "https://localhost:8080/",
          "height": 267
        },
        "id": "SQxEQkFoOble",
        "outputId": "ad54f316-7f46-45de-c2c8-f8d5762dd85b"
      },
      "source": [
        "plt.plot(range(6000),stochastic_J_his_batch2_L1)\n",
        "plt.show()"
      ],
      "execution_count": null,
      "outputs": [
        {
          "output_type": "display_data",
          "data": {
            "image/png": "[encoded data removed]",
            "text/plain": [
              "<Figure size 432x288 with 1 Axes>"
            ]
          },
          "metadata": {
            "needs_background": "light"
          }
        }
      ]
    },
    {
      "cell_type": "code",
      "metadata": {
        "colab": {
          "base_uri": "https://localhost:8080/",
          "height": 265
        },
        "id": "RFlDQFvoOblf",
        "outputId": "a9b02fc8-aed4-43bb-9d95-1b487c85f19e"
      },
      "source": [
        "plt.plot(range(6000),stochastic_J_his_batch3_L1)\n",
        "plt.show()"
      ],
      "execution_count": null,
      "outputs": [
        {
          "output_type": "display_data",
          "data": {
            "image/png": "[encoded data removed]",
            "text/plain": [
              "<Figure size 432x288 with 1 Axes>"
            ]
          },
          "metadata": {
            "needs_background": "light"
          }
        }
      ]
    },
    {
      "cell_type": "code",
      "metadata": {
        "colab": {
          "base_uri": "https://localhost:8080/"
        },
        "id": "J1B9juPcOblg",
        "outputId": "6b834a9a-2f0c-4c2a-a551-1827e8679818"
      },
      "source": [
        "#print('[Cost_values]', '[sensitivity]', '[specificity]', '[accuracy]')\n",
        "print('[Cost_values]', '[sensitivity]', '[specificity]', '[accuracy] :',one_vs_one_stochastic_L2(np.array(train1),np.array(label1)))\n",
        "print('[Cost_values]', '[sensitivity]', '[specificity]', '[accuracy] :',one_vs_one_stochastic_L2(np.array(train2),np.array(label2)))\n",
        "print('[Cost_values]', '[sensitivity]', '[specificity]', '[accuracy] :',one_vs_one_stochastic_L2(np.array(train3),np.array(label3)))"
      ],
      "execution_count": null,
      "outputs": [
        {
          "output_type": "stream",
          "name": "stdout",
          "text": [
            "[Cost_values] [sensitivity] [specificity] [accuracy] : ([0.5375265082734836], [0.8124999999999493], [0.9999999999999566], [92.3076923076923])\n",
            "[Cost_values] [sensitivity] [specificity] [accuracy] : ([0.6823369192001573], [0.8571428571428164], [0.0], [58.06451612903226])\n",
            "[Cost_values] [sensitivity] [specificity] [accuracy] : ([0.43135478501154495], [0.999999999999875], [0.99999999999975], [100.0])\n"
          ]
        }
      ]
    },
    {
      "cell_type": "code",
      "metadata": {
        "colab": {
          "base_uri": "https://localhost:8080/"
        },
        "id": "WQZTVoS7RjPJ",
        "outputId": "30a1d540-0281-4566-fa2c-ed7f18737b4c"
      },
      "source": [
        "print('[Cost_values]', '[sensitivity]', '[specificity]', '[accuracy] :',one_vs_one_stochastic_L1(np.array(train1),np.array(label1)))\n",
        "print('[Cost_values]', '[sensitivity]', '[specificity]', '[accuracy] :',one_vs_one_stochastic_L1(np.array(train2),np.array(label2)))\n",
        "print('[Cost_values]', '[sensitivity]', '[specificity]', '[accuracy] :',one_vs_one_stochastic_L1(np.array(train3),np.array(label3)))"
      ],
      "execution_count": null,
      "outputs": [
        {
          "output_type": "stream",
          "name": "stdout",
          "text": [
            "[Cost_values] [sensitivity] [specificity] [accuracy] : ([0.5370466181736585], [0.8124999999999493], [0.9999999999999566], [92.3076923076923])\n",
            "[Cost_values] [sensitivity] [specificity] [accuracy] : ([0.6825126042043774], [0.8571428571428164], [0.0], [58.06451612903226])\n",
            "[Cost_values] [sensitivity] [specificity] [accuracy] : ([0.43272766828312226], [0.999999999999875], [0.99999999999975], [100.0])\n"
          ]
        }
      ]
    }
  ]
}