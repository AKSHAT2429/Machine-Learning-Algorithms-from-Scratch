{
  "nbformat": 4,
  "nbformat_minor": 0,
  "metadata": {
    "colab": {
      "name": "0264_Q4.ipynb",
      "provenance": [],
      "collapsed_sections": [],
      "toc_visible": true
    },
    "kernelspec": {
      "name": "python3",
      "display_name": "Python 3"
    },
    "language_info": {
      "name": "python"
    }
  },
  "cells": [
    {
      "cell_type": "markdown",
      "metadata": {
        "id": "WM5FI056o4UW"
      },
      "source": [
        "IMPORTING IMPORTANT LIBRARIES"
      ]
    },
    {
      "cell_type": "code",
      "metadata": {
        "id": "Hhk9keQOKFV1"
      },
      "source": [
        "import numpy as np\n",
        "import pandas as pd\n",
        "import matplotlib as mpl\n",
        "import matplotlib.pyplot as plt"
      ],
      "execution_count": null,
      "outputs": []
    },
    {
      "cell_type": "markdown",
      "metadata": {
        "id": "ooIJtE6_o2EW"
      },
      "source": [
        "MOUNTING DRIVE"
      ]
    },
    {
      "cell_type": "code",
      "metadata": {
        "colab": {
          "base_uri": "https://localhost:8080/"
        },
        "id": "XFZ8WSk-Kz5r",
        "outputId": "6502cb04-ff0c-4151-f91a-686c421adc44"
      },
      "source": [
        "from google.colab import drive\n",
        "drive.mount(\"/content/gdrive\")"
      ],
      "execution_count": null,
      "outputs": [
        {
          "output_type": "stream",
          "name": "stdout",
          "text": [
            "Drive already mounted at /content/gdrive; to attempt to forcibly remount, call drive.mount(\"/content/gdrive\", force_remount=True).\n"
          ]
        }
      ]
    },
    {
      "cell_type": "markdown",
      "metadata": {
        "id": "jLuIMnW2PrBt"
      },
      "source": [
        "FUNCTION DEFINITIONS"
      ]
    },
    {
      "cell_type": "code",
      "metadata": {
        "id": "vJynIp6xAcfS"
      },
      "source": [
        "def sigmoid(z):\n",
        "  return 1/(1 + np.exp(-z))"
      ],
      "execution_count": null,
      "outputs": []
    },
    {
      "cell_type": "code",
      "metadata": {
        "id": "cndVlNafLNRl"
      },
      "source": [
        "def cost_function_L2(X,y,w,lam):\n",
        "  hypothesis = sigmoid(np.dot(X,w.T))\n",
        "  J = -1 / len(y) * np.sum(y*np.log(hypothesis)+(1-y)*np.log(1-hypothesis)) + lam*np.sum(w**2)/2\n",
        "  return J"
      ],
      "execution_count": null,
      "outputs": []
    },
    {
      "cell_type": "code",
      "metadata": {
        "id": "PHtTFcZuA6d3"
      },
      "source": [
        "def cost_function_L1(X,y,w,lam):\n",
        "  hypothesis = sigmoid(np.dot(X,w.T))\n",
        "  J = -1 / len(y) * np.sum(y*np.log(hypothesis)+(1-y)*np.log(1-hypothesis)) + lam*np.abs(np.sum(w))/2\n",
        "  return J"
      ],
      "execution_count": null,
      "outputs": []
    },
    {
      "cell_type": "code",
      "metadata": {
        "id": "5XqanV7GLOcV"
      },
      "source": [
        "def batch_gradient_descent_L2(X,y,w,alpha,iters,lam):\n",
        "  cost_history = np.zeros(iters)\n",
        "  for i in range(iters):\n",
        "    hypothesis = np.dot(X,w.T)\n",
        "    w = (1-alpha*lam)*w - (alpha/len(y)) * np.dot(hypothesis - y,X)\n",
        "    cost_history[i] = cost_function_L2(X,y,w,lam)\n",
        "  return w,cost_history"
      ],
      "execution_count": null,
      "outputs": []
    },
    {
      "cell_type": "code",
      "metadata": {
        "id": "NpQ_TGiRBTDZ"
      },
      "source": [
        "def batch_gradient_descent_L1(X,y,w,alpha,iters,lam):\n",
        "  cost_history = np.zeros(iters)\n",
        "  for i in range(iters):\n",
        "    hypothesis = np.dot(X,w.T)\n",
        "    w = (1-(np.sign(np.sum(w)))*alpha*lam/2)*w - (alpha/len(y)) * np.dot(hypothesis - y,X)\n",
        "    cost_history[i] = cost_function_L1(X,y,w,lam)\n",
        "  return w,cost_history"
      ],
      "execution_count": null,
      "outputs": []
    },
    {
      "cell_type": "code",
      "metadata": {
        "id": "3tj54vlQLOdz"
      },
      "source": [
        "def mini_batch_gradient_descent_L2(X,y,w,alpha,iters,batch_size,lam):\n",
        "  cost_history = np.zeros(iters)\n",
        "  for i in range(iters):\n",
        "    rand_index = np.random.randint(len(y))\n",
        "    ind_x = X[rand_index:rand_index + batch_size]\n",
        "    ind_y = y[rand_index:rand_index + batch_size]\n",
        "    w = (1-alpha*lam)*w - (alpha/batch_size) * (ind_x.T.dot(ind_x.dot(w) - ind_y))\n",
        "    cost_history[i] = cost_function_L2(ind_x,ind_y,w,lam)\n",
        "  return w,cost_history"
      ],
      "execution_count": null,
      "outputs": []
    },
    {
      "cell_type": "code",
      "metadata": {
        "id": "6PCDfcMUBWFu"
      },
      "source": [
        "def mini_batch_gradient_descent_L1(X,y,w,alpha,iters,batch_size,lam):\n",
        "  cost_history = np.zeros(iters)\n",
        "  for i in range(iters):\n",
        "    rand_index = np.random.randint(len(y))\n",
        "    ind_x = X[rand_index:rand_index + batch_size]\n",
        "    ind_y = y[rand_index:rand_index + batch_size]\n",
        "    w =  (1-np.sign(np.sum(w))*alpha*lam/2)*w - (alpha/batch_size) * (ind_x.T.dot(ind_x.dot(w) - ind_y))\n",
        "    cost_history[i] = cost_function_L1(ind_x,ind_y,w,lam)\n",
        "  return w,cost_history"
      ],
      "execution_count": null,
      "outputs": []
    },
    {
      "cell_type": "code",
      "metadata": {
        "id": "g3LrlL4mSCGw"
      },
      "source": [
        "def stochastic_gradient_descent_L2(X,y,w,alpha,iters,lam):\n",
        "  cost_history = np.zeros(iters)\n",
        "  for i in range(iters):\n",
        "    rand_index = np.random.randint(len(y))\n",
        "    ind_x = X[rand_index:rand_index + 1]\n",
        "    ind_y = y[rand_index:rand_index + 1]\n",
        "    w = (1-alpha*lam)*w - alpha * (ind_x.T.dot(ind_x.dot(w) - ind_y))\n",
        "    cost_history[i] = cost_function_L2(ind_x,ind_y,w,lam)\n",
        "  return w,cost_history"
      ],
      "execution_count": null,
      "outputs": []
    },
    {
      "cell_type": "code",
      "metadata": {
        "id": "9nP-WYB3BZAT"
      },
      "source": [
        "def stochastic_gradient_descent_L1(X,y,w,alpha,iters,lam):\n",
        "  cost_history = np.zeros(iters)\n",
        "  for i in range(iters):\n",
        "    rand_index = np.random.randint(len(y))\n",
        "    ind_x = X[rand_index:rand_index + 1]\n",
        "    ind_y = y[rand_index:rand_index + 1]\n",
        "    w =  (1-np.sign(np.sum(w))*alpha*lam/2)*w - alpha * (ind_x.T.dot(ind_x.dot(w) - ind_y))\n",
        "    cost_history[i] = cost_function_L1(ind_x,ind_y,w,lam)\n",
        "  return w,cost_history"
      ],
      "execution_count": null,
      "outputs": []
    },
    {
      "cell_type": "markdown",
      "metadata": {
        "id": "04gMsFEtQXqx"
      },
      "source": [
        "DATA PRE-PROCESSING"
      ]
    },
    {
      "cell_type": "code",
      "metadata": {
        "id": "o6GtNF7SLOe3"
      },
      "source": [
        "from random import Random\n",
        "data = pd.read_excel(\"/content/gdrive/MyDrive/NNFL_ASSIGNMENT_1/data_q4_q5.xlsx\")\n",
        "Random(14).shuffle(data.values)\n",
        "X = data.drop(\"diagnosis\",axis=1)\n",
        "y = data[\"diagnosis\"]\n",
        "y = (y == 'B')\n",
        "m = len(X)\n",
        "X_train = X[:int(m*0.7)]\n",
        "X_val = X[int(m*0.7):int(m*0.8)]\n",
        "X_test = X[int(m*0.8):]\n",
        "y_train = y[:int(m*0.7)]\n",
        "y_val = y[int(m*0.7):int(m*0.8)]\n",
        "y_test = y[int(m*0.8):]"
      ],
      "execution_count": null,
      "outputs": []
    },
    {
      "cell_type": "code",
      "metadata": {
        "id": "ovf_w75SLOf-"
      },
      "source": [
        "def Normalise(X):\n",
        "  mean = X.mean()\n",
        "  std = np.std(X,axis=0)\n",
        "  m = len(X)\n",
        "  X_norm = (X-mean)/std\n",
        "  X_norm = np.c_[np.ones((m, 1)), X_norm]\n",
        "  return X_norm\n",
        "X_norm = Normalise(X_train)"
      ],
      "execution_count": null,
      "outputs": []
    },
    {
      "cell_type": "code",
      "metadata": {
        "id": "wY-S1aEsLOhF"
      },
      "source": [
        "w = np.zeros(X_norm.shape[1])"
      ],
      "execution_count": null,
      "outputs": []
    },
    {
      "cell_type": "markdown",
      "metadata": {
        "id": "ff4pULFYQbGk"
      },
      "source": [
        "# BATCH GRADIENT DESCENT"
      ]
    },
    {
      "cell_type": "code",
      "metadata": {
        "id": "GmxCp6jfQCSg"
      },
      "source": [
        "alpha = 0.0001\n",
        "iters = 4000\n",
        "lam = 0.1\n",
        "batch_w_L2, J_his_batch_L2 = batch_gradient_descent_L2(X_norm,y_train,w,alpha,iters,lam)"
      ],
      "execution_count": null,
      "outputs": []
    },
    {
      "cell_type": "code",
      "metadata": {
        "id": "cXX3fhq7l7Ik",
        "colab": {
          "base_uri": "https://localhost:8080/",
          "height": 269
        },
        "outputId": "291eb54d-e9e1-40d7-d9ac-332e71cd13e1"
      },
      "source": [
        "plt.plot(range(iters),J_his_batch_L2)\n",
        "plt.show()"
      ],
      "execution_count": null,
      "outputs": [
        {
          "output_type": "display_data",
          "data": {
            "image/png": "[encoded data removed]",
            "text/plain": [
              "<Figure size 432x288 with 1 Axes>"
            ]
          },
          "metadata": {
            "needs_background": "light"
          }
        }
      ]
    },
    {
      "cell_type": "code",
      "metadata": {
        "id": "h4UZMI-2DAj6"
      },
      "source": [
        "alpha = 0.0001\n",
        "iters = 4000\n",
        "lam = 0.1\n",
        "batch_w_L1, J_his_batch_L1 = batch_gradient_descent_L1(X_norm,y_train,w,alpha,iters,lam)"
      ],
      "execution_count": null,
      "outputs": []
    },
    {
      "cell_type": "code",
      "metadata": {
        "id": "t-k0_2UVl8CH",
        "colab": {
          "base_uri": "https://localhost:8080/",
          "height": 269
        },
        "outputId": "2176bd29-19d2-41b7-8d7c-785983990517"
      },
      "source": [
        "plt.plot(range(iters),J_his_batch_L1)\n",
        "plt.show()"
      ],
      "execution_count": null,
      "outputs": [
        {
          "output_type": "display_data",
          "data": {
            "image/png": "[encoded data removed]",
            "text/plain": [
              "<Figure size 432x288 with 1 Axes>"
            ]
          },
          "metadata": {
            "needs_background": "light"
          }
        }
      ]
    },
    {
      "cell_type": "markdown",
      "metadata": {
        "id": "jWihetH-XFPz"
      },
      "source": [
        "EVALUATION METRICS"
      ]
    },
    {
      "cell_type": "code",
      "metadata": {
        "colab": {
          "base_uri": "https://localhost:8080/"
        },
        "id": "RfiTpJ5cvbb6",
        "outputId": "4dbb2e78-13bf-4c89-e287-2c398806ddb7"
      },
      "source": [
        "TN, FN, TP, FP = 0, 0, 0, 0\n",
        "\n",
        "y_pred = np.dot(Normalise(X_test), batch_w_L2)\n",
        "y_pred = sigmoid(y_pred)\n",
        "y_pred[y_pred > 0.5] = 1\n",
        "y_pred[y_pred <= 0.5] = 0\n",
        "\n",
        "TP = np.sum(y_pred * y_test)\n",
        "FP = np.sum(y_pred * (1-y_test))\n",
        "FN = np.sum((1-y_pred) * y_test)\n",
        "TN = np.sum((1-y_pred) * (1-y_test))\n",
        "\n",
        "sensitivity = TP/(TP + FN)\n",
        "specificity = TN/(TN + FP)\n",
        "accuracy = (TP + TN)/(TP + TN + FP + FN)\n",
        "\n",
        "print('sensitivity :',sensitivity)\n",
        "print('specificity :',specificity)\n",
        "print('accuracy :',accuracy*100,'%')"
      ],
      "execution_count": null,
      "outputs": [
        {
          "output_type": "stream",
          "name": "stdout",
          "text": [
            "sensitivity : 1.0\n",
            "specificity : 0.8846153846153846\n",
            "accuracy : 97.36842105263158 %\n"
          ]
        }
      ]
    },
    {
      "cell_type": "code",
      "metadata": {
        "colab": {
          "base_uri": "https://localhost:8080/"
        },
        "id": "GTsn8fk0vbfE",
        "outputId": "c587905b-5297-4a32-f469-1127ada0c745"
      },
      "source": [
        "TN, FN, TP, FP = 0, 0, 0, 0\n",
        "\n",
        "y_pred = np.dot(Normalise(X_test), batch_w_L1)\n",
        "y_pred = sigmoid(y_pred)\n",
        "y_pred[y_pred > 0.5] = 1\n",
        "y_pred[y_pred <= 0.5] = 0\n",
        "\n",
        "TP = np.sum(y_pred * y_test)\n",
        "FP = np.sum(y_pred * (1-y_test))\n",
        "FN = np.sum((1-y_pred) * y_test)\n",
        "TN = np.sum((1-y_pred) * (1-y_test))\n",
        "\n",
        "sensitivity = TP/(TP + FN)\n",
        "specificity = TN/(TN + FP)\n",
        "accuracy = (TP + TN)/(TP + TN + FP + FN)\n",
        "\n",
        "print('sensitivity :',sensitivity)\n",
        "print('specificity :',specificity)\n",
        "print('accuracy :',accuracy*100,'%')"
      ],
      "execution_count": null,
      "outputs": [
        {
          "output_type": "stream",
          "name": "stdout",
          "text": [
            "sensitivity : 1.0\n",
            "specificity : 0.8846153846153846\n",
            "accuracy : 97.36842105263158 %\n"
          ]
        }
      ]
    },
    {
      "cell_type": "markdown",
      "metadata": {
        "id": "qy3Vu6POVuPN"
      },
      "source": [
        "MINI-BATCH GRADIENT DESCENT"
      ]
    },
    {
      "cell_type": "code",
      "metadata": {
        "id": "OV-dWwfpRRXr"
      },
      "source": [
        "alpha = 0.0001\n",
        "iters = 4000\n",
        "batch_size = 50\n",
        "lam = 0.2\n",
        "mini_batch_w_L2, J_his_mini_batch_L2 = mini_batch_gradient_descent_L2(X_norm,y_train,w,alpha,iters,batch_size,lam)"
      ],
      "execution_count": null,
      "outputs": []
    },
    {
      "cell_type": "code",
      "metadata": {
        "colab": {
          "base_uri": "https://localhost:8080/",
          "height": 266
        },
        "id": "4K3HVVPzSms8",
        "outputId": "2c5bb4c5-e512-49fd-9dbe-c7478ae21563"
      },
      "source": [
        "plt.plot(range(iters),J_his_mini_batch_L2)\n",
        "plt.show()"
      ],
      "execution_count": null,
      "outputs": [
        {
          "output_type": "display_data",
          "data": {
            "image/png": "[encoded data removed]",
            "text/plain": [
              "<Figure size 432x288 with 1 Axes>"
            ]
          },
          "metadata": {
            "needs_background": "light"
          }
        }
      ]
    },
    {
      "cell_type": "code",
      "metadata": {
        "id": "vc-PIVWqiEFB"
      },
      "source": [
        "alpha = 0.0001\n",
        "iters = 4000\n",
        "batch_size = 50\n",
        "lam = 0.2\n",
        "mini_batch_w_L1, J_his_mini_batch_L1 = mini_batch_gradient_descent_L1(X_norm,y_train,w,alpha,iters,batch_size,lam)\n"
      ],
      "execution_count": null,
      "outputs": []
    },
    {
      "cell_type": "code",
      "metadata": {
        "colab": {
          "base_uri": "https://localhost:8080/",
          "height": 267
        },
        "id": "lJHBQeIV9p9T",
        "outputId": "c705ba24-1b1f-4937-c20d-008795ef802b"
      },
      "source": [
        "plt.plot(range(iters),J_his_mini_batch_L1)\n",
        "plt.show()"
      ],
      "execution_count": null,
      "outputs": [
        {
          "output_type": "display_data",
          "data": {
            "image/png": "[encoded data removed]",
            "text/plain": [
              "<Figure size 432x288 with 1 Axes>"
            ]
          },
          "metadata": {
            "needs_background": "light"
          }
        }
      ]
    },
    {
      "cell_type": "markdown",
      "metadata": {
        "id": "a5X5iTDSXNdD"
      },
      "source": [
        "EVALUATION METRICS"
      ]
    },
    {
      "cell_type": "code",
      "metadata": {
        "colab": {
          "base_uri": "https://localhost:8080/"
        },
        "id": "BUqFg3-kvY7B",
        "outputId": "21a86387-2305-4134-8af8-3ef0f204abd6"
      },
      "source": [
        "TN, FN, TP, FP = 0, 0, 0, 0\n",
        "\n",
        "y_pred = np.dot(Normalise(X_test), mini_batch_w_L2)\n",
        "y_pred = sigmoid(y_pred)\n",
        "y_pred[y_pred > 0.5] = 1\n",
        "y_pred[y_pred <= 0.5] = 0\n",
        "\n",
        "TP = np.sum(y_pred * y_test)\n",
        "FP = np.sum(y_pred * (1-y_test))\n",
        "FN = np.sum((1-y_pred) * y_test)\n",
        "TN = np.sum((1-y_pred) * (1-y_test))\n",
        "\n",
        "sensitivity = TP/(TP + FN)\n",
        "specificity = TN/(TN + FP)\n",
        "accuracy = (TP + TN)/(TP + TN + FP + FN)\n",
        "\n",
        "print('sensitivity :',sensitivity)\n",
        "print('specificity :',specificity)\n",
        "print('accuracy :',accuracy*100,'%')"
      ],
      "execution_count": null,
      "outputs": [
        {
          "output_type": "stream",
          "name": "stdout",
          "text": [
            "sensitivity : 0.9886363636363636\n",
            "specificity : 0.8846153846153846\n",
            "accuracy : 96.49122807017544 %\n"
          ]
        }
      ]
    },
    {
      "cell_type": "code",
      "metadata": {
        "colab": {
          "base_uri": "https://localhost:8080/"
        },
        "id": "sktddOWxvY-G",
        "outputId": "e9ad3717-84ab-4471-984a-f679dc1a3c23"
      },
      "source": [
        "TN, FN, TP, FP = 0, 0, 0, 0\n",
        "\n",
        "y_pred = np.dot(Normalise(X_test), mini_batch_w_L1)\n",
        "y_pred = sigmoid(y_pred)\n",
        "y_pred[y_pred > 0.5] = 1\n",
        "y_pred[y_pred <= 0.5] = 0\n",
        "\n",
        "TP = np.sum(y_pred * y_test)\n",
        "FP = np.sum(y_pred * (1-y_test))\n",
        "FN = np.sum((1-y_pred) * y_test)\n",
        "TN = np.sum((1-y_pred) * (1-y_test))\n",
        "\n",
        "sensitivity = TP/(TP + FN)\n",
        "specificity = TN/(TN + FP)\n",
        "accuracy = (TP + TN)/(TP + TN + FP + FN)\n",
        "\n",
        "print('sensitivity :',sensitivity)\n",
        "print('specificity :',specificity)\n",
        "print('accuracy :',accuracy*100,'%')"
      ],
      "execution_count": null,
      "outputs": [
        {
          "output_type": "stream",
          "name": "stdout",
          "text": [
            "sensitivity : 1.0\n",
            "specificity : 0.8846153846153846\n",
            "accuracy : 97.36842105263158 %\n"
          ]
        }
      ]
    },
    {
      "cell_type": "markdown",
      "metadata": {
        "id": "z2S6gvJCWcOm"
      },
      "source": [
        "STOCHASTIC GRADIENT DESCENT"
      ]
    },
    {
      "cell_type": "code",
      "metadata": {
        "id": "kgkL9RQnSu3Z"
      },
      "source": [
        "alpha = 0.0001\n",
        "lam = 0.2\n",
        "iters = 4000\n",
        "stochastic_w_L2, J_his_stochastic_L2 = stochastic_gradient_descent_L2(X_norm,y_train,w,alpha,iters, lam)"
      ],
      "execution_count": null,
      "outputs": []
    },
    {
      "cell_type": "code",
      "metadata": {
        "colab": {
          "base_uri": "https://localhost:8080/",
          "height": 265
        },
        "id": "l4RIPkHRTtl7",
        "outputId": "2672ed16-c708-488d-c217-6e506888ce98"
      },
      "source": [
        "plt.plot(range(iters),J_his_stochastic_L2)\n",
        "plt.show()"
      ],
      "execution_count": null,
      "outputs": [
        {
          "output_type": "display_data",
          "data": {
            "image/png": "[encoded data removed]",
            "text/plain": [
              "<Figure size 432x288 with 1 Axes>"
            ]
          },
          "metadata": {
            "needs_background": "light"
          }
        }
      ]
    },
    {
      "cell_type": "code",
      "metadata": {
        "id": "ODELBaX--cfv"
      },
      "source": [
        "alpha = 0.0001\n",
        "lam = 0.2\n",
        "iters = 4000\n",
        "stochastic_w_L1, J_his_stochastic_L1 = stochastic_gradient_descent_L1(X_norm,y_train,w,alpha,iters, lam)"
      ],
      "execution_count": null,
      "outputs": []
    },
    {
      "cell_type": "code",
      "metadata": {
        "colab": {
          "base_uri": "https://localhost:8080/",
          "height": 265
        },
        "id": "XF078fTF-aTW",
        "outputId": "d85458c6-ab49-41b7-937a-0f0f0666dec9"
      },
      "source": [
        "plt.plot(range(iters),J_his_stochastic_L1)\n",
        "plt.show()"
      ],
      "execution_count": null,
      "outputs": [
        {
          "output_type": "display_data",
          "data": {
            "image/png": "[encoded data removed]",
            "text/plain": [
              "<Figure size 432x288 with 1 Axes>"
            ]
          },
          "metadata": {
            "needs_background": "light"
          }
        }
      ]
    },
    {
      "cell_type": "markdown",
      "metadata": {
        "id": "bvUgtgzPXjVI"
      },
      "source": [
        "EVALUATION METRICS"
      ]
    },
    {
      "cell_type": "code",
      "metadata": {
        "colab": {
          "base_uri": "https://localhost:8080/"
        },
        "id": "R5ilSOdyA3dY",
        "outputId": "9931127f-4103-42a5-d12a-f27eab5996cf"
      },
      "source": [
        "TN, FN, TP, FP = 0, 0, 0, 0\n",
        "\n",
        "y_pred = np.dot(Normalise(X_test), stochastic_w_L2)\n",
        "y_pred = sigmoid(y_pred)\n",
        "y_pred[y_pred > 0.5] = 1\n",
        "y_pred[y_pred <= 0.5] = 0\n",
        "\n",
        "TP = np.sum(y_pred * y_test)\n",
        "FP = np.sum(y_pred * (1-y_test))\n",
        "FN = np.sum((1-y_pred) * y_test)\n",
        "TN = np.sum((1-y_pred) * (1-y_test))\n",
        "\n",
        "sensitivity = TP/(TP + FN)\n",
        "specificity = TN/(TN + FP)\n",
        "accuracy = (TP + TN)/(TP + TN + FP + FN)\n",
        "\n",
        "print('sensitivity :',sensitivity)\n",
        "print('specificity :',specificity)\n",
        "print('accuracy :',accuracy*100,'%')"
      ],
      "execution_count": null,
      "outputs": [
        {
          "output_type": "stream",
          "name": "stdout",
          "text": [
            "sensitivity : 1.0\n",
            "specificity : 0.8846153846153846\n",
            "accuracy : 97.36842105263158 %\n"
          ]
        }
      ]
    },
    {
      "cell_type": "code",
      "metadata": {
        "id": "9duuQy77_wKH",
        "colab": {
          "base_uri": "https://localhost:8080/"
        },
        "outputId": "9ff845cf-dd50-4c28-eeb5-9568ad3e569c"
      },
      "source": [
        "TN, FN, TP, FP = 0, 0, 0, 0\n",
        "\n",
        "y_pred = np.dot(Normalise(X_test), stochastic_w_L1)\n",
        "y_pred = sigmoid(y_pred)\n",
        "y_pred[y_pred > 0.5] = 1\n",
        "y_pred[y_pred <= 0.5] = 0\n",
        "\n",
        "TP = np.sum(y_pred * y_test)\n",
        "FP = np.sum(y_pred * (1-y_test))\n",
        "FN = np.sum((1-y_pred) * y_test)\n",
        "TN = np.sum((1-y_pred) * (1-y_test))\n",
        "\n",
        "sensitivity = TP/(TP + FN)\n",
        "specificity = TN/(TN + FP)\n",
        "accuracy = (TP + TN)/(TP + TN + FP + FN)\n",
        "\n",
        "print('sensitivity :',sensitivity)\n",
        "print('specificity :',specificity)\n",
        "print('accuracy :',accuracy*100,'%')"
      ],
      "execution_count": null,
      "outputs": [
        {
          "output_type": "stream",
          "name": "stdout",
          "text": [
            "sensitivity : 1.0\n",
            "specificity : 0.8846153846153846\n",
            "accuracy : 97.36842105263158 %\n"
          ]
        }
      ]
    }
  ]
}