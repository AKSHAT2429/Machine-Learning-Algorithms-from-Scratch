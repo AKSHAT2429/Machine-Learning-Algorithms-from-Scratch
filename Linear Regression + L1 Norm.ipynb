{
  "nbformat": 4,
  "nbformat_minor": 0,
  "metadata": {
    "colab": {
      "name": "0264_Q3.ipynb",
      "provenance": [],
      "collapsed_sections": [],
      "toc_visible": true
    },
    "kernelspec": {
      "name": "python3",
      "display_name": "Python 3"
    },
    "language_info": {
      "name": "python"
    }
  },
  "cells": [
    {
      "cell_type": "markdown",
      "metadata": {
        "id": "zuFufIqTiMAD"
      },
      "source": [
        "IMPORTING IMPORTANT LIBRARIES"
      ]
    },
    {
      "cell_type": "code",
      "metadata": {
        "id": "Hhk9keQOKFV1"
      },
      "source": [
        "import numpy as np\n",
        "import pandas as pd\n",
        "import matplotlib as mpl\n",
        "import matplotlib.pyplot as plt"
      ],
      "execution_count": 1,
      "outputs": []
    },
    {
      "cell_type": "markdown",
      "metadata": {
        "id": "7TDfkLZkiSvG"
      },
      "source": [
        "MOUNTING DRIVE"
      ]
    },
    {
      "cell_type": "code",
      "metadata": {
        "colab": {
          "base_uri": "https://localhost:8080/"
        },
        "id": "XFZ8WSk-Kz5r",
        "outputId": "2f017ba1-477d-4f00-99c2-96820ec4d4ea"
      },
      "source": [
        "from google.colab import drive\n",
        "drive.mount(\"/content/gdrive\")"
      ],
      "execution_count": 2,
      "outputs": [
        {
          "output_type": "stream",
          "name": "stdout",
          "text": [
            "Mounted at /content/gdrive\n"
          ]
        }
      ]
    },
    {
      "cell_type": "markdown",
      "metadata": {
        "id": "UCzzIqh-OLXn"
      },
      "source": [
        "FUNCTION DEFINITIONS"
      ]
    },
    {
      "cell_type": "code",
      "metadata": {
        "id": "cndVlNafLNRl"
      },
      "source": [
        "def cost_function_L1(X,y,w,lam):\n",
        "  hypothesis = np.dot(X,w.T)\n",
        "  J = (1/(2*len(y))) * np.sum((hypothesis - y)**2) + lam*np.sum(w)/2\n",
        "  return J"
      ],
      "execution_count": 3,
      "outputs": []
    },
    {
      "cell_type": "code",
      "metadata": {
        "id": "5XqanV7GLOcV"
      },
      "source": [
        "def batch_gradient_descent(X,y,w,alpha,iters,lam):\n",
        "  cost_history = np.zeros(iters)\n",
        "  for i in range(iters):\n",
        "    hypothesis = np.dot(X,w.T)\n",
        "    w = (1-np.sign(np.sum(w))*alpha*lam/2)*w - (alpha/len(y)) * np.dot(hypothesis - y,X)\n",
        "    cost_history[i] = cost_function_L1(X,y,w,lam)\n",
        "  return w,cost_history"
      ],
      "execution_count": 4,
      "outputs": []
    },
    {
      "cell_type": "code",
      "metadata": {
        "id": "3tj54vlQLOdz"
      },
      "source": [
        "def mini_batch_gradient_descent(X,y,w,alpha,iters,batch_size,lam):\n",
        "  cost_history = np.zeros(iters)\n",
        "  for i in range(iters):\n",
        "    rand_index = np.random.randint(len(y))\n",
        "    ind_x = X[rand_index:rand_index + batch_size]\n",
        "    ind_y = y[rand_index:rand_index + batch_size]\n",
        "    w = (1-np.sign(np.sum(w))*alpha*lam/2)*w - (alpha/batch_size) * (ind_x.T.dot(ind_x.dot(w) - ind_y))\n",
        "    cost_history[i] = cost_function_L1(ind_x,ind_y,w,lam)\n",
        "  return w,cost_history"
      ],
      "execution_count": 5,
      "outputs": []
    },
    {
      "cell_type": "code",
      "metadata": {
        "id": "g3LrlL4mSCGw"
      },
      "source": [
        "def stochastic_gradient_descent(X,y,w,alpha,iters,lam):\n",
        "  cost_history = np.zeros(iters)\n",
        "  for i in range(iters):\n",
        "    rand_index = np.random.randint(len(y))\n",
        "    ind_x = X[rand_index:rand_index + 1]\n",
        "    ind_y = y[rand_index:rand_index + 1]\n",
        "    w = (1-np.sign(np.sum(w))*alpha*lam/2)*w - alpha * (ind_x.T.dot(ind_x.dot(w) - ind_y))\n",
        "    cost_history[i] = cost_function_L1(ind_x,ind_y,w,lam)\n",
        "  return w,cost_history"
      ],
      "execution_count": 6,
      "outputs": []
    },
    {
      "cell_type": "markdown",
      "metadata": {
        "id": "Px7yFKiiOOvX"
      },
      "source": [
        "EVALUATION METRICS"
      ]
    },
    {
      "cell_type": "code",
      "metadata": {
        "id": "semDsM1ll4qO"
      },
      "source": [
        "def mean_squared_error(y_hat,y):\n",
        "  error = (1/len(y)) * np.sum((y_hat - y)**2)\n",
        "  return error"
      ],
      "execution_count": 7,
      "outputs": []
    },
    {
      "cell_type": "code",
      "metadata": {
        "id": "7IVNEM8Il4x-"
      },
      "source": [
        "def mean_absolute_error(y_hat,y):\n",
        "  error = (1/len(y)) * np.sum(abs(y_hat - y))\n",
        "  return error"
      ],
      "execution_count": 8,
      "outputs": []
    },
    {
      "cell_type": "code",
      "metadata": {
        "id": "XxUfJ4jnl45e"
      },
      "source": [
        "def correlation_coefficient(y_hat,y):\n",
        "  coef = np.sum((y_hat - y_hat.mean())*(y - y.mean()))/(np.sqrt(np.sum((y_hat-y_hat.mean())**2))*np.sqrt(np.sum((y-y.mean())**2)))\n",
        "  return coef"
      ],
      "execution_count": 9,
      "outputs": []
    },
    {
      "cell_type": "markdown",
      "metadata": {
        "id": "8bP0mLrwOQZU"
      },
      "source": [
        "DATA PRE-PROCESSING"
      ]
    },
    {
      "cell_type": "code",
      "metadata": {
        "id": "o6GtNF7SLOe3"
      },
      "source": [
        "from random import Random\n",
        "data = pd.read_excel(\"/content/gdrive/MyDrive/NNFL_ASSIGNMENT_1/data_q2_q3.xlsx\")\n",
        "Random(14).shuffle(data.values)\n",
        "Random(14).shuffle(data.values)\n",
        "Random(10).shuffle(data.values)\n",
        "X = data.drop(\"Output\",axis=1)\n",
        "y = data[\"Output\"]\n",
        "m = len(X)\n",
        "X_train = X[:int(m*0.7)]\n",
        "X_val = X[int(m*0.7):int(m*0.8)]\n",
        "X_test = X[int(m*0.8):]\n",
        "y_train = y[:int(m*0.7)]\n",
        "y_val = y[int(m*0.7):int(m*0.8)]\n",
        "y_test = y[int(m*0.8):]"
      ],
      "execution_count": 10,
      "outputs": []
    },
    {
      "cell_type": "code",
      "metadata": {
        "id": "ovf_w75SLOf-"
      },
      "source": [
        "def Normalise(X):\n",
        "  mean = X.mean()\n",
        "  std = np.std(X,axis=0)\n",
        "  m = len(X)\n",
        "  X_norm = (X-mean)/std\n",
        "  X_norm = np.c_[np.ones((m, 1)), X_norm]\n",
        "  return X_norm\n",
        "X_norm = Normalise(X_train)"
      ],
      "execution_count": 11,
      "outputs": []
    },
    {
      "cell_type": "code",
      "metadata": {
        "id": "wY-S1aEsLOhF"
      },
      "source": [
        "w = np.zeros(X_norm.shape[1])"
      ],
      "execution_count": 12,
      "outputs": []
    },
    {
      "cell_type": "markdown",
      "metadata": {
        "id": "n_YNj6fbmz0e"
      },
      "source": [
        "BATCH GRADIENT DESCENT"
      ]
    },
    {
      "cell_type": "code",
      "metadata": {
        "id": "SDENrTjUg97X"
      },
      "source": [
        "def Grid_search_batch(X_train,y_train,X_val,y_val):\n",
        "  Cost_values = []\n",
        "  Alpha = []\n",
        "  Lamda = []\n",
        "  w = np.zeros(X_train.shape[1])\n",
        "  for i in list([0.001,0.0001,0.00001]): \n",
        "    for j in list([0,0.001,0.01,0.1]):\n",
        "      batch_w, J_his_batch = batch_gradient_descent(X_train,y_train,w,i,4000,j)\n",
        "      Cost = cost_function_L1(X_val,y_val,batch_w,j) \n",
        "      Cost_values.append(Cost)\n",
        "      Alpha.append(i)\n",
        "      Lamda.append(j)\n",
        "\n",
        "  Min_cost = min(Cost_values)\n",
        "  Index1 = Cost_values.index(Min_cost)\n",
        "  Alpha_opt = Alpha[Index1]\n",
        "  Lamda_opt = Lamda[Index1]\n",
        "\n",
        "  return Alpha_opt,Lamda_opt"
      ],
      "execution_count": 13,
      "outputs": []
    },
    {
      "cell_type": "code",
      "metadata": {
        "id": "NKaP-J83h8yw"
      },
      "source": [
        "X_val_bias = Normalise(X_val)\n",
        "alpha_batch,lam_batch = Grid_search_batch(X_norm,y_train,X_val_bias, y_val)"
      ],
      "execution_count": 14,
      "outputs": []
    },
    {
      "cell_type": "code",
      "metadata": {
        "id": "GmxCp6jfQCSg"
      },
      "source": [
        "alpha = alpha_batch\n",
        "iters = 4000\n",
        "lam = lam_batch\n",
        "batch_w, J_his_batch = batch_gradient_descent(X_norm,y_train,w,alpha,iters,lam)"
      ],
      "execution_count": 15,
      "outputs": []
    },
    {
      "cell_type": "code",
      "metadata": {
        "colab": {
          "base_uri": "https://localhost:8080/",
          "height": 265
        },
        "id": "YV479Uu7Q8eg",
        "outputId": "4781e51b-5262-47f7-a798-09b39cda32a6"
      },
      "source": [
        "plt.plot(range(iters),J_his_batch)\n",
        "plt.show()"
      ],
      "execution_count": 16,
      "outputs": [
        {
          "output_type": "display_data",
          "data": {
            "image/png": "[encoded data removed]",
            "text/plain": [
              "<Figure size 432x288 with 1 Axes>"
            ]
          },
          "metadata": {
            "needs_background": "light"
          }
        }
      ]
    },
    {
      "cell_type": "code",
      "metadata": {
        "colab": {
          "base_uri": "https://localhost:8080/"
        },
        "id": "aixwM1HxoBmB",
        "outputId": "58641ad5-f699-4223-db11-5d44a94c9cf9"
      },
      "source": [
        "X_test_norm = Normalise(X_test)\n",
        "print('mean_squared_error :',mean_squared_error(np.dot(X_test_norm,batch_w.T),y_test))\n",
        "print('mean_absolute_error :',mean_absolute_error(np.dot(X_test_norm,batch_w.T),y_test))\n",
        "print('correlation_coefficient :',correlation_coefficient(np.dot(X_test_norm,batch_w.T),y_test))"
      ],
      "execution_count": 17,
      "outputs": [
        {
          "output_type": "stream",
          "name": "stdout",
          "text": [
            "mean_squared_error : 0.002975098730606225\n",
            "mean_absolute_error : 0.05157498543962749\n",
            "correlation_coefficient : 0.9345129125328898\n"
          ]
        }
      ]
    },
    {
      "cell_type": "markdown",
      "metadata": {
        "id": "lFmc_qlTm2us"
      },
      "source": [
        "MINI-BATCH GRADIENT DESCENT"
      ]
    },
    {
      "cell_type": "code",
      "metadata": {
        "id": "KG9ktrA7j2Dw"
      },
      "source": [
        "def Grid_search_mini(X_train,y_train,X_val,y_val):\n",
        "  Cost_values = []\n",
        "  Alpha = []\n",
        "  Lamda = []\n",
        "  w = np.zeros(X_train.shape[1])\n",
        "  for i in list([0.001,0.0001,0.00001]): \n",
        "    for j in list([0,0.001,0.01,0.1]):\n",
        "      mini_batch_w, J_his_mini_batch = mini_batch_gradient_descent(X_train,y_train,w,i,4000,10,j)\n",
        "      Cost = cost_function_L1(X_val,y_val,mini_batch_w,j) \n",
        "      Cost_values.append(Cost)\n",
        "      Alpha.append(i)\n",
        "      Lamda.append(j)\n",
        "\n",
        "  Min_cost = min(Cost_values)\n",
        "  Index1 = Cost_values.index(Min_cost)\n",
        "  Alpha_opt = Alpha[Index1]\n",
        "  Lamda_opt = Lamda[Index1]\n",
        "\n",
        "  return Alpha_opt,Lamda_opt"
      ],
      "execution_count": 18,
      "outputs": []
    },
    {
      "cell_type": "code",
      "metadata": {
        "id": "Yn_Tk2bVj2Kb"
      },
      "source": [
        "X_val_bias = Normalise(X_val)"
      ],
      "execution_count": 19,
      "outputs": []
    },
    {
      "cell_type": "code",
      "metadata": {
        "id": "AsutX9hpj2RX"
      },
      "source": [
        "alpha_mini,lam_mini = Grid_search_mini(X_norm,y_train,X_val_bias, y_val)"
      ],
      "execution_count": 20,
      "outputs": []
    },
    {
      "cell_type": "code",
      "metadata": {
        "colab": {
          "base_uri": "https://localhost:8080/"
        },
        "id": "odkTpDVKkuDs",
        "outputId": "0cda8ba6-b884-4682-cc4f-2ee40ea176ad"
      },
      "source": [
        "alpha_mini,lam_mini"
      ],
      "execution_count": 21,
      "outputs": [
        {
          "output_type": "execute_result",
          "data": {
            "text/plain": [
              "(0.001, 0)"
            ]
          },
          "metadata": {},
          "execution_count": 21
        }
      ]
    },
    {
      "cell_type": "code",
      "metadata": {
        "id": "OV-dWwfpRRXr"
      },
      "source": [
        "alpha = alpha_mini\n",
        "iters = 4000\n",
        "batch_size = 10\n",
        "lam = lam_mini\n",
        "mini_batch_w, J_his_mini_batch = mini_batch_gradient_descent(X_norm,y_train,w,alpha,iters,batch_size,lam)"
      ],
      "execution_count": 22,
      "outputs": []
    },
    {
      "cell_type": "code",
      "metadata": {
        "colab": {
          "base_uri": "https://localhost:8080/",
          "height": 265
        },
        "id": "4K3HVVPzSms8",
        "outputId": "4437e505-f237-4938-e430-6819ae6e8101"
      },
      "source": [
        "plt.plot(range(iters),J_his_mini_batch)\n",
        "plt.show()"
      ],
      "execution_count": 23,
      "outputs": [
        {
          "output_type": "display_data",
          "data": {
            "image/png": "[encoded data removed]",
            "text/plain": [
              "<Figure size 432x288 with 1 Axes>"
            ]
          },
          "metadata": {
            "needs_background": "light"
          }
        }
      ]
    },
    {
      "cell_type": "code",
      "metadata": {
        "colab": {
          "base_uri": "https://localhost:8080/"
        },
        "id": "KNc99UE9q5BI",
        "outputId": "73ccfa47-7b7a-4d1b-be33-b7dfaff16cab"
      },
      "source": [
        "X_test_norm = Normalise(X_test)\n",
        "print('mean_squared_error :',mean_squared_error(np.dot(X_test_norm,mini_batch_w.T),y_test))\n",
        "print('mean_absolute_error :',mean_absolute_error(np.dot(X_test_norm,mini_batch_w.T),y_test))\n",
        "print('correlation_coefficient :',correlation_coefficient(np.dot(X_test_norm,mini_batch_w.T),y_test))"
      ],
      "execution_count": 24,
      "outputs": [
        {
          "output_type": "stream",
          "name": "stdout",
          "text": [
            "mean_squared_error : 0.004052413281116602\n",
            "mean_absolute_error : 0.06249916240388191\n",
            "correlation_coefficient : 0.9635845155880802\n"
          ]
        }
      ]
    },
    {
      "cell_type": "markdown",
      "metadata": {
        "id": "9jBmjLB1m664"
      },
      "source": [
        "STOCHASTIC GRADIENT DESCENT"
      ]
    },
    {
      "cell_type": "code",
      "metadata": {
        "id": "LJRnACAoj4Cq"
      },
      "source": [
        "def Grid_search_stochastic(X_train,y_train,X_val,y_val):\n",
        "  Cost_values = []\n",
        "  Alpha = []\n",
        "  Lamda = []\n",
        "  w = np.zeros(X_train.shape[1])\n",
        "  for i in list([0.001,0.0001,0.00001]): \n",
        "    for j in list([0,0.001,0.01,0.1]):\n",
        "      stochastic_w, J_his_stochastic = stochastic_gradient_descent(X_train,y_train,w,i,400,j)\n",
        "      Cost = cost_function_L1(X_val,y_val,stochastic_w,j) \n",
        "      Cost_values.append(Cost)\n",
        "      Alpha.append(i)\n",
        "      Lamda.append(j)\n",
        "\n",
        "  Min_cost = min(Cost_values)\n",
        "  Index1 = Cost_values.index(Min_cost)\n",
        "  Alpha_opt = Alpha[Index1]\n",
        "  Lamda_opt = Lamda[Index1]\n",
        "\n",
        "  return Alpha_opt,Lamda_opt"
      ],
      "execution_count": 25,
      "outputs": []
    },
    {
      "cell_type": "code",
      "metadata": {
        "id": "1ZFs5pHnj4KB"
      },
      "source": [
        "X_val_bias = Normalise(X_val)"
      ],
      "execution_count": 26,
      "outputs": []
    },
    {
      "cell_type": "code",
      "metadata": {
        "id": "5UST7H-gj4Ql"
      },
      "source": [
        "alpha_stochastic,lam_stochastic = Grid_search_stochastic(X_norm,y_train,X_val_bias, y_val)"
      ],
      "execution_count": 27,
      "outputs": []
    },
    {
      "cell_type": "code",
      "metadata": {
        "id": "kgkL9RQnSu3Z"
      },
      "source": [
        "alpha = alpha_stochastic\n",
        "lam = lam_stochastic\n",
        "iters = 4000\n",
        "stochastic_w, J_his_stochastic = stochastic_gradient_descent(X_norm,y_train,w,alpha,iters, lam)"
      ],
      "execution_count": 28,
      "outputs": []
    },
    {
      "cell_type": "code",
      "metadata": {
        "colab": {
          "base_uri": "https://localhost:8080/",
          "height": 265
        },
        "id": "l4RIPkHRTtl7",
        "outputId": "bca55cc4-90a6-43f5-a680-f34a554abca0"
      },
      "source": [
        "plt.plot(range(iters),J_his_stochastic)\n",
        "plt.show()"
      ],
      "execution_count": 29,
      "outputs": [
        {
          "output_type": "display_data",
          "data": {
            "image/png": "[encoded data removed]",
            "text/plain": [
              "<Figure size 432x288 with 1 Axes>"
            ]
          },
          "metadata": {
            "needs_background": "light"
          }
        }
      ]
    },
    {
      "cell_type": "code",
      "metadata": {
        "colab": {
          "base_uri": "https://localhost:8080/"
        },
        "id": "gvMNamh8li8m",
        "outputId": "57cae09c-4976-4935-cd8a-a2bc6737269c"
      },
      "source": [
        "X_test_norm = Normalise(X_test)\n",
        "print('mean_squared_error :',mean_squared_error(np.dot(X_test_norm,stochastic_w.T),y_test))\n",
        "print('mean_absolute_error :',mean_absolute_error(np.dot(X_test_norm,stochastic_w.T),y_test))\n",
        "print('correlation_coefficient :',correlation_coefficient(np.dot(X_test_norm,stochastic_w.T),y_test))"
      ],
      "execution_count": 30,
      "outputs": [
        {
          "output_type": "stream",
          "name": "stdout",
          "text": [
            "mean_squared_error : 0.0029195064803106937\n",
            "mean_absolute_error : 0.05183612179803021\n",
            "correlation_coefficient : 0.9451091329309033\n"
          ]
        }
      ]
    },
    {
      "cell_type": "markdown",
      "metadata": {
        "id": "VhGD4dGcm-16"
      },
      "source": [
        "CHECKING OUTPUT WITH SCKITLEARN"
      ]
    },
    {
      "cell_type": "code",
      "metadata": {
        "id": "TPt2o0KsuANl"
      },
      "source": [
        "from sklearn.linear_model import LinearRegression\n",
        "reg = LinearRegression().fit(X_norm, y_train)\n",
        "a = reg.coef_"
      ],
      "execution_count": 31,
      "outputs": []
    },
    {
      "cell_type": "code",
      "metadata": {
        "colab": {
          "base_uri": "https://localhost:8080/"
        },
        "id": "2mQIicjiuOql",
        "outputId": "16f772c3-a8c9-47e4-d145-fc893e6e95c4"
      },
      "source": [
        "from scipy.stats import pearsonr\n",
        "corr, _ = pearsonr(np.dot(X_test_norm,a.T),y_test)\n",
        "print('Pearsons correlation: %.3f' % corr)"
      ],
      "execution_count": 32,
      "outputs": [
        {
          "output_type": "stream",
          "name": "stdout",
          "text": [
            "Pearsons correlation: 0.938\n"
          ]
        }
      ]
    }
  ]
}